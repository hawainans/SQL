{
  "nbformat": 4,
  "nbformat_minor": 0,
  "metadata": {
    "colab": {
      "provenance": []
    },
    "kernelspec": {
      "name": "python3",
      "display_name": "Python 3"
    },
    "language_info": {
      "name": "python"
    }
  },
  "cells": [
    {
      "cell_type": "markdown",
      "source": [
        "# VARIABLE DALAM PEMROGRAMAN PYTHON\n",
        "\n",
        "Dalam Python, **variabel** dapat diilustrasikan sebagai wadah yang menyimpan sebuah nilai. Dapat digunakan sebagai label untuk data yang disimpan dalam memori komputer, sehingga memungkinkan programmer untuk menyimpan, mengambil, dan memanipulasi data dalam program yang dibuatnya secara mudah dan fleksibel.\n",
        "\n",
        "## Beberapa Poin Penting tentang Variabel:\n",
        "\n",
        "1. **Penamaan**: Sebuah Variabel dapat diberi nama apapun, asalkan dimulai dengan huruf atau garis bawah (`_`) dan diikuti oleh huruf, angka, atau garis bawah. Sebagai contoh, `usia`, `total_nilai`, dan `_sementara` adalah nama-nama variabel yang valid.\n",
        "\n",
        "2. ***Assignment***: Dalam python, sebuah variabel dideklarasikan secara sederhana, dengan menggunakan operator penugasan `=`. Sintaksnya adalah `nama_variabel = nilai`. Contohnya:\n",
        "   ```python\n",
        "   usia = 25      # Assign angka bulat 25 ke variabel usia\n",
        "   nama = \"Alice\" # Assign string \"Alice\" ke variabel nama\n",
        "   pi = 3.14      # Assign angka desimal 3.14 ke variabel pi\n",
        "   ```\n",
        "\n",
        "3. **Tipe Data**: Variabel dapat menyimpan berbagai tipe data, seperti angka, string, daftar, atau struktur yang lebih kompleks. Python secara otomatis mendeteksi tipe data yang di-*assign* ke variabel.\n",
        "\n",
        "4. **Tipe Dinamis**: Python adalah bahasa yang bertipe dinamis, artinya programmer tidak perlu menyatakan tipe variabel saat *assignment*. Selain itu, perubahan tipe data yang disimpan dalam variabel dapat dilakukan cukup dengan memberikan nilai baru. Meskipun demikian, programmer juga dapat melakukan *type hinting* pada saat *assignment* jika memang diperlukan.\n",
        "   ```python\n",
        "   jumlah = 10  # jumlah adalah bilangan bulat\n",
        "   jumlah = \"sepuluh\"  # jumlah sekarang adalah string\n",
        "   # Assignment dengan type hinting\n",
        "   angka_bulat : int = 10\n",
        "   angka_float : float = 3.14\n",
        "   nama_lengkap : str = \"Rikrik Rahadian\"\n",
        "   ```\n",
        "\n",
        "5. **Penggunaan Variabel**: Setelah dilakukan *assignment*, seorang programmer dapat menggunakan variabel di setiap bagian dari programnya untuk menyimpan dan bekerja dengan nilai yang di*assign* ke dalamnya. Misalnya, dicetak ke layar, dipergunakan dalam perhitungan, atau dijadikan sebagai input bagi sebuah fungsi.\n",
        "   ```python\n",
        "   # Assignment\n",
        "   harga = 100\n",
        "   diskon = 0.2\n",
        "   # Perhitungan dan Assignment hasilnya\n",
        "   harga_akhir = harga * (1 - diskon)\n",
        "   # Mencetak hasil perhitungan ke layar\n",
        "   print(harga_akhir)  # Output: 80.0\n",
        "   ```\n",
        "\n",
        "6. **Lingkup (Scope)**: Variabel memiliki lingkup, yang menentukan pada bagian mana dari program--variabel **lokal** atau **global**--variabel tersebut dapat diakses. Variabel yang di-*assign* di dalam sebuah fungsi akan bersifat lokal, sehingga hanya berlaku di dalam fungsi tersebut, sedangkan variabel yang di-*assign* di luar fungsi akan bersifat global dan tersedia untuk diakses dari mana saja dalam kode.\n",
        "\n",
        "---\n",
        "\n",
        "Singkatnya, variabel sangat penting dalam pemrograman Python karena memungkinkan programmer untuk menyimpan, mengelola, dan menggunakan data secara efektif dalam kode yang dituliskannya. Variabel menyediakan cara untuk merujuk nilai dengan menggunakan nama yang diberikan, sehingga program yang dikembangkan menjadi lebih mudah dibaca dan fleksibel."
      ],
      "metadata": {
        "id": "MyP9asrvyQEB"
      }
    },
    {
      "cell_type": "markdown",
      "source": [
        "---\n",
        "# NUMERICAL DATA : `Integer & Float`\n",
        "\n",
        "Python mendukung penggunaan dua tipe data numerik utama, yaitu: **integer** dan **float**.\n",
        "\n",
        "## Integer (`int`)\n",
        "\n",
        "- **Definisi**: Integer adalah bilangan bulat yang tidak memiliki bagian desimal. Integer dapat bernilai positif atau negatif, termasuk nol.\n",
        "- **Contoh**:\n",
        "  ```python\n",
        "  angka_positif = 10\n",
        "  angka_negatif = -5\n",
        "  nol = 0\n",
        "  ```\n",
        "- **Penggunaan**: Integer biasanya digunakan untuk perhitungan yang tidak memerlukan nilai pecahan atau desimal, seperti penghitungan jumlah orang atau benda.\n",
        "\n",
        "## Float (`float`)\n",
        "\n",
        "- **Definisi**: Float adalah bilangan yang memiliki bagian desimal, memungkinkan representasi angka dengan pecahan.\n",
        "- **Contoh**:\n",
        "  ```python\n",
        "  pi = 3.14\n",
        "  suhu = -10.5\n",
        "  saldo = 1000.75\n",
        "  ```\n",
        "- **Penggunaan**: Float digunakan dalam perhitungan yang membutuhkan presisi, seperti pengukuran ilmiah, penghitungan keuangan, atau grafik komputer.\n",
        "\n",
        "## Konversi Tipe Data Numerikal (*Casting*)\n",
        "\n",
        "Python memungkinkan untuk melakukan konversi data dari integer ke float, *vice versa*. Konversi ini dapat dilakukan dengan memasukkan angka ke fungsi `int()` dan/atau `float()`:\n",
        "\n",
        "- **Integer ke Float**:\n",
        "  ```python\n",
        "  float_angka = float(10)  # Output: 10.0\n",
        "  ```\n",
        "\n",
        "- **Float ke Integer** (pembulatan ke bawah):\n",
        "  ```python\n",
        "  int_angka = int(3.99)  # Output: 3\n",
        "  ```\n",
        "\n",
        "Python secara otomatis menangani angka dengan presisi yang baik, tetapi penting untuk diingat bahwa operasi dengan float mungkin menghasilkan hasil yang mendekati nilai sebenarnya karena keterbatasan representasi komputer. Data numerik integer dan float sangat penting dalam pemrograman, memungkinkan programmer untuk melakukan berbagai jenis perhitungan dan analisis data.\n",
        "## Arithmetic Operations\n",
        "Dalam pemrograman Python sangat dimungkinkan untuk melakukan berbagai jenis arithmetic operations, yang dilakukan dengan memanfaatkan berbagai simbol *operators*. Pada bagian berikut di bawah ini disampaikan beberapa operasi arithmetic dasar beserta simbolnya yang dapat dipergunakan dalam pemrosesan data menggunakan Python:\n",
        "\n",
        "1. **Addition (`+`)**: Penjumlahan dua angka.\n",
        "   ```python\n",
        "   result = 5 + 3  # Output: 8\n",
        "   ```\n",
        "2. **Subtraction (`-`)**: Pengurangan angka dari sebuah angka lain.\n",
        "   ```python\n",
        "   result = 5 - 3  # Output: 2\n",
        "   ```\n",
        "3. **Multiplication (`*`)**: Perkalian dua angka.\n",
        "   ```python\n",
        "   result = 5 * 3  # Output: 15\n",
        "   ```\n",
        "4. **Division (`/`)**: Pembagian angka oleh angka lainnya.\n",
        "   ```python\n",
        "   result = 5 / 2  # Output: 2.5\n",
        "   ```\n",
        "5. **Floor Division (`//`)**: Pembagian angka oleh angka lainnya dan hasilnya dibulatkan ke bawah.\n",
        "   ```python\n",
        "   result = 5 // 2  # Output: 2\n",
        "   ```\n",
        "6. **Modulus (`%`)**: Menghitung sisa dari hasil pembagian angka oleh angka lainnya.\n",
        "   ```python\n",
        "   result = 5 % 2  # Output: 1\n",
        "   ```\n",
        "7. **Exponentiation (` ** `)**: Pemangkatan angka.\n",
        "   ```python\n",
        "   result = 5 ** 2  # Output: 25\n",
        "   ```\n",
        "8. **Negation (`-`)**: Merubah nilai sebuah angka menjadi kebalikannya.\n",
        "   ```python\n",
        "   numeric = 5\n",
        "   negation = -numeric # Output: -5\n",
        "   ```\n",
        "9. **Compound Assignment**: Operator yang mengkombinasikan berbagai operator aritmatika di atas dengan operator *assignment* (`=`) untuk melakukan operasi kumulatif dalam satu langkah.\n",
        "   ```python\n",
        "   initial_value = 0\n",
        "   initial_value += 1 # Output: 1\n",
        "   initial_value -= 1 # Output: 0\n",
        "   ```\n",
        "\n",
        "\n",
        "Berbagai operasi di atas memungkinkan program yang disusun dengan berbasis Python untuk melakukan berbagai jenis kalkulasi matematis. Setiap operasi tersebut dipergunakan untuk memanipulasi angka dan dapat diterapkan terhadap baik data berjenis `int` maupun `float`."
      ],
      "metadata": {
        "id": "owoJn72dGP6v"
      }
    },
    {
      "cell_type": "markdown",
      "source": [
        "## Praktek Data Numerical"
      ],
      "metadata": {
        "id": "xhEc2GrR_k1L"
      }
    },
    {
      "cell_type": "markdown",
      "source": [
        "### 1. *Integer*"
      ],
      "metadata": {
        "id": "pJWqCDpK_gbh"
      }
    },
    {
      "cell_type": "code",
      "source": [
        "# Assignment\n",
        "data_integer = 5 # Assign 5 to data_integer"
      ],
      "metadata": {
        "id": "W1iTIm6oAvQX"
      },
      "execution_count": 36,
      "outputs": []
    },
    {
      "cell_type": "code",
      "source": [
        "# Pengecekan tipe data\n",
        "type(data_integer)"
      ],
      "metadata": {
        "id": "2FbuBzrj_n43",
        "colab": {
          "base_uri": "https://localhost:8080/"
        },
        "outputId": "b2a7f2de-3065-4b7e-bd3f-7e2877a6d37f"
      },
      "execution_count": 2,
      "outputs": [
        {
          "output_type": "execute_result",
          "data": {
            "text/plain": [
              "int"
            ]
          },
          "metadata": {},
          "execution_count": 2
        }
      ]
    },
    {
      "cell_type": "code",
      "source": [
        "print(data_integer)"
      ],
      "metadata": {
        "id": "0qvlv0ml8UKd",
        "colab": {
          "base_uri": "https://localhost:8080/"
        },
        "outputId": "0aa024c3-5fe3-4792-a27d-6c1dcc337df5"
      },
      "execution_count": 3,
      "outputs": [
        {
          "output_type": "stream",
          "name": "stdout",
          "text": [
            "5\n"
          ]
        }
      ]
    },
    {
      "cell_type": "code",
      "source": [
        "data_integer"
      ],
      "metadata": {
        "id": "3OT51B6H8a15",
        "colab": {
          "base_uri": "https://localhost:8080/"
        },
        "outputId": "ddf95695-7318-4ecc-dcf7-cad9d6236a7f"
      },
      "execution_count": 6,
      "outputs": [
        {
          "output_type": "execute_result",
          "data": {
            "text/plain": [
              "5"
            ]
          },
          "metadata": {},
          "execution_count": 6
        }
      ]
    },
    {
      "cell_type": "markdown",
      "source": [
        "### 2. *Float*"
      ],
      "metadata": {
        "id": "kmnDA6ajBybh"
      }
    },
    {
      "cell_type": "code",
      "source": [
        "from numpy import pi\n",
        "# Assignment\n",
        "nilai_pi = pi"
      ],
      "metadata": {
        "id": "AnNpIYWdBHSB"
      },
      "execution_count": 37,
      "outputs": []
    },
    {
      "cell_type": "code",
      "source": [
        "# Pengecekan tipe data\n",
        "type(nilai_pi)"
      ],
      "metadata": {
        "id": "UeHpDsPdBTfR",
        "colab": {
          "base_uri": "https://localhost:8080/"
        },
        "outputId": "73cee1b1-0cc6-415f-df5e-6f94672110c4"
      },
      "execution_count": 8,
      "outputs": [
        {
          "output_type": "execute_result",
          "data": {
            "text/plain": [
              "float"
            ]
          },
          "metadata": {},
          "execution_count": 8
        }
      ]
    },
    {
      "cell_type": "code",
      "source": [
        "nilai_pi"
      ],
      "metadata": {
        "id": "vUlcmk8l8_7M",
        "colab": {
          "base_uri": "https://localhost:8080/"
        },
        "outputId": "64f62d57-35d0-46a6-8d04-fc028bcaf09c"
      },
      "execution_count": 38,
      "outputs": [
        {
          "output_type": "execute_result",
          "data": {
            "text/plain": [
              "3.141592653589793"
            ]
          },
          "metadata": {},
          "execution_count": 38
        }
      ]
    },
    {
      "cell_type": "markdown",
      "source": [
        "### 3. *Arithmetic Operations*"
      ],
      "metadata": {
        "id": "FiiP99fXAPuS"
      }
    },
    {
      "cell_type": "code",
      "source": [
        "# Addition\n",
        "addition = data_integer + nilai_pi\n",
        "addition"
      ],
      "metadata": {
        "id": "NVg4-6eFGc6j",
        "colab": {
          "base_uri": "https://localhost:8080/"
        },
        "outputId": "9af250c8-9c4e-4416-c6e4-d39065617f6f"
      },
      "execution_count": 39,
      "outputs": [
        {
          "output_type": "execute_result",
          "data": {
            "text/plain": [
              "8.141592653589793"
            ]
          },
          "metadata": {},
          "execution_count": 39
        }
      ]
    },
    {
      "cell_type": "code",
      "source": [
        "# substraction\n",
        "substraction = data_integer - nilai_pi\n",
        "substraction"
      ],
      "metadata": {
        "id": "G4hHBedpGh7f",
        "colab": {
          "base_uri": "https://localhost:8080/"
        },
        "outputId": "b52cb757-22c2-44d2-83d2-9d670615e577"
      },
      "execution_count": 40,
      "outputs": [
        {
          "output_type": "execute_result",
          "data": {
            "text/plain": [
              "1.8584073464102069"
            ]
          },
          "metadata": {},
          "execution_count": 40
        }
      ]
    },
    {
      "cell_type": "code",
      "source": [
        "# multiplication\n",
        "multiplication = data_integer * nilai_pi\n",
        "multiplication"
      ],
      "metadata": {
        "id": "O_Y2SezVGkkt",
        "colab": {
          "base_uri": "https://localhost:8080/"
        },
        "outputId": "5c3ad2cc-3b1f-4528-83f9-c3af01bc03fa"
      },
      "execution_count": 41,
      "outputs": [
        {
          "output_type": "execute_result",
          "data": {
            "text/plain": [
              "15.707963267948966"
            ]
          },
          "metadata": {},
          "execution_count": 41
        }
      ]
    },
    {
      "cell_type": "code",
      "source": [
        "# division\n",
        "division = data_integer / nilai_pi\n",
        "division"
      ],
      "metadata": {
        "id": "0QafaK3mGw-M",
        "colab": {
          "base_uri": "https://localhost:8080/"
        },
        "outputId": "5559ea2b-b92d-46b6-d68a-98c6429684cd"
      },
      "execution_count": 42,
      "outputs": [
        {
          "output_type": "execute_result",
          "data": {
            "text/plain": [
              "1.5915494309189535"
            ]
          },
          "metadata": {},
          "execution_count": 42
        }
      ]
    },
    {
      "cell_type": "code",
      "source": [
        "# floor division\n",
        "bagi_pembulatan = data_integer // 3\n",
        "bagi_pembulatan"
      ],
      "metadata": {
        "id": "SqByomU2Gx2_",
        "colab": {
          "base_uri": "https://localhost:8080/"
        },
        "outputId": "f9341515-b0c5-46f4-ce66-a8327555e483"
      },
      "execution_count": 43,
      "outputs": [
        {
          "output_type": "execute_result",
          "data": {
            "text/plain": [
              "1"
            ]
          },
          "metadata": {},
          "execution_count": 43
        }
      ]
    },
    {
      "cell_type": "code",
      "source": [
        "# modulus\n",
        "modulo = data_integer % 3\n",
        "modulo"
      ],
      "metadata": {
        "id": "lkGGdugeGy1o",
        "colab": {
          "base_uri": "https://localhost:8080/"
        },
        "outputId": "69319825-7a7a-4a47-f49a-7d83888602f2"
      },
      "execution_count": 44,
      "outputs": [
        {
          "output_type": "execute_result",
          "data": {
            "text/plain": [
              "2"
            ]
          },
          "metadata": {},
          "execution_count": 44
        }
      ]
    },
    {
      "cell_type": "code",
      "source": [
        "# negation\n",
        "negasi = -data_integer\n",
        "negasi"
      ],
      "metadata": {
        "id": "s7TU0DCkG0qk",
        "colab": {
          "base_uri": "https://localhost:8080/"
        },
        "outputId": "27dac1a5-db78-4c87-9ebc-f8e14de399e8"
      },
      "execution_count": 45,
      "outputs": [
        {
          "output_type": "execute_result",
          "data": {
            "text/plain": [
              "-5"
            ]
          },
          "metadata": {},
          "execution_count": 45
        }
      ]
    },
    {
      "cell_type": "code",
      "source": [
        "# exponentiation\n",
        "pangkat = data_integer ** data_integer\n",
        "pangkat"
      ],
      "metadata": {
        "id": "kmNynqbbG2UW",
        "colab": {
          "base_uri": "https://localhost:8080/"
        },
        "outputId": "c1311521-fde0-4be1-9090-52ada38b3bf7"
      },
      "execution_count": 46,
      "outputs": [
        {
          "output_type": "execute_result",
          "data": {
            "text/plain": [
              "3125"
            ]
          },
          "metadata": {},
          "execution_count": 46
        }
      ]
    },
    {
      "cell_type": "code",
      "source": [
        "# Compound Assignment\n",
        "data_inisial = data_integer"
      ],
      "metadata": {
        "id": "2Yo-Bp9zBm2i"
      },
      "execution_count": 47,
      "outputs": []
    },
    {
      "cell_type": "code",
      "source": [
        "# +=\n",
        "data_inisial += 1\n",
        "data_inisial"
      ],
      "metadata": {
        "id": "RceIkl7bqtRD",
        "colab": {
          "base_uri": "https://localhost:8080/"
        },
        "outputId": "db7c8590-9d33-4a75-e2d0-507b60d7b404"
      },
      "execution_count": 48,
      "outputs": [
        {
          "output_type": "execute_result",
          "data": {
            "text/plain": [
              "6"
            ]
          },
          "metadata": {},
          "execution_count": 48
        }
      ]
    },
    {
      "cell_type": "code",
      "source": [
        "# Compund Assignment -\n",
        "data_inisial -= 1\n",
        "data_inisial"
      ],
      "metadata": {
        "id": "XGgHo_l6sQwM",
        "colab": {
          "base_uri": "https://localhost:8080/"
        },
        "outputId": "7d485f04-bbb0-46b4-e9ad-ec51db90aef5"
      },
      "execution_count": 49,
      "outputs": [
        {
          "output_type": "execute_result",
          "data": {
            "text/plain": [
              "5"
            ]
          },
          "metadata": {},
          "execution_count": 49
        }
      ]
    },
    {
      "cell_type": "code",
      "source": [
        "data_integer"
      ],
      "metadata": {
        "id": "aFcI5iKUBQFq",
        "colab": {
          "base_uri": "https://localhost:8080/"
        },
        "outputId": "1c73cb77-acab-4c4d-c444-8100c390ff29"
      },
      "execution_count": 50,
      "outputs": [
        {
          "output_type": "execute_result",
          "data": {
            "text/plain": [
              "5"
            ]
          },
          "metadata": {},
          "execution_count": 50
        }
      ]
    },
    {
      "cell_type": "markdown",
      "source": [
        "___\n",
        "#### 1. PENGENALAN PENGOLAHAN DATA `numeric`"
      ],
      "metadata": {
        "id": "B3pPB6yrk93s"
      }
    },
    {
      "cell_type": "code",
      "source": [
        "# Parsing Data from `csv` file to `DataFrame`\n",
        "# 1. Import modul `pandas`\n",
        "import pandas as pd\n",
        "\n",
        "# 2. Set variabel `file_path`\n",
        "file_path = \"https://storage.googleapis.com/dqlab-dataset/SuperStore.csv\"\n",
        "\n",
        "# 3. Parse data pada file dan assign ke `df_sales`\n",
        "df_sales = pd.read_csv(file_path)\n",
        "\n",
        "# 4. Check isi `df_sales`\n",
        "df_sales.head()"
      ],
      "metadata": {
        "id": "MnQTXcZkBPpD",
        "colab": {
          "base_uri": "https://localhost:8080/",
          "height": 539
        },
        "outputId": "0fc37a74-5e0e-47ec-87fc-ac7e229b6e88"
      },
      "execution_count": 6,
      "outputs": [
        {
          "output_type": "execute_result",
          "data": {
            "text/plain": [
              "         Order_ID Customer_ID  Postal_Code       Product_ID     Sales  \\\n",
              "0  CA-2019-152156    CG-12520        42420  FUR-BO-10001798  261.9600   \n",
              "1  CA-2019-152156    CG-12520        42420  FUR-CH-10000454  731.9400   \n",
              "2  CA-2019-138688    DV-13045        90036  OFF-LA-10000240   14.6200   \n",
              "3  US-2018-108966    SO-20335        33311  FUR-TA-10000577  957.5775   \n",
              "4  US-2018-108966    SO-20335        33311  OFF-ST-10000760   22.3680   \n",
              "\n",
              "   Quantity  Discount    Profit         Category Sub-Category  \\\n",
              "0         2      0.00   41.9136        Furniture    Bookcases   \n",
              "1         3      0.00  219.5820        Furniture       Chairs   \n",
              "2         2      0.00    6.8714  Office Supplies       Labels   \n",
              "3         5      0.45 -383.0310        Furniture       Tables   \n",
              "4         2      0.20    2.5164  Office Supplies      Storage   \n",
              "\n",
              "                                        Product_Name  Order_Date   Ship_Date  \\\n",
              "0                  Bush Somerset Collection Bookcase   11/8/2019  11/11/2019   \n",
              "1  Hon Deluxe Fabric Upholstered Stacking Chairs,...   11/8/2019  11/11/2019   \n",
              "2  Self-Adhesive Address Labels for Typewriters b...   6/12/2019   6/16/2019   \n",
              "3      Bretford CR4500 Series Slim Rectangular Table  10/11/2018  10/18/2018   \n",
              "4                     Eldon Fold 'N Roll Cart System  10/11/2018  10/18/2018   \n",
              "\n",
              "        Ship_Mode    Customer_Name    Segment Country/Region             City  \\\n",
              "0    Second Class      Claire Gute   Consumer  United States        Henderson   \n",
              "1    Second Class      Claire Gute   Consumer  United States        Henderson   \n",
              "2    Second Class  Darrin Van Huff  Corporate  United States      Los Angeles   \n",
              "3  Standard Class   Sean O'Donnell   Consumer  United States  Fort Lauderdale   \n",
              "4  Standard Class   Sean O'Donnell   Consumer  United States  Fort Lauderdale   \n",
              "\n",
              "        State Region  \n",
              "0    Kentucky  South  \n",
              "1    Kentucky  South  \n",
              "2  California   West  \n",
              "3     Florida  South  \n",
              "4     Florida  South  "
            ],
            "text/html": [
              "\n",
              "  <div id=\"df-d8622af2-75c9-4078-a770-0204d8f4af9f\" class=\"colab-df-container\">\n",
              "    <div>\n",
              "<style scoped>\n",
              "    .dataframe tbody tr th:only-of-type {\n",
              "        vertical-align: middle;\n",
              "    }\n",
              "\n",
              "    .dataframe tbody tr th {\n",
              "        vertical-align: top;\n",
              "    }\n",
              "\n",
              "    .dataframe thead th {\n",
              "        text-align: right;\n",
              "    }\n",
              "</style>\n",
              "<table border=\"1\" class=\"dataframe\">\n",
              "  <thead>\n",
              "    <tr style=\"text-align: right;\">\n",
              "      <th></th>\n",
              "      <th>Order_ID</th>\n",
              "      <th>Customer_ID</th>\n",
              "      <th>Postal_Code</th>\n",
              "      <th>Product_ID</th>\n",
              "      <th>Sales</th>\n",
              "      <th>Quantity</th>\n",
              "      <th>Discount</th>\n",
              "      <th>Profit</th>\n",
              "      <th>Category</th>\n",
              "      <th>Sub-Category</th>\n",
              "      <th>Product_Name</th>\n",
              "      <th>Order_Date</th>\n",
              "      <th>Ship_Date</th>\n",
              "      <th>Ship_Mode</th>\n",
              "      <th>Customer_Name</th>\n",
              "      <th>Segment</th>\n",
              "      <th>Country/Region</th>\n",
              "      <th>City</th>\n",
              "      <th>State</th>\n",
              "      <th>Region</th>\n",
              "    </tr>\n",
              "  </thead>\n",
              "  <tbody>\n",
              "    <tr>\n",
              "      <th>0</th>\n",
              "      <td>CA-2019-152156</td>\n",
              "      <td>CG-12520</td>\n",
              "      <td>42420</td>\n",
              "      <td>FUR-BO-10001798</td>\n",
              "      <td>261.9600</td>\n",
              "      <td>2</td>\n",
              "      <td>0.00</td>\n",
              "      <td>41.9136</td>\n",
              "      <td>Furniture</td>\n",
              "      <td>Bookcases</td>\n",
              "      <td>Bush Somerset Collection Bookcase</td>\n",
              "      <td>11/8/2019</td>\n",
              "      <td>11/11/2019</td>\n",
              "      <td>Second Class</td>\n",
              "      <td>Claire Gute</td>\n",
              "      <td>Consumer</td>\n",
              "      <td>United States</td>\n",
              "      <td>Henderson</td>\n",
              "      <td>Kentucky</td>\n",
              "      <td>South</td>\n",
              "    </tr>\n",
              "    <tr>\n",
              "      <th>1</th>\n",
              "      <td>CA-2019-152156</td>\n",
              "      <td>CG-12520</td>\n",
              "      <td>42420</td>\n",
              "      <td>FUR-CH-10000454</td>\n",
              "      <td>731.9400</td>\n",
              "      <td>3</td>\n",
              "      <td>0.00</td>\n",
              "      <td>219.5820</td>\n",
              "      <td>Furniture</td>\n",
              "      <td>Chairs</td>\n",
              "      <td>Hon Deluxe Fabric Upholstered Stacking Chairs,...</td>\n",
              "      <td>11/8/2019</td>\n",
              "      <td>11/11/2019</td>\n",
              "      <td>Second Class</td>\n",
              "      <td>Claire Gute</td>\n",
              "      <td>Consumer</td>\n",
              "      <td>United States</td>\n",
              "      <td>Henderson</td>\n",
              "      <td>Kentucky</td>\n",
              "      <td>South</td>\n",
              "    </tr>\n",
              "    <tr>\n",
              "      <th>2</th>\n",
              "      <td>CA-2019-138688</td>\n",
              "      <td>DV-13045</td>\n",
              "      <td>90036</td>\n",
              "      <td>OFF-LA-10000240</td>\n",
              "      <td>14.6200</td>\n",
              "      <td>2</td>\n",
              "      <td>0.00</td>\n",
              "      <td>6.8714</td>\n",
              "      <td>Office Supplies</td>\n",
              "      <td>Labels</td>\n",
              "      <td>Self-Adhesive Address Labels for Typewriters b...</td>\n",
              "      <td>6/12/2019</td>\n",
              "      <td>6/16/2019</td>\n",
              "      <td>Second Class</td>\n",
              "      <td>Darrin Van Huff</td>\n",
              "      <td>Corporate</td>\n",
              "      <td>United States</td>\n",
              "      <td>Los Angeles</td>\n",
              "      <td>California</td>\n",
              "      <td>West</td>\n",
              "    </tr>\n",
              "    <tr>\n",
              "      <th>3</th>\n",
              "      <td>US-2018-108966</td>\n",
              "      <td>SO-20335</td>\n",
              "      <td>33311</td>\n",
              "      <td>FUR-TA-10000577</td>\n",
              "      <td>957.5775</td>\n",
              "      <td>5</td>\n",
              "      <td>0.45</td>\n",
              "      <td>-383.0310</td>\n",
              "      <td>Furniture</td>\n",
              "      <td>Tables</td>\n",
              "      <td>Bretford CR4500 Series Slim Rectangular Table</td>\n",
              "      <td>10/11/2018</td>\n",
              "      <td>10/18/2018</td>\n",
              "      <td>Standard Class</td>\n",
              "      <td>Sean O'Donnell</td>\n",
              "      <td>Consumer</td>\n",
              "      <td>United States</td>\n",
              "      <td>Fort Lauderdale</td>\n",
              "      <td>Florida</td>\n",
              "      <td>South</td>\n",
              "    </tr>\n",
              "    <tr>\n",
              "      <th>4</th>\n",
              "      <td>US-2018-108966</td>\n",
              "      <td>SO-20335</td>\n",
              "      <td>33311</td>\n",
              "      <td>OFF-ST-10000760</td>\n",
              "      <td>22.3680</td>\n",
              "      <td>2</td>\n",
              "      <td>0.20</td>\n",
              "      <td>2.5164</td>\n",
              "      <td>Office Supplies</td>\n",
              "      <td>Storage</td>\n",
              "      <td>Eldon Fold 'N Roll Cart System</td>\n",
              "      <td>10/11/2018</td>\n",
              "      <td>10/18/2018</td>\n",
              "      <td>Standard Class</td>\n",
              "      <td>Sean O'Donnell</td>\n",
              "      <td>Consumer</td>\n",
              "      <td>United States</td>\n",
              "      <td>Fort Lauderdale</td>\n",
              "      <td>Florida</td>\n",
              "      <td>South</td>\n",
              "    </tr>\n",
              "  </tbody>\n",
              "</table>\n",
              "</div>\n",
              "    <div class=\"colab-df-buttons\">\n",
              "\n",
              "  <div class=\"colab-df-container\">\n",
              "    <button class=\"colab-df-convert\" onclick=\"convertToInteractive('df-d8622af2-75c9-4078-a770-0204d8f4af9f')\"\n",
              "            title=\"Convert this dataframe to an interactive table.\"\n",
              "            style=\"display:none;\">\n",
              "\n",
              "  <svg xmlns=\"http://www.w3.org/2000/svg\" height=\"24px\" viewBox=\"0 -960 960 960\">\n",
              "    <path d=\"M120-120v-720h720v720H120Zm60-500h600v-160H180v160Zm220 220h160v-160H400v160Zm0 220h160v-160H400v160ZM180-400h160v-160H180v160Zm440 0h160v-160H620v160ZM180-180h160v-160H180v160Zm440 0h160v-160H620v160Z\"/>\n",
              "  </svg>\n",
              "    </button>\n",
              "\n",
              "  <style>\n",
              "    .colab-df-container {\n",
              "      display:flex;\n",
              "      gap: 12px;\n",
              "    }\n",
              "\n",
              "    .colab-df-convert {\n",
              "      background-color: #E8F0FE;\n",
              "      border: none;\n",
              "      border-radius: 50%;\n",
              "      cursor: pointer;\n",
              "      display: none;\n",
              "      fill: #1967D2;\n",
              "      height: 32px;\n",
              "      padding: 0 0 0 0;\n",
              "      width: 32px;\n",
              "    }\n",
              "\n",
              "    .colab-df-convert:hover {\n",
              "      background-color: #E2EBFA;\n",
              "      box-shadow: 0px 1px 2px rgba(60, 64, 67, 0.3), 0px 1px 3px 1px rgba(60, 64, 67, 0.15);\n",
              "      fill: #174EA6;\n",
              "    }\n",
              "\n",
              "    .colab-df-buttons div {\n",
              "      margin-bottom: 4px;\n",
              "    }\n",
              "\n",
              "    [theme=dark] .colab-df-convert {\n",
              "      background-color: #3B4455;\n",
              "      fill: #D2E3FC;\n",
              "    }\n",
              "\n",
              "    [theme=dark] .colab-df-convert:hover {\n",
              "      background-color: #434B5C;\n",
              "      box-shadow: 0px 1px 3px 1px rgba(0, 0, 0, 0.15);\n",
              "      filter: drop-shadow(0px 1px 2px rgba(0, 0, 0, 0.3));\n",
              "      fill: #FFFFFF;\n",
              "    }\n",
              "  </style>\n",
              "\n",
              "    <script>\n",
              "      const buttonEl =\n",
              "        document.querySelector('#df-d8622af2-75c9-4078-a770-0204d8f4af9f button.colab-df-convert');\n",
              "      buttonEl.style.display =\n",
              "        google.colab.kernel.accessAllowed ? 'block' : 'none';\n",
              "\n",
              "      async function convertToInteractive(key) {\n",
              "        const element = document.querySelector('#df-d8622af2-75c9-4078-a770-0204d8f4af9f');\n",
              "        const dataTable =\n",
              "          await google.colab.kernel.invokeFunction('convertToInteractive',\n",
              "                                                    [key], {});\n",
              "        if (!dataTable) return;\n",
              "\n",
              "        const docLinkHtml = 'Like what you see? Visit the ' +\n",
              "          '<a target=\"_blank\" href=https://colab.research.google.com/notebooks/data_table.ipynb>data table notebook</a>'\n",
              "          + ' to learn more about interactive tables.';\n",
              "        element.innerHTML = '';\n",
              "        dataTable['output_type'] = 'display_data';\n",
              "        await google.colab.output.renderOutput(dataTable, element);\n",
              "        const docLink = document.createElement('div');\n",
              "        docLink.innerHTML = docLinkHtml;\n",
              "        element.appendChild(docLink);\n",
              "      }\n",
              "    </script>\n",
              "  </div>\n",
              "\n",
              "\n",
              "<div id=\"df-5e5c8007-40ed-45f2-8c59-e64139b82a30\">\n",
              "  <button class=\"colab-df-quickchart\" onclick=\"quickchart('df-5e5c8007-40ed-45f2-8c59-e64139b82a30')\"\n",
              "            title=\"Suggest charts\"\n",
              "            style=\"display:none;\">\n",
              "\n",
              "<svg xmlns=\"http://www.w3.org/2000/svg\" height=\"24px\"viewBox=\"0 0 24 24\"\n",
              "     width=\"24px\">\n",
              "    <g>\n",
              "        <path d=\"M19 3H5c-1.1 0-2 .9-2 2v14c0 1.1.9 2 2 2h14c1.1 0 2-.9 2-2V5c0-1.1-.9-2-2-2zM9 17H7v-7h2v7zm4 0h-2V7h2v10zm4 0h-2v-4h2v4z\"/>\n",
              "    </g>\n",
              "</svg>\n",
              "  </button>\n",
              "\n",
              "<style>\n",
              "  .colab-df-quickchart {\n",
              "      --bg-color: #E8F0FE;\n",
              "      --fill-color: #1967D2;\n",
              "      --hover-bg-color: #E2EBFA;\n",
              "      --hover-fill-color: #174EA6;\n",
              "      --disabled-fill-color: #AAA;\n",
              "      --disabled-bg-color: #DDD;\n",
              "  }\n",
              "\n",
              "  [theme=dark] .colab-df-quickchart {\n",
              "      --bg-color: #3B4455;\n",
              "      --fill-color: #D2E3FC;\n",
              "      --hover-bg-color: #434B5C;\n",
              "      --hover-fill-color: #FFFFFF;\n",
              "      --disabled-bg-color: #3B4455;\n",
              "      --disabled-fill-color: #666;\n",
              "  }\n",
              "\n",
              "  .colab-df-quickchart {\n",
              "    background-color: var(--bg-color);\n",
              "    border: none;\n",
              "    border-radius: 50%;\n",
              "    cursor: pointer;\n",
              "    display: none;\n",
              "    fill: var(--fill-color);\n",
              "    height: 32px;\n",
              "    padding: 0;\n",
              "    width: 32px;\n",
              "  }\n",
              "\n",
              "  .colab-df-quickchart:hover {\n",
              "    background-color: var(--hover-bg-color);\n",
              "    box-shadow: 0 1px 2px rgba(60, 64, 67, 0.3), 0 1px 3px 1px rgba(60, 64, 67, 0.15);\n",
              "    fill: var(--button-hover-fill-color);\n",
              "  }\n",
              "\n",
              "  .colab-df-quickchart-complete:disabled,\n",
              "  .colab-df-quickchart-complete:disabled:hover {\n",
              "    background-color: var(--disabled-bg-color);\n",
              "    fill: var(--disabled-fill-color);\n",
              "    box-shadow: none;\n",
              "  }\n",
              "\n",
              "  .colab-df-spinner {\n",
              "    border: 2px solid var(--fill-color);\n",
              "    border-color: transparent;\n",
              "    border-bottom-color: var(--fill-color);\n",
              "    animation:\n",
              "      spin 1s steps(1) infinite;\n",
              "  }\n",
              "\n",
              "  @keyframes spin {\n",
              "    0% {\n",
              "      border-color: transparent;\n",
              "      border-bottom-color: var(--fill-color);\n",
              "      border-left-color: var(--fill-color);\n",
              "    }\n",
              "    20% {\n",
              "      border-color: transparent;\n",
              "      border-left-color: var(--fill-color);\n",
              "      border-top-color: var(--fill-color);\n",
              "    }\n",
              "    30% {\n",
              "      border-color: transparent;\n",
              "      border-left-color: var(--fill-color);\n",
              "      border-top-color: var(--fill-color);\n",
              "      border-right-color: var(--fill-color);\n",
              "    }\n",
              "    40% {\n",
              "      border-color: transparent;\n",
              "      border-right-color: var(--fill-color);\n",
              "      border-top-color: var(--fill-color);\n",
              "    }\n",
              "    60% {\n",
              "      border-color: transparent;\n",
              "      border-right-color: var(--fill-color);\n",
              "    }\n",
              "    80% {\n",
              "      border-color: transparent;\n",
              "      border-right-color: var(--fill-color);\n",
              "      border-bottom-color: var(--fill-color);\n",
              "    }\n",
              "    90% {\n",
              "      border-color: transparent;\n",
              "      border-bottom-color: var(--fill-color);\n",
              "    }\n",
              "  }\n",
              "</style>\n",
              "\n",
              "  <script>\n",
              "    async function quickchart(key) {\n",
              "      const quickchartButtonEl =\n",
              "        document.querySelector('#' + key + ' button');\n",
              "      quickchartButtonEl.disabled = true;  // To prevent multiple clicks.\n",
              "      quickchartButtonEl.classList.add('colab-df-spinner');\n",
              "      try {\n",
              "        const charts = await google.colab.kernel.invokeFunction(\n",
              "            'suggestCharts', [key], {});\n",
              "      } catch (error) {\n",
              "        console.error('Error during call to suggestCharts:', error);\n",
              "      }\n",
              "      quickchartButtonEl.classList.remove('colab-df-spinner');\n",
              "      quickchartButtonEl.classList.add('colab-df-quickchart-complete');\n",
              "    }\n",
              "    (() => {\n",
              "      let quickchartButtonEl =\n",
              "        document.querySelector('#df-5e5c8007-40ed-45f2-8c59-e64139b82a30 button');\n",
              "      quickchartButtonEl.style.display =\n",
              "        google.colab.kernel.accessAllowed ? 'block' : 'none';\n",
              "    })();\n",
              "  </script>\n",
              "</div>\n",
              "\n",
              "    </div>\n",
              "  </div>\n"
            ],
            "application/vnd.google.colaboratory.intrinsic+json": {
              "type": "dataframe",
              "variable_name": "df_sales",
              "summary": "{\n  \"name\": \"df_sales\",\n  \"rows\": 9994,\n  \"fields\": [\n    {\n      \"column\": \"Order_ID\",\n      \"properties\": {\n        \"dtype\": \"string\",\n        \"num_unique_values\": 5009,\n        \"samples\": [\n          \"CA-2019-120796\",\n          \"CA-2017-141901\",\n          \"CA-2020-101273\"\n        ],\n        \"semantic_type\": \"\",\n        \"description\": \"\"\n      }\n    },\n    {\n      \"column\": \"Customer_ID\",\n      \"properties\": {\n        \"dtype\": \"category\",\n        \"num_unique_values\": 793,\n        \"samples\": [\n          \"DJ-13510\",\n          \"MD-17350\",\n          \"NF-18475\"\n        ],\n        \"semantic_type\": \"\",\n        \"description\": \"\"\n      }\n    },\n    {\n      \"column\": \"Postal_Code\",\n      \"properties\": {\n        \"dtype\": \"number\",\n        \"std\": 32063,\n        \"min\": 1040,\n        \"max\": 99301,\n        \"num_unique_values\": 632,\n        \"samples\": [\n          33178,\n          48073,\n          98059\n        ],\n        \"semantic_type\": \"\",\n        \"description\": \"\"\n      }\n    },\n    {\n      \"column\": \"Product_ID\",\n      \"properties\": {\n        \"dtype\": \"category\",\n        \"num_unique_values\": 1862,\n        \"samples\": [\n          \"TEC-PH-10001580\",\n          \"OFF-BI-10002103\",\n          \"OFF-ST-10000943\"\n        ],\n        \"semantic_type\": \"\",\n        \"description\": \"\"\n      }\n    },\n    {\n      \"column\": \"Sales\",\n      \"properties\": {\n        \"dtype\": \"number\",\n        \"std\": 623.2451005086818,\n        \"min\": 0.444,\n        \"max\": 22638.48,\n        \"num_unique_values\": 5825,\n        \"samples\": [\n          2624.985,\n          84.416,\n          30.28\n        ],\n        \"semantic_type\": \"\",\n        \"description\": \"\"\n      }\n    },\n    {\n      \"column\": \"Quantity\",\n      \"properties\": {\n        \"dtype\": \"number\",\n        \"std\": 2,\n        \"min\": 1,\n        \"max\": 14,\n        \"num_unique_values\": 14,\n        \"samples\": [\n          14,\n          13,\n          2\n        ],\n        \"semantic_type\": \"\",\n        \"description\": \"\"\n      }\n    },\n    {\n      \"column\": \"Discount\",\n      \"properties\": {\n        \"dtype\": \"number\",\n        \"std\": 0.2064519678256984,\n        \"min\": 0.0,\n        \"max\": 0.8,\n        \"num_unique_values\": 12,\n        \"samples\": [\n          0.4,\n          0.1,\n          0.0\n        ],\n        \"semantic_type\": \"\",\n        \"description\": \"\"\n      }\n    },\n    {\n      \"column\": \"Profit\",\n      \"properties\": {\n        \"dtype\": \"number\",\n        \"std\": 234.26010769095757,\n        \"min\": -6599.978,\n        \"max\": 8399.976,\n        \"num_unique_values\": 7287,\n        \"samples\": [\n          -183.6324,\n          1.926,\n          144.3546\n        ],\n        \"semantic_type\": \"\",\n        \"description\": \"\"\n      }\n    },\n    {\n      \"column\": \"Category\",\n      \"properties\": {\n        \"dtype\": \"category\",\n        \"num_unique_values\": 3,\n        \"samples\": [\n          \"Furniture\",\n          \"Office Supplies\",\n          \"Technology\"\n        ],\n        \"semantic_type\": \"\",\n        \"description\": \"\"\n      }\n    },\n    {\n      \"column\": \"Sub-Category\",\n      \"properties\": {\n        \"dtype\": \"category\",\n        \"num_unique_values\": 17,\n        \"samples\": [\n          \"Bookcases\",\n          \"Chairs\",\n          \"Furnishings\"\n        ],\n        \"semantic_type\": \"\",\n        \"description\": \"\"\n      }\n    },\n    {\n      \"column\": \"Product_Name\",\n      \"properties\": {\n        \"dtype\": \"category\",\n        \"num_unique_values\": 1817,\n        \"samples\": [\n          \"Xerox 204\",\n          \"Logitech\\u00a0MX Performance Wireless Mouse\",\n          \"Convenience Packs of Business Envelopes\"\n        ],\n        \"semantic_type\": \"\",\n        \"description\": \"\"\n      }\n    },\n    {\n      \"column\": \"Order_Date\",\n      \"properties\": {\n        \"dtype\": \"object\",\n        \"num_unique_values\": 1236,\n        \"samples\": [\n          \"10/3/2018\",\n          \"7/8/2019\",\n          \"10/24/2020\"\n        ],\n        \"semantic_type\": \"\",\n        \"description\": \"\"\n      }\n    },\n    {\n      \"column\": \"Ship_Date\",\n      \"properties\": {\n        \"dtype\": \"object\",\n        \"num_unique_values\": 1334,\n        \"samples\": [\n          \"8/13/2019\",\n          \"4/21/2017\",\n          \"11/1/2017\"\n        ],\n        \"semantic_type\": \"\",\n        \"description\": \"\"\n      }\n    },\n    {\n      \"column\": \"Ship_Mode\",\n      \"properties\": {\n        \"dtype\": \"category\",\n        \"num_unique_values\": 4,\n        \"samples\": [\n          \"Standard Class\",\n          \"Same Day\",\n          \"Second Class\"\n        ],\n        \"semantic_type\": \"\",\n        \"description\": \"\"\n      }\n    },\n    {\n      \"column\": \"Customer_Name\",\n      \"properties\": {\n        \"dtype\": \"category\",\n        \"num_unique_values\": 793,\n        \"samples\": [\n          \"Don Jones\",\n          \"Maribeth Dona\",\n          \"Neil Franz\\u00f6sisch\"\n        ],\n        \"semantic_type\": \"\",\n        \"description\": \"\"\n      }\n    },\n    {\n      \"column\": \"Segment\",\n      \"properties\": {\n        \"dtype\": \"category\",\n        \"num_unique_values\": 3,\n        \"samples\": [\n          \"Consumer\",\n          \"Corporate\",\n          \"Home Office\"\n        ],\n        \"semantic_type\": \"\",\n        \"description\": \"\"\n      }\n    },\n    {\n      \"column\": \"Country/Region\",\n      \"properties\": {\n        \"dtype\": \"category\",\n        \"num_unique_values\": 1,\n        \"samples\": [\n          \"United States\"\n        ],\n        \"semantic_type\": \"\",\n        \"description\": \"\"\n      }\n    },\n    {\n      \"column\": \"City\",\n      \"properties\": {\n        \"dtype\": \"category\",\n        \"num_unique_values\": 531,\n        \"samples\": [\n          \"Laurel\"\n        ],\n        \"semantic_type\": \"\",\n        \"description\": \"\"\n      }\n    },\n    {\n      \"column\": \"State\",\n      \"properties\": {\n        \"dtype\": \"category\",\n        \"num_unique_values\": 49,\n        \"samples\": [\n          \"Delaware\"\n        ],\n        \"semantic_type\": \"\",\n        \"description\": \"\"\n      }\n    },\n    {\n      \"column\": \"Region\",\n      \"properties\": {\n        \"dtype\": \"category\",\n        \"num_unique_values\": 4,\n        \"samples\": [\n          \"West\"\n        ],\n        \"semantic_type\": \"\",\n        \"description\": \"\"\n      }\n    }\n  ]\n}"
            }
          },
          "metadata": {},
          "execution_count": 6
        }
      ]
    },
    {
      "cell_type": "code",
      "source": [
        "# Menghitung Harga per unit dari setiap transaksi (Sales / Quantity)\n",
        "df_sales['Price'] = df_sales['Sales'] / df_sales['Quantity']\n",
        "\n",
        "# Menghitung `Net_Sales` (Sales * (1 - Discount))\n",
        "df_sales['Net_Sales'] = df_sales['Sales']*(1-df_sales['Discount'])\n",
        "\n",
        "# Check isi `df_sales`\n",
        "df_sales.head()"
      ],
      "metadata": {
        "id": "xC7bkbuElE83",
        "colab": {
          "base_uri": "https://localhost:8080/",
          "height": 360
        },
        "outputId": "16b0e34a-ea58-417d-8664-b548d1dd3ede"
      },
      "execution_count": 15,
      "outputs": [
        {
          "output_type": "execute_result",
          "data": {
            "text/plain": [
              "         Order_ID Customer_ID  Postal_Code       Product_ID     Sales  \\\n",
              "0  CA-2019-152156    CG-12520        42420  FUR-BO-10001798  261.9600   \n",
              "1  CA-2019-152156    CG-12520        42420  FUR-CH-10000454  731.9400   \n",
              "2  CA-2019-138688    DV-13045        90036  OFF-LA-10000240   14.6200   \n",
              "3  US-2018-108966    SO-20335        33311  FUR-TA-10000577  957.5775   \n",
              "4  US-2018-108966    SO-20335        33311  OFF-ST-10000760   22.3680   \n",
              "\n",
              "   Quantity  Discount    Profit         Category Sub-Category  ...  \\\n",
              "0         2      0.00   41.9136        Furniture    Bookcases  ...   \n",
              "1         3      0.00  219.5820        Furniture       Chairs  ...   \n",
              "2         2      0.00    6.8714  Office Supplies       Labels  ...   \n",
              "3         5      0.45 -383.0310        Furniture       Tables  ...   \n",
              "4         2      0.20    2.5164  Office Supplies      Storage  ...   \n",
              "\n",
              "    Ship_Date       Ship_Mode    Customer_Name    Segment Country/Region  \\\n",
              "0  11/11/2019    Second Class      Claire Gute   Consumer  United States   \n",
              "1  11/11/2019    Second Class      Claire Gute   Consumer  United States   \n",
              "2   6/16/2019    Second Class  Darrin Van Huff  Corporate  United States   \n",
              "3  10/18/2018  Standard Class   Sean O'Donnell   Consumer  United States   \n",
              "4  10/18/2018  Standard Class   Sean O'Donnell   Consumer  United States   \n",
              "\n",
              "              City       State Region     Price   Net_Sales  \n",
              "0        Henderson    Kentucky  South  130.9800  261.960000  \n",
              "1        Henderson    Kentucky  South  243.9800  731.940000  \n",
              "2      Los Angeles  California   West    7.3100   14.620000  \n",
              "3  Fort Lauderdale     Florida  South  191.5155  526.667625  \n",
              "4  Fort Lauderdale     Florida  South   11.1840   17.894400  \n",
              "\n",
              "[5 rows x 22 columns]"
            ],
            "text/html": [
              "\n",
              "  <div id=\"df-59a786a6-3099-412a-9a9b-dc4d0132c1f1\" class=\"colab-df-container\">\n",
              "    <div>\n",
              "<style scoped>\n",
              "    .dataframe tbody tr th:only-of-type {\n",
              "        vertical-align: middle;\n",
              "    }\n",
              "\n",
              "    .dataframe tbody tr th {\n",
              "        vertical-align: top;\n",
              "    }\n",
              "\n",
              "    .dataframe thead th {\n",
              "        text-align: right;\n",
              "    }\n",
              "</style>\n",
              "<table border=\"1\" class=\"dataframe\">\n",
              "  <thead>\n",
              "    <tr style=\"text-align: right;\">\n",
              "      <th></th>\n",
              "      <th>Order_ID</th>\n",
              "      <th>Customer_ID</th>\n",
              "      <th>Postal_Code</th>\n",
              "      <th>Product_ID</th>\n",
              "      <th>Sales</th>\n",
              "      <th>Quantity</th>\n",
              "      <th>Discount</th>\n",
              "      <th>Profit</th>\n",
              "      <th>Category</th>\n",
              "      <th>Sub-Category</th>\n",
              "      <th>...</th>\n",
              "      <th>Ship_Date</th>\n",
              "      <th>Ship_Mode</th>\n",
              "      <th>Customer_Name</th>\n",
              "      <th>Segment</th>\n",
              "      <th>Country/Region</th>\n",
              "      <th>City</th>\n",
              "      <th>State</th>\n",
              "      <th>Region</th>\n",
              "      <th>Price</th>\n",
              "      <th>Net_Sales</th>\n",
              "    </tr>\n",
              "  </thead>\n",
              "  <tbody>\n",
              "    <tr>\n",
              "      <th>0</th>\n",
              "      <td>CA-2019-152156</td>\n",
              "      <td>CG-12520</td>\n",
              "      <td>42420</td>\n",
              "      <td>FUR-BO-10001798</td>\n",
              "      <td>261.9600</td>\n",
              "      <td>2</td>\n",
              "      <td>0.00</td>\n",
              "      <td>41.9136</td>\n",
              "      <td>Furniture</td>\n",
              "      <td>Bookcases</td>\n",
              "      <td>...</td>\n",
              "      <td>11/11/2019</td>\n",
              "      <td>Second Class</td>\n",
              "      <td>Claire Gute</td>\n",
              "      <td>Consumer</td>\n",
              "      <td>United States</td>\n",
              "      <td>Henderson</td>\n",
              "      <td>Kentucky</td>\n",
              "      <td>South</td>\n",
              "      <td>130.9800</td>\n",
              "      <td>261.960000</td>\n",
              "    </tr>\n",
              "    <tr>\n",
              "      <th>1</th>\n",
              "      <td>CA-2019-152156</td>\n",
              "      <td>CG-12520</td>\n",
              "      <td>42420</td>\n",
              "      <td>FUR-CH-10000454</td>\n",
              "      <td>731.9400</td>\n",
              "      <td>3</td>\n",
              "      <td>0.00</td>\n",
              "      <td>219.5820</td>\n",
              "      <td>Furniture</td>\n",
              "      <td>Chairs</td>\n",
              "      <td>...</td>\n",
              "      <td>11/11/2019</td>\n",
              "      <td>Second Class</td>\n",
              "      <td>Claire Gute</td>\n",
              "      <td>Consumer</td>\n",
              "      <td>United States</td>\n",
              "      <td>Henderson</td>\n",
              "      <td>Kentucky</td>\n",
              "      <td>South</td>\n",
              "      <td>243.9800</td>\n",
              "      <td>731.940000</td>\n",
              "    </tr>\n",
              "    <tr>\n",
              "      <th>2</th>\n",
              "      <td>CA-2019-138688</td>\n",
              "      <td>DV-13045</td>\n",
              "      <td>90036</td>\n",
              "      <td>OFF-LA-10000240</td>\n",
              "      <td>14.6200</td>\n",
              "      <td>2</td>\n",
              "      <td>0.00</td>\n",
              "      <td>6.8714</td>\n",
              "      <td>Office Supplies</td>\n",
              "      <td>Labels</td>\n",
              "      <td>...</td>\n",
              "      <td>6/16/2019</td>\n",
              "      <td>Second Class</td>\n",
              "      <td>Darrin Van Huff</td>\n",
              "      <td>Corporate</td>\n",
              "      <td>United States</td>\n",
              "      <td>Los Angeles</td>\n",
              "      <td>California</td>\n",
              "      <td>West</td>\n",
              "      <td>7.3100</td>\n",
              "      <td>14.620000</td>\n",
              "    </tr>\n",
              "    <tr>\n",
              "      <th>3</th>\n",
              "      <td>US-2018-108966</td>\n",
              "      <td>SO-20335</td>\n",
              "      <td>33311</td>\n",
              "      <td>FUR-TA-10000577</td>\n",
              "      <td>957.5775</td>\n",
              "      <td>5</td>\n",
              "      <td>0.45</td>\n",
              "      <td>-383.0310</td>\n",
              "      <td>Furniture</td>\n",
              "      <td>Tables</td>\n",
              "      <td>...</td>\n",
              "      <td>10/18/2018</td>\n",
              "      <td>Standard Class</td>\n",
              "      <td>Sean O'Donnell</td>\n",
              "      <td>Consumer</td>\n",
              "      <td>United States</td>\n",
              "      <td>Fort Lauderdale</td>\n",
              "      <td>Florida</td>\n",
              "      <td>South</td>\n",
              "      <td>191.5155</td>\n",
              "      <td>526.667625</td>\n",
              "    </tr>\n",
              "    <tr>\n",
              "      <th>4</th>\n",
              "      <td>US-2018-108966</td>\n",
              "      <td>SO-20335</td>\n",
              "      <td>33311</td>\n",
              "      <td>OFF-ST-10000760</td>\n",
              "      <td>22.3680</td>\n",
              "      <td>2</td>\n",
              "      <td>0.20</td>\n",
              "      <td>2.5164</td>\n",
              "      <td>Office Supplies</td>\n",
              "      <td>Storage</td>\n",
              "      <td>...</td>\n",
              "      <td>10/18/2018</td>\n",
              "      <td>Standard Class</td>\n",
              "      <td>Sean O'Donnell</td>\n",
              "      <td>Consumer</td>\n",
              "      <td>United States</td>\n",
              "      <td>Fort Lauderdale</td>\n",
              "      <td>Florida</td>\n",
              "      <td>South</td>\n",
              "      <td>11.1840</td>\n",
              "      <td>17.894400</td>\n",
              "    </tr>\n",
              "  </tbody>\n",
              "</table>\n",
              "<p>5 rows × 22 columns</p>\n",
              "</div>\n",
              "    <div class=\"colab-df-buttons\">\n",
              "\n",
              "  <div class=\"colab-df-container\">\n",
              "    <button class=\"colab-df-convert\" onclick=\"convertToInteractive('df-59a786a6-3099-412a-9a9b-dc4d0132c1f1')\"\n",
              "            title=\"Convert this dataframe to an interactive table.\"\n",
              "            style=\"display:none;\">\n",
              "\n",
              "  <svg xmlns=\"http://www.w3.org/2000/svg\" height=\"24px\" viewBox=\"0 -960 960 960\">\n",
              "    <path d=\"M120-120v-720h720v720H120Zm60-500h600v-160H180v160Zm220 220h160v-160H400v160Zm0 220h160v-160H400v160ZM180-400h160v-160H180v160Zm440 0h160v-160H620v160ZM180-180h160v-160H180v160Zm440 0h160v-160H620v160Z\"/>\n",
              "  </svg>\n",
              "    </button>\n",
              "\n",
              "  <style>\n",
              "    .colab-df-container {\n",
              "      display:flex;\n",
              "      gap: 12px;\n",
              "    }\n",
              "\n",
              "    .colab-df-convert {\n",
              "      background-color: #E8F0FE;\n",
              "      border: none;\n",
              "      border-radius: 50%;\n",
              "      cursor: pointer;\n",
              "      display: none;\n",
              "      fill: #1967D2;\n",
              "      height: 32px;\n",
              "      padding: 0 0 0 0;\n",
              "      width: 32px;\n",
              "    }\n",
              "\n",
              "    .colab-df-convert:hover {\n",
              "      background-color: #E2EBFA;\n",
              "      box-shadow: 0px 1px 2px rgba(60, 64, 67, 0.3), 0px 1px 3px 1px rgba(60, 64, 67, 0.15);\n",
              "      fill: #174EA6;\n",
              "    }\n",
              "\n",
              "    .colab-df-buttons div {\n",
              "      margin-bottom: 4px;\n",
              "    }\n",
              "\n",
              "    [theme=dark] .colab-df-convert {\n",
              "      background-color: #3B4455;\n",
              "      fill: #D2E3FC;\n",
              "    }\n",
              "\n",
              "    [theme=dark] .colab-df-convert:hover {\n",
              "      background-color: #434B5C;\n",
              "      box-shadow: 0px 1px 3px 1px rgba(0, 0, 0, 0.15);\n",
              "      filter: drop-shadow(0px 1px 2px rgba(0, 0, 0, 0.3));\n",
              "      fill: #FFFFFF;\n",
              "    }\n",
              "  </style>\n",
              "\n",
              "    <script>\n",
              "      const buttonEl =\n",
              "        document.querySelector('#df-59a786a6-3099-412a-9a9b-dc4d0132c1f1 button.colab-df-convert');\n",
              "      buttonEl.style.display =\n",
              "        google.colab.kernel.accessAllowed ? 'block' : 'none';\n",
              "\n",
              "      async function convertToInteractive(key) {\n",
              "        const element = document.querySelector('#df-59a786a6-3099-412a-9a9b-dc4d0132c1f1');\n",
              "        const dataTable =\n",
              "          await google.colab.kernel.invokeFunction('convertToInteractive',\n",
              "                                                    [key], {});\n",
              "        if (!dataTable) return;\n",
              "\n",
              "        const docLinkHtml = 'Like what you see? Visit the ' +\n",
              "          '<a target=\"_blank\" href=https://colab.research.google.com/notebooks/data_table.ipynb>data table notebook</a>'\n",
              "          + ' to learn more about interactive tables.';\n",
              "        element.innerHTML = '';\n",
              "        dataTable['output_type'] = 'display_data';\n",
              "        await google.colab.output.renderOutput(dataTable, element);\n",
              "        const docLink = document.createElement('div');\n",
              "        docLink.innerHTML = docLinkHtml;\n",
              "        element.appendChild(docLink);\n",
              "      }\n",
              "    </script>\n",
              "  </div>\n",
              "\n",
              "\n",
              "<div id=\"df-98c7851e-f01a-4b3b-a6bc-c88ce49c6d0a\">\n",
              "  <button class=\"colab-df-quickchart\" onclick=\"quickchart('df-98c7851e-f01a-4b3b-a6bc-c88ce49c6d0a')\"\n",
              "            title=\"Suggest charts\"\n",
              "            style=\"display:none;\">\n",
              "\n",
              "<svg xmlns=\"http://www.w3.org/2000/svg\" height=\"24px\"viewBox=\"0 0 24 24\"\n",
              "     width=\"24px\">\n",
              "    <g>\n",
              "        <path d=\"M19 3H5c-1.1 0-2 .9-2 2v14c0 1.1.9 2 2 2h14c1.1 0 2-.9 2-2V5c0-1.1-.9-2-2-2zM9 17H7v-7h2v7zm4 0h-2V7h2v10zm4 0h-2v-4h2v4z\"/>\n",
              "    </g>\n",
              "</svg>\n",
              "  </button>\n",
              "\n",
              "<style>\n",
              "  .colab-df-quickchart {\n",
              "      --bg-color: #E8F0FE;\n",
              "      --fill-color: #1967D2;\n",
              "      --hover-bg-color: #E2EBFA;\n",
              "      --hover-fill-color: #174EA6;\n",
              "      --disabled-fill-color: #AAA;\n",
              "      --disabled-bg-color: #DDD;\n",
              "  }\n",
              "\n",
              "  [theme=dark] .colab-df-quickchart {\n",
              "      --bg-color: #3B4455;\n",
              "      --fill-color: #D2E3FC;\n",
              "      --hover-bg-color: #434B5C;\n",
              "      --hover-fill-color: #FFFFFF;\n",
              "      --disabled-bg-color: #3B4455;\n",
              "      --disabled-fill-color: #666;\n",
              "  }\n",
              "\n",
              "  .colab-df-quickchart {\n",
              "    background-color: var(--bg-color);\n",
              "    border: none;\n",
              "    border-radius: 50%;\n",
              "    cursor: pointer;\n",
              "    display: none;\n",
              "    fill: var(--fill-color);\n",
              "    height: 32px;\n",
              "    padding: 0;\n",
              "    width: 32px;\n",
              "  }\n",
              "\n",
              "  .colab-df-quickchart:hover {\n",
              "    background-color: var(--hover-bg-color);\n",
              "    box-shadow: 0 1px 2px rgba(60, 64, 67, 0.3), 0 1px 3px 1px rgba(60, 64, 67, 0.15);\n",
              "    fill: var(--button-hover-fill-color);\n",
              "  }\n",
              "\n",
              "  .colab-df-quickchart-complete:disabled,\n",
              "  .colab-df-quickchart-complete:disabled:hover {\n",
              "    background-color: var(--disabled-bg-color);\n",
              "    fill: var(--disabled-fill-color);\n",
              "    box-shadow: none;\n",
              "  }\n",
              "\n",
              "  .colab-df-spinner {\n",
              "    border: 2px solid var(--fill-color);\n",
              "    border-color: transparent;\n",
              "    border-bottom-color: var(--fill-color);\n",
              "    animation:\n",
              "      spin 1s steps(1) infinite;\n",
              "  }\n",
              "\n",
              "  @keyframes spin {\n",
              "    0% {\n",
              "      border-color: transparent;\n",
              "      border-bottom-color: var(--fill-color);\n",
              "      border-left-color: var(--fill-color);\n",
              "    }\n",
              "    20% {\n",
              "      border-color: transparent;\n",
              "      border-left-color: var(--fill-color);\n",
              "      border-top-color: var(--fill-color);\n",
              "    }\n",
              "    30% {\n",
              "      border-color: transparent;\n",
              "      border-left-color: var(--fill-color);\n",
              "      border-top-color: var(--fill-color);\n",
              "      border-right-color: var(--fill-color);\n",
              "    }\n",
              "    40% {\n",
              "      border-color: transparent;\n",
              "      border-right-color: var(--fill-color);\n",
              "      border-top-color: var(--fill-color);\n",
              "    }\n",
              "    60% {\n",
              "      border-color: transparent;\n",
              "      border-right-color: var(--fill-color);\n",
              "    }\n",
              "    80% {\n",
              "      border-color: transparent;\n",
              "      border-right-color: var(--fill-color);\n",
              "      border-bottom-color: var(--fill-color);\n",
              "    }\n",
              "    90% {\n",
              "      border-color: transparent;\n",
              "      border-bottom-color: var(--fill-color);\n",
              "    }\n",
              "  }\n",
              "</style>\n",
              "\n",
              "  <script>\n",
              "    async function quickchart(key) {\n",
              "      const quickchartButtonEl =\n",
              "        document.querySelector('#' + key + ' button');\n",
              "      quickchartButtonEl.disabled = true;  // To prevent multiple clicks.\n",
              "      quickchartButtonEl.classList.add('colab-df-spinner');\n",
              "      try {\n",
              "        const charts = await google.colab.kernel.invokeFunction(\n",
              "            'suggestCharts', [key], {});\n",
              "      } catch (error) {\n",
              "        console.error('Error during call to suggestCharts:', error);\n",
              "      }\n",
              "      quickchartButtonEl.classList.remove('colab-df-spinner');\n",
              "      quickchartButtonEl.classList.add('colab-df-quickchart-complete');\n",
              "    }\n",
              "    (() => {\n",
              "      let quickchartButtonEl =\n",
              "        document.querySelector('#df-98c7851e-f01a-4b3b-a6bc-c88ce49c6d0a button');\n",
              "      quickchartButtonEl.style.display =\n",
              "        google.colab.kernel.accessAllowed ? 'block' : 'none';\n",
              "    })();\n",
              "  </script>\n",
              "</div>\n",
              "\n",
              "    </div>\n",
              "  </div>\n"
            ],
            "application/vnd.google.colaboratory.intrinsic+json": {
              "type": "dataframe",
              "variable_name": "df_sales"
            }
          },
          "metadata": {},
          "execution_count": 15
        }
      ]
    },
    {
      "cell_type": "markdown",
      "source": [
        "---\n",
        "# BOOLEAN DATA\n",
        "## Pengertian\n",
        "Tipe data Booleann(`bool`) adalah tipe data yang hanya memiliki dua nilai: `True` (benar) dan `False` (salah). Di Python, tipe data ini sangat berguna untuk operasi logika dan kontrol alur program.\n",
        "\n",
        "## Penggunaan\n",
        "1. **Kondisi dan Percabangan**: Boolean sering digunakan dalam pernyataan kondisional seperti `if`, `else`, dan `elif` untuk menentukan alur eksekusi program berdasarkan kondisi tertentu.\n",
        "\n",
        "   ```python\n",
        "   is_raining = True\n",
        "   if is_raining:\n",
        "       print(\"Bawa payung!\")\n",
        "   else:\n",
        "       print(\"Tidak perlu payung.\")\n",
        "   ```\n",
        "\n",
        "2. **Operator Logika**: Boolean digunakan dengan operator logika seperti `and`, `or`, dan `not` untuk menggabungkan beberapa kondisi.\n",
        "\n",
        "   ```python\n",
        "   is_sunny = False\n",
        "   is_windy = True\n",
        "\n",
        "   if is_sunny and not is_windy:\n",
        "       print(\"Bagus untuk piknik.\")\n",
        "   else:\n",
        "       print(\"Lebih baik di dalam rumah.\")\n",
        "   ```\n",
        "\n",
        "3. **Konversi Tipe**: Nilai lain di Python dapat dikonversi menjadi Boolean menggunakan fungsi `bool()`. Misalnya, angka `0` dan string kosong `''` akan dikonversi menjadi `False`, sedangkan angka bukan nol dan string non-kosong akan dikonversi menjadi `True`.\n",
        "\n",
        "   ```python\n",
        "   print(bool(0))      # Output: False\n",
        "   print(bool(1))      # Output: True\n",
        "   print(bool(\"\"))     # Output: False\n",
        "   print(bool(\"Halo\")) # Output: True\n",
        "   ```\n",
        "\n",
        "## Kesimpulan\n",
        "Tipe data Boolean di Python sangat penting untuk kontrol alur program dan evaluasi logika. Memahami cara kerja dan penggunaannya akan membantu dalam penulisan kode yang lebih efisien dan efektif."
      ],
      "metadata": {
        "id": "lI_d6EQWHQN-"
      }
    },
    {
      "cell_type": "markdown",
      "source": [
        "## Praktek Boolean Data"
      ],
      "metadata": {
        "id": "L58bWXuftSMc"
      }
    },
    {
      "cell_type": "code",
      "source": [
        "# cara penulisan nilai True yang benar\n",
        "True"
      ],
      "metadata": {
        "id": "F5I2uZtCG4my",
        "colab": {
          "base_uri": "https://localhost:8080/"
        },
        "outputId": "27161e92-6e83-43af-dac7-1de8bc659c5f"
      },
      "execution_count": 16,
      "outputs": [
        {
          "output_type": "execute_result",
          "data": {
            "text/plain": [
              "True"
            ]
          },
          "metadata": {},
          "execution_count": 16
        }
      ]
    },
    {
      "cell_type": "code",
      "source": [
        "# cara penulisan nilai False yang benar\n",
        "False"
      ],
      "metadata": {
        "id": "fGqLEQWgHUV3",
        "colab": {
          "base_uri": "https://localhost:8080/"
        },
        "outputId": "fe4bd44d-d063-41ed-dd2c-a1a79aefcc14"
      },
      "execution_count": 17,
      "outputs": [
        {
          "output_type": "execute_result",
          "data": {
            "text/plain": [
              "False"
            ]
          },
          "metadata": {},
          "execution_count": 17
        }
      ]
    },
    {
      "cell_type": "code",
      "source": [
        "# penulisan true yang salah, colab akan menganggap 'true' sebagai nama variabel\n",
        "true"
      ],
      "metadata": {
        "id": "qOWemTWVHVCv",
        "colab": {
          "base_uri": "https://localhost:8080/",
          "height": 158
        },
        "outputId": "a25c6cde-ad61-4092-ba73-29c57b4c26aa"
      },
      "execution_count": 19,
      "outputs": [
        {
          "output_type": "error",
          "ename": "NameError",
          "evalue": "name 'true' is not defined",
          "traceback": [
            "\u001b[0;31m---------------------------------------------------------------------------\u001b[0m",
            "\u001b[0;31mNameError\u001b[0m                                 Traceback (most recent call last)",
            "\u001b[0;32m<ipython-input-19-e0b06cd5b964>\u001b[0m in \u001b[0;36m<cell line: 2>\u001b[0;34m()\u001b[0m\n\u001b[1;32m      1\u001b[0m \u001b[0;31m# penulisan true yang salah, colab akan menganggap 'true' sebagai nama variabel\u001b[0m\u001b[0;34m\u001b[0m\u001b[0;34m\u001b[0m\u001b[0m\n\u001b[0;32m----> 2\u001b[0;31m \u001b[0mtrue\u001b[0m\u001b[0;34m\u001b[0m\u001b[0;34m\u001b[0m\u001b[0m\n\u001b[0m",
            "\u001b[0;31mNameError\u001b[0m: name 'true' is not defined"
          ]
        }
      ]
    },
    {
      "cell_type": "markdown",
      "source": [
        "### Operasi Logika"
      ],
      "metadata": {
        "id": "QKKha9YkiVOY"
      }
    },
    {
      "cell_type": "markdown",
      "source": [
        "#### 1. Operator `and` [&]"
      ],
      "metadata": {
        "id": "4v2sFhRKiff3"
      }
    },
    {
      "cell_type": "code",
      "source": [
        "# kondisi yang dihubungkan dengan operator and akan bernilai benar jika semua kondisi benar\n",
        "True and True"
      ],
      "metadata": {
        "id": "7s8uP4fRHVwK",
        "colab": {
          "base_uri": "https://localhost:8080/"
        },
        "outputId": "619b932e-e900-4261-effa-9649f8fa06a2"
      },
      "execution_count": 20,
      "outputs": [
        {
          "output_type": "execute_result",
          "data": {
            "text/plain": [
              "True"
            ]
          },
          "metadata": {},
          "execution_count": 20
        }
      ]
    },
    {
      "cell_type": "code",
      "source": [
        "True & True"
      ],
      "metadata": {
        "id": "smD2XcENtFAF",
        "colab": {
          "base_uri": "https://localhost:8080/"
        },
        "outputId": "4c732424-b458-430d-a82f-a40a3e89b4c9"
      },
      "execution_count": 21,
      "outputs": [
        {
          "output_type": "execute_result",
          "data": {
            "text/plain": [
              "True"
            ]
          },
          "metadata": {},
          "execution_count": 21
        }
      ]
    },
    {
      "cell_type": "code",
      "source": [
        "True and False"
      ],
      "metadata": {
        "id": "ad0i85PVHoxX",
        "colab": {
          "base_uri": "https://localhost:8080/"
        },
        "outputId": "67c1963c-0fce-41af-cfd5-5129f01ca1d6"
      },
      "execution_count": 22,
      "outputs": [
        {
          "output_type": "execute_result",
          "data": {
            "text/plain": [
              "False"
            ]
          },
          "metadata": {},
          "execution_count": 22
        }
      ]
    },
    {
      "cell_type": "code",
      "source": [
        "False and False"
      ],
      "metadata": {
        "id": "ZhrMXk5NHqvm",
        "colab": {
          "base_uri": "https://localhost:8080/"
        },
        "outputId": "e98ddb01-7459-4862-912a-b882cbe589b8"
      },
      "execution_count": 23,
      "outputs": [
        {
          "output_type": "execute_result",
          "data": {
            "text/plain": [
              "False"
            ]
          },
          "metadata": {},
          "execution_count": 23
        }
      ]
    },
    {
      "cell_type": "code",
      "source": [
        "# contoh: seseorang akan mendapatkan pekerjaan jika rajin dan upgrade skill\n",
        "is_rajin = True\n",
        "is_upgrade_skill = True\n",
        "\n",
        "get_job = is_rajin and is_upgrade_skill\n",
        "\n",
        "get_job"
      ],
      "metadata": {
        "id": "lM2b5IqbHuYh",
        "colab": {
          "base_uri": "https://localhost:8080/"
        },
        "outputId": "7708b4d9-556e-408a-ba48-1894edb9c6d0"
      },
      "execution_count": 24,
      "outputs": [
        {
          "output_type": "execute_result",
          "data": {
            "text/plain": [
              "True"
            ]
          },
          "metadata": {},
          "execution_count": 24
        }
      ]
    },
    {
      "cell_type": "markdown",
      "source": [
        "#### 2. Operator `or` [ | ]"
      ],
      "metadata": {
        "id": "FtvLYy8OinXn"
      }
    },
    {
      "cell_type": "code",
      "source": [
        "# kondisi yang dihubungkan dengan operator or akan bernilai benar jika salah satu kondisi benar\n",
        "True or True"
      ],
      "metadata": {
        "id": "fXFmyC35IFu8",
        "colab": {
          "base_uri": "https://localhost:8080/"
        },
        "outputId": "e31d0b12-42f0-438d-bb08-127620bd00c4"
      },
      "execution_count": 25,
      "outputs": [
        {
          "output_type": "execute_result",
          "data": {
            "text/plain": [
              "True"
            ]
          },
          "metadata": {},
          "execution_count": 25
        }
      ]
    },
    {
      "cell_type": "code",
      "source": [
        "True | True"
      ],
      "metadata": {
        "id": "oF6YmfD5tU-h",
        "colab": {
          "base_uri": "https://localhost:8080/"
        },
        "outputId": "8c2047c7-dac0-476b-c08f-8e6b42531730"
      },
      "execution_count": 26,
      "outputs": [
        {
          "output_type": "execute_result",
          "data": {
            "text/plain": [
              "True"
            ]
          },
          "metadata": {},
          "execution_count": 26
        }
      ]
    },
    {
      "cell_type": "code",
      "source": [
        "True or False"
      ],
      "metadata": {
        "id": "g3tVyz5YIOuv",
        "colab": {
          "base_uri": "https://localhost:8080/"
        },
        "outputId": "1b00cba4-4cd6-4210-de3d-c8c00dd6672c"
      },
      "execution_count": 27,
      "outputs": [
        {
          "output_type": "execute_result",
          "data": {
            "text/plain": [
              "True"
            ]
          },
          "metadata": {},
          "execution_count": 27
        }
      ]
    },
    {
      "cell_type": "code",
      "source": [
        "False or False"
      ],
      "metadata": {
        "id": "SOs9oXZ1IPxs",
        "colab": {
          "base_uri": "https://localhost:8080/"
        },
        "outputId": "107a2fd3-b7c4-4843-95e4-118e8cc60de9"
      },
      "execution_count": 28,
      "outputs": [
        {
          "output_type": "execute_result",
          "data": {
            "text/plain": [
              "False"
            ]
          },
          "metadata": {},
          "execution_count": 28
        }
      ]
    },
    {
      "cell_type": "code",
      "source": [
        "# seseorang dikatakan dari fakultas mipa jika dia dari jurusan matematika atau dari jurusan IPA\n",
        "is_matematika = True\n",
        "is_ipa = False\n",
        "\n",
        "is_mipa = is_matematika or is_ipa\n",
        "\n",
        "is_mipa"
      ],
      "metadata": {
        "id": "liq7SYsiIRGj",
        "colab": {
          "base_uri": "https://localhost:8080/"
        },
        "outputId": "75a2b641-b7c9-464b-e03b-d1b1f6b2d2e9"
      },
      "execution_count": 29,
      "outputs": [
        {
          "output_type": "execute_result",
          "data": {
            "text/plain": [
              "True"
            ]
          },
          "metadata": {},
          "execution_count": 29
        }
      ]
    },
    {
      "cell_type": "markdown",
      "source": [
        "### Operasi Arithmetic\n",
        "Operasi numerik dapat berlaku untuk data Boolean, karena pada dasarnya True memiliki nilai 1 dan False memiliki nilai 0."
      ],
      "metadata": {
        "id": "fF7-XM-DjOG3"
      }
    },
    {
      "cell_type": "code",
      "source": [
        "True + True"
      ],
      "metadata": {
        "id": "FbWAT8KcLN1C",
        "colab": {
          "base_uri": "https://localhost:8080/"
        },
        "outputId": "6a1ccfb4-2440-4fb2-bf62-a963d1dcf5d2"
      },
      "execution_count": 30,
      "outputs": [
        {
          "output_type": "execute_result",
          "data": {
            "text/plain": [
              "2"
            ]
          },
          "metadata": {},
          "execution_count": 30
        }
      ]
    },
    {
      "cell_type": "code",
      "source": [
        "False + False"
      ],
      "metadata": {
        "id": "B75xGNHILP9f",
        "colab": {
          "base_uri": "https://localhost:8080/"
        },
        "outputId": "c2709ffc-eb22-4067-c065-dc416b2ca96b"
      },
      "execution_count": 31,
      "outputs": [
        {
          "output_type": "execute_result",
          "data": {
            "text/plain": [
              "0"
            ]
          },
          "metadata": {},
          "execution_count": 31
        }
      ]
    },
    {
      "cell_type": "code",
      "source": [
        "3 * True"
      ],
      "metadata": {
        "id": "OAToqm3OLSd7",
        "colab": {
          "base_uri": "https://localhost:8080/"
        },
        "outputId": "390eb57a-96ff-4822-c46a-e906f1948103"
      },
      "execution_count": 32,
      "outputs": [
        {
          "output_type": "execute_result",
          "data": {
            "text/plain": [
              "3"
            ]
          },
          "metadata": {},
          "execution_count": 32
        }
      ]
    },
    {
      "cell_type": "code",
      "source": [
        "float(True)"
      ],
      "metadata": {
        "id": "aJir-PJVLeqW",
        "colab": {
          "base_uri": "https://localhost:8080/"
        },
        "outputId": "78482f10-ed06-4be2-ecfe-4d153ae8e50a"
      },
      "execution_count": 33,
      "outputs": [
        {
          "output_type": "execute_result",
          "data": {
            "text/plain": [
              "1.0"
            ]
          },
          "metadata": {},
          "execution_count": 33
        }
      ]
    },
    {
      "cell_type": "code",
      "source": [
        "float(False)"
      ],
      "metadata": {
        "id": "_0F9wIOgLgdm",
        "colab": {
          "base_uri": "https://localhost:8080/"
        },
        "outputId": "67d225a9-16e9-43c0-ec26-b5e8201ed6d0"
      },
      "execution_count": 34,
      "outputs": [
        {
          "output_type": "execute_result",
          "data": {
            "text/plain": [
              "0.0"
            ]
          },
          "metadata": {},
          "execution_count": 34
        }
      ]
    },
    {
      "cell_type": "markdown",
      "source": [
        "### Operasi Perbandingan\n",
        "Operasi perbandingan dilakukan menggunakan operator:\n",
        "- '>' lebih dari\n",
        "- '<' kurang dari\n",
        "- '>=' lebih dari atau sama dengan\n",
        "- '<=' kurang dari atau sama dengan\n",
        "- '==' sama dengan\n",
        "- '!=' tidak sama dengan\n",
        "\n",
        "operasi perbandingan akan menghasilkan True atau False"
      ],
      "metadata": {
        "id": "_XdG6oXhKmcc"
      }
    },
    {
      "cell_type": "code",
      "source": [
        "# Lebih dari\n",
        "data_integer > nilai_pi"
      ],
      "metadata": {
        "id": "R1udm4zmK-yw",
        "colab": {
          "base_uri": "https://localhost:8080/",
          "height": 158
        },
        "outputId": "28b4c362-f802-4785-b430-145cd2d73cc2"
      },
      "execution_count": 35,
      "outputs": [
        {
          "output_type": "error",
          "ename": "NameError",
          "evalue": "name 'data_integer' is not defined",
          "traceback": [
            "\u001b[0;31m---------------------------------------------------------------------------\u001b[0m",
            "\u001b[0;31mNameError\u001b[0m                                 Traceback (most recent call last)",
            "\u001b[0;32m<ipython-input-35-cf2e6bc2ebce>\u001b[0m in \u001b[0;36m<cell line: 2>\u001b[0;34m()\u001b[0m\n\u001b[1;32m      1\u001b[0m \u001b[0;31m# Lebih dari\u001b[0m\u001b[0;34m\u001b[0m\u001b[0;34m\u001b[0m\u001b[0m\n\u001b[0;32m----> 2\u001b[0;31m \u001b[0mdata_integer\u001b[0m \u001b[0;34m>\u001b[0m \u001b[0mnilai_pi\u001b[0m\u001b[0;34m\u001b[0m\u001b[0;34m\u001b[0m\u001b[0m\n\u001b[0m",
            "\u001b[0;31mNameError\u001b[0m: name 'data_integer' is not defined"
          ]
        }
      ]
    },
    {
      "cell_type": "code",
      "source": [
        "#Kurang dari\n",
        "data_integer < nilai_pi"
      ],
      "metadata": {
        "id": "sIJozRMmK_5O",
        "colab": {
          "base_uri": "https://localhost:8080/"
        },
        "outputId": "9fef3d2c-5c44-4e2e-d548-7bc65b48f51a"
      },
      "execution_count": 51,
      "outputs": [
        {
          "output_type": "execute_result",
          "data": {
            "text/plain": [
              "False"
            ]
          },
          "metadata": {},
          "execution_count": 51
        }
      ]
    },
    {
      "cell_type": "code",
      "source": [
        "# Sama dengan\n",
        "data_integer == nilai_pi"
      ],
      "metadata": {
        "id": "iRD-OX9dLA9z",
        "colab": {
          "base_uri": "https://localhost:8080/"
        },
        "outputId": "215fad41-ea20-4e4a-a6c5-e77951f93ca2"
      },
      "execution_count": 52,
      "outputs": [
        {
          "output_type": "execute_result",
          "data": {
            "text/plain": [
              "False"
            ]
          },
          "metadata": {},
          "execution_count": 52
        }
      ]
    },
    {
      "cell_type": "code",
      "source": [
        "# Tidak sama dengan\n",
        "data_integer != nilai_pi"
      ],
      "metadata": {
        "id": "v2ValuEeLC8P",
        "colab": {
          "base_uri": "https://localhost:8080/"
        },
        "outputId": "45807adb-bd29-49e3-d37a-bb0577c96ce9"
      },
      "execution_count": 53,
      "outputs": [
        {
          "output_type": "execute_result",
          "data": {
            "text/plain": [
              "True"
            ]
          },
          "metadata": {},
          "execution_count": 53
        }
      ]
    },
    {
      "cell_type": "markdown",
      "source": [
        "___\n",
        "#### 2. PENGENALAN DATA FILTERING\n",
        "\n",
        "Dalam Pengolahan data menggunakan python, data bertipe `boolean` biasanya digunakan untuk melakukan proses filtering rows yang akan ditampilkan dari sebuah dataset."
      ],
      "metadata": {
        "id": "SsLHCTCBAfDj"
      }
    },
    {
      "cell_type": "code",
      "source": [
        "# Melakukan identifikasi apakah setiap elemen kolom `State` berisi 'Kentucky'\n",
        "df_sales['State']=='Kentucky'"
      ],
      "metadata": {
        "id": "r5XzBMvpCPHR",
        "colab": {
          "base_uri": "https://localhost:8080/",
          "height": 459
        },
        "outputId": "5bc53237-a9e3-46eb-b97c-6a6a662b271e"
      },
      "execution_count": 55,
      "outputs": [
        {
          "output_type": "execute_result",
          "data": {
            "text/plain": [
              "0        True\n",
              "1        True\n",
              "2       False\n",
              "3       False\n",
              "4       False\n",
              "        ...  \n",
              "9989    False\n",
              "9990    False\n",
              "9991    False\n",
              "9992    False\n",
              "9993    False\n",
              "Name: State, Length: 9994, dtype: bool"
            ],
            "text/html": [
              "<div>\n",
              "<style scoped>\n",
              "    .dataframe tbody tr th:only-of-type {\n",
              "        vertical-align: middle;\n",
              "    }\n",
              "\n",
              "    .dataframe tbody tr th {\n",
              "        vertical-align: top;\n",
              "    }\n",
              "\n",
              "    .dataframe thead th {\n",
              "        text-align: right;\n",
              "    }\n",
              "</style>\n",
              "<table border=\"1\" class=\"dataframe\">\n",
              "  <thead>\n",
              "    <tr style=\"text-align: right;\">\n",
              "      <th></th>\n",
              "      <th>State</th>\n",
              "    </tr>\n",
              "  </thead>\n",
              "  <tbody>\n",
              "    <tr>\n",
              "      <th>0</th>\n",
              "      <td>True</td>\n",
              "    </tr>\n",
              "    <tr>\n",
              "      <th>1</th>\n",
              "      <td>True</td>\n",
              "    </tr>\n",
              "    <tr>\n",
              "      <th>2</th>\n",
              "      <td>False</td>\n",
              "    </tr>\n",
              "    <tr>\n",
              "      <th>3</th>\n",
              "      <td>False</td>\n",
              "    </tr>\n",
              "    <tr>\n",
              "      <th>4</th>\n",
              "      <td>False</td>\n",
              "    </tr>\n",
              "    <tr>\n",
              "      <th>...</th>\n",
              "      <td>...</td>\n",
              "    </tr>\n",
              "    <tr>\n",
              "      <th>9989</th>\n",
              "      <td>False</td>\n",
              "    </tr>\n",
              "    <tr>\n",
              "      <th>9990</th>\n",
              "      <td>False</td>\n",
              "    </tr>\n",
              "    <tr>\n",
              "      <th>9991</th>\n",
              "      <td>False</td>\n",
              "    </tr>\n",
              "    <tr>\n",
              "      <th>9992</th>\n",
              "      <td>False</td>\n",
              "    </tr>\n",
              "    <tr>\n",
              "      <th>9993</th>\n",
              "      <td>False</td>\n",
              "    </tr>\n",
              "  </tbody>\n",
              "</table>\n",
              "<p>9994 rows × 1 columns</p>\n",
              "</div><br><label><b>dtype:</b> bool</label>"
            ]
          },
          "metadata": {},
          "execution_count": 55
        }
      ]
    },
    {
      "cell_type": "code",
      "source": [
        "# Menerapkan filter ke DataFrame\n",
        "df_sales[df_sales['State']=='Kentucky']"
      ],
      "metadata": {
        "id": "VmCFQWw6CkXM",
        "colab": {
          "base_uri": "https://localhost:8080/",
          "height": 635
        },
        "outputId": "0fde5335-b2ac-414f-fe8b-feb71e39d1d9"
      },
      "execution_count": 56,
      "outputs": [
        {
          "output_type": "execute_result",
          "data": {
            "text/plain": [
              "            Order_ID Customer_ID  Postal_Code       Product_ID   Sales  \\\n",
              "0     CA-2019-152156    CG-12520        42420  FUR-BO-10001798  261.96   \n",
              "1     CA-2019-152156    CG-12520        42420  FUR-CH-10000454  731.94   \n",
              "418   CA-2020-154816    VB-21745        40475  OFF-PA-10003845    5.78   \n",
              "538   CA-2018-134894    DK-12985        42420  OFF-AP-10001271  152.94   \n",
              "539   CA-2018-134894    DK-12985        42420  FUR-CH-10002647  283.92   \n",
              "...              ...         ...          ...              ...     ...   \n",
              "9333  CA-2020-127726    SS-20410        40324  OFF-FA-10000992   14.20   \n",
              "9462  US-2020-109610    BS-11590        40214  FUR-CH-10001854  701.96   \n",
              "9785  CA-2018-155635    ME-17725        40214  OFF-BI-10000962   48.81   \n",
              "9911  US-2017-157231    RP-19855        40475  OFF-BI-10002852  115.36   \n",
              "9960  CA-2020-141446    CL-12700        41042  TEC-AC-10002305   18.00   \n",
              "\n",
              "      Quantity  Discount    Profit         Category Sub-Category  ...  \\\n",
              "0            2       0.0   41.9136        Furniture    Bookcases  ...   \n",
              "1            3       0.0  219.5820        Furniture       Chairs  ...   \n",
              "418          1       0.0    2.8322  Office Supplies        Paper  ...   \n",
              "538          3       0.0   41.2938  Office Supplies   Appliances  ...   \n",
              "539          4       0.0   70.9800        Furniture       Chairs  ...   \n",
              "...        ...       ...       ...              ...          ...  ...   \n",
              "9333         4       0.0    6.6740  Office Supplies    Fasteners  ...   \n",
              "9462         2       0.0  168.4704        Furniture       Chairs  ...   \n",
              "9785         3       0.0   23.9169  Office Supplies      Binders  ...   \n",
              "9911         7       0.0   56.5264  Office Supplies      Binders  ...   \n",
              "9960         1       0.0    3.2400       Technology  Accessories  ...   \n",
              "\n",
              "       Ship_Date       Ship_Mode     Customer_Name      Segment  \\\n",
              "0     11/11/2019    Second Class       Claire Gute     Consumer   \n",
              "1     11/11/2019    Second Class       Claire Gute     Consumer   \n",
              "418   11/10/2020  Standard Class  Victoria Brennan    Corporate   \n",
              "538   12/11/2018  Standard Class    Darren Koutras     Consumer   \n",
              "539   12/11/2018  Standard Class    Darren Koutras     Consumer   \n",
              "...          ...             ...               ...          ...   \n",
              "9333   9/13/2020    Second Class   Shahid Shariari     Consumer   \n",
              "9462  11/30/2020    Second Class     Brendan Sweed    Corporate   \n",
              "9785   5/13/2018  Standard Class         Max Engle     Consumer   \n",
              "9911    4/9/2017  Standard Class          Roy Phan    Corporate   \n",
              "9960   9/18/2020    Second Class      Craig Leslie  Home Office   \n",
              "\n",
              "     Country/Region        City     State Region   Price Net_Sales  \n",
              "0     United States   Henderson  Kentucky  South  130.98    261.96  \n",
              "1     United States   Henderson  Kentucky  South  243.98    731.94  \n",
              "418   United States    Richmond  Kentucky  South    5.78      5.78  \n",
              "538   United States   Henderson  Kentucky  South   50.98    152.94  \n",
              "539   United States   Henderson  Kentucky  South   70.98    283.92  \n",
              "...             ...         ...       ...    ...     ...       ...  \n",
              "9333  United States  Georgetown  Kentucky  South    3.55     14.20  \n",
              "9462  United States  Louisville  Kentucky  South  350.98    701.96  \n",
              "9785  United States  Louisville  Kentucky  South   16.27     48.81  \n",
              "9911  United States    Richmond  Kentucky  South   16.48    115.36  \n",
              "9960  United States    Florence  Kentucky  South   18.00     18.00  \n",
              "\n",
              "[139 rows x 22 columns]"
            ],
            "text/html": [
              "\n",
              "  <div id=\"df-cef3e3dc-a52c-4a3d-a5fc-4163eca566ae\" class=\"colab-df-container\">\n",
              "    <div>\n",
              "<style scoped>\n",
              "    .dataframe tbody tr th:only-of-type {\n",
              "        vertical-align: middle;\n",
              "    }\n",
              "\n",
              "    .dataframe tbody tr th {\n",
              "        vertical-align: top;\n",
              "    }\n",
              "\n",
              "    .dataframe thead th {\n",
              "        text-align: right;\n",
              "    }\n",
              "</style>\n",
              "<table border=\"1\" class=\"dataframe\">\n",
              "  <thead>\n",
              "    <tr style=\"text-align: right;\">\n",
              "      <th></th>\n",
              "      <th>Order_ID</th>\n",
              "      <th>Customer_ID</th>\n",
              "      <th>Postal_Code</th>\n",
              "      <th>Product_ID</th>\n",
              "      <th>Sales</th>\n",
              "      <th>Quantity</th>\n",
              "      <th>Discount</th>\n",
              "      <th>Profit</th>\n",
              "      <th>Category</th>\n",
              "      <th>Sub-Category</th>\n",
              "      <th>...</th>\n",
              "      <th>Ship_Date</th>\n",
              "      <th>Ship_Mode</th>\n",
              "      <th>Customer_Name</th>\n",
              "      <th>Segment</th>\n",
              "      <th>Country/Region</th>\n",
              "      <th>City</th>\n",
              "      <th>State</th>\n",
              "      <th>Region</th>\n",
              "      <th>Price</th>\n",
              "      <th>Net_Sales</th>\n",
              "    </tr>\n",
              "  </thead>\n",
              "  <tbody>\n",
              "    <tr>\n",
              "      <th>0</th>\n",
              "      <td>CA-2019-152156</td>\n",
              "      <td>CG-12520</td>\n",
              "      <td>42420</td>\n",
              "      <td>FUR-BO-10001798</td>\n",
              "      <td>261.96</td>\n",
              "      <td>2</td>\n",
              "      <td>0.0</td>\n",
              "      <td>41.9136</td>\n",
              "      <td>Furniture</td>\n",
              "      <td>Bookcases</td>\n",
              "      <td>...</td>\n",
              "      <td>11/11/2019</td>\n",
              "      <td>Second Class</td>\n",
              "      <td>Claire Gute</td>\n",
              "      <td>Consumer</td>\n",
              "      <td>United States</td>\n",
              "      <td>Henderson</td>\n",
              "      <td>Kentucky</td>\n",
              "      <td>South</td>\n",
              "      <td>130.98</td>\n",
              "      <td>261.96</td>\n",
              "    </tr>\n",
              "    <tr>\n",
              "      <th>1</th>\n",
              "      <td>CA-2019-152156</td>\n",
              "      <td>CG-12520</td>\n",
              "      <td>42420</td>\n",
              "      <td>FUR-CH-10000454</td>\n",
              "      <td>731.94</td>\n",
              "      <td>3</td>\n",
              "      <td>0.0</td>\n",
              "      <td>219.5820</td>\n",
              "      <td>Furniture</td>\n",
              "      <td>Chairs</td>\n",
              "      <td>...</td>\n",
              "      <td>11/11/2019</td>\n",
              "      <td>Second Class</td>\n",
              "      <td>Claire Gute</td>\n",
              "      <td>Consumer</td>\n",
              "      <td>United States</td>\n",
              "      <td>Henderson</td>\n",
              "      <td>Kentucky</td>\n",
              "      <td>South</td>\n",
              "      <td>243.98</td>\n",
              "      <td>731.94</td>\n",
              "    </tr>\n",
              "    <tr>\n",
              "      <th>418</th>\n",
              "      <td>CA-2020-154816</td>\n",
              "      <td>VB-21745</td>\n",
              "      <td>40475</td>\n",
              "      <td>OFF-PA-10003845</td>\n",
              "      <td>5.78</td>\n",
              "      <td>1</td>\n",
              "      <td>0.0</td>\n",
              "      <td>2.8322</td>\n",
              "      <td>Office Supplies</td>\n",
              "      <td>Paper</td>\n",
              "      <td>...</td>\n",
              "      <td>11/10/2020</td>\n",
              "      <td>Standard Class</td>\n",
              "      <td>Victoria Brennan</td>\n",
              "      <td>Corporate</td>\n",
              "      <td>United States</td>\n",
              "      <td>Richmond</td>\n",
              "      <td>Kentucky</td>\n",
              "      <td>South</td>\n",
              "      <td>5.78</td>\n",
              "      <td>5.78</td>\n",
              "    </tr>\n",
              "    <tr>\n",
              "      <th>538</th>\n",
              "      <td>CA-2018-134894</td>\n",
              "      <td>DK-12985</td>\n",
              "      <td>42420</td>\n",
              "      <td>OFF-AP-10001271</td>\n",
              "      <td>152.94</td>\n",
              "      <td>3</td>\n",
              "      <td>0.0</td>\n",
              "      <td>41.2938</td>\n",
              "      <td>Office Supplies</td>\n",
              "      <td>Appliances</td>\n",
              "      <td>...</td>\n",
              "      <td>12/11/2018</td>\n",
              "      <td>Standard Class</td>\n",
              "      <td>Darren Koutras</td>\n",
              "      <td>Consumer</td>\n",
              "      <td>United States</td>\n",
              "      <td>Henderson</td>\n",
              "      <td>Kentucky</td>\n",
              "      <td>South</td>\n",
              "      <td>50.98</td>\n",
              "      <td>152.94</td>\n",
              "    </tr>\n",
              "    <tr>\n",
              "      <th>539</th>\n",
              "      <td>CA-2018-134894</td>\n",
              "      <td>DK-12985</td>\n",
              "      <td>42420</td>\n",
              "      <td>FUR-CH-10002647</td>\n",
              "      <td>283.92</td>\n",
              "      <td>4</td>\n",
              "      <td>0.0</td>\n",
              "      <td>70.9800</td>\n",
              "      <td>Furniture</td>\n",
              "      <td>Chairs</td>\n",
              "      <td>...</td>\n",
              "      <td>12/11/2018</td>\n",
              "      <td>Standard Class</td>\n",
              "      <td>Darren Koutras</td>\n",
              "      <td>Consumer</td>\n",
              "      <td>United States</td>\n",
              "      <td>Henderson</td>\n",
              "      <td>Kentucky</td>\n",
              "      <td>South</td>\n",
              "      <td>70.98</td>\n",
              "      <td>283.92</td>\n",
              "    </tr>\n",
              "    <tr>\n",
              "      <th>...</th>\n",
              "      <td>...</td>\n",
              "      <td>...</td>\n",
              "      <td>...</td>\n",
              "      <td>...</td>\n",
              "      <td>...</td>\n",
              "      <td>...</td>\n",
              "      <td>...</td>\n",
              "      <td>...</td>\n",
              "      <td>...</td>\n",
              "      <td>...</td>\n",
              "      <td>...</td>\n",
              "      <td>...</td>\n",
              "      <td>...</td>\n",
              "      <td>...</td>\n",
              "      <td>...</td>\n",
              "      <td>...</td>\n",
              "      <td>...</td>\n",
              "      <td>...</td>\n",
              "      <td>...</td>\n",
              "      <td>...</td>\n",
              "      <td>...</td>\n",
              "    </tr>\n",
              "    <tr>\n",
              "      <th>9333</th>\n",
              "      <td>CA-2020-127726</td>\n",
              "      <td>SS-20410</td>\n",
              "      <td>40324</td>\n",
              "      <td>OFF-FA-10000992</td>\n",
              "      <td>14.20</td>\n",
              "      <td>4</td>\n",
              "      <td>0.0</td>\n",
              "      <td>6.6740</td>\n",
              "      <td>Office Supplies</td>\n",
              "      <td>Fasteners</td>\n",
              "      <td>...</td>\n",
              "      <td>9/13/2020</td>\n",
              "      <td>Second Class</td>\n",
              "      <td>Shahid Shariari</td>\n",
              "      <td>Consumer</td>\n",
              "      <td>United States</td>\n",
              "      <td>Georgetown</td>\n",
              "      <td>Kentucky</td>\n",
              "      <td>South</td>\n",
              "      <td>3.55</td>\n",
              "      <td>14.20</td>\n",
              "    </tr>\n",
              "    <tr>\n",
              "      <th>9462</th>\n",
              "      <td>US-2020-109610</td>\n",
              "      <td>BS-11590</td>\n",
              "      <td>40214</td>\n",
              "      <td>FUR-CH-10001854</td>\n",
              "      <td>701.96</td>\n",
              "      <td>2</td>\n",
              "      <td>0.0</td>\n",
              "      <td>168.4704</td>\n",
              "      <td>Furniture</td>\n",
              "      <td>Chairs</td>\n",
              "      <td>...</td>\n",
              "      <td>11/30/2020</td>\n",
              "      <td>Second Class</td>\n",
              "      <td>Brendan Sweed</td>\n",
              "      <td>Corporate</td>\n",
              "      <td>United States</td>\n",
              "      <td>Louisville</td>\n",
              "      <td>Kentucky</td>\n",
              "      <td>South</td>\n",
              "      <td>350.98</td>\n",
              "      <td>701.96</td>\n",
              "    </tr>\n",
              "    <tr>\n",
              "      <th>9785</th>\n",
              "      <td>CA-2018-155635</td>\n",
              "      <td>ME-17725</td>\n",
              "      <td>40214</td>\n",
              "      <td>OFF-BI-10000962</td>\n",
              "      <td>48.81</td>\n",
              "      <td>3</td>\n",
              "      <td>0.0</td>\n",
              "      <td>23.9169</td>\n",
              "      <td>Office Supplies</td>\n",
              "      <td>Binders</td>\n",
              "      <td>...</td>\n",
              "      <td>5/13/2018</td>\n",
              "      <td>Standard Class</td>\n",
              "      <td>Max Engle</td>\n",
              "      <td>Consumer</td>\n",
              "      <td>United States</td>\n",
              "      <td>Louisville</td>\n",
              "      <td>Kentucky</td>\n",
              "      <td>South</td>\n",
              "      <td>16.27</td>\n",
              "      <td>48.81</td>\n",
              "    </tr>\n",
              "    <tr>\n",
              "      <th>9911</th>\n",
              "      <td>US-2017-157231</td>\n",
              "      <td>RP-19855</td>\n",
              "      <td>40475</td>\n",
              "      <td>OFF-BI-10002852</td>\n",
              "      <td>115.36</td>\n",
              "      <td>7</td>\n",
              "      <td>0.0</td>\n",
              "      <td>56.5264</td>\n",
              "      <td>Office Supplies</td>\n",
              "      <td>Binders</td>\n",
              "      <td>...</td>\n",
              "      <td>4/9/2017</td>\n",
              "      <td>Standard Class</td>\n",
              "      <td>Roy Phan</td>\n",
              "      <td>Corporate</td>\n",
              "      <td>United States</td>\n",
              "      <td>Richmond</td>\n",
              "      <td>Kentucky</td>\n",
              "      <td>South</td>\n",
              "      <td>16.48</td>\n",
              "      <td>115.36</td>\n",
              "    </tr>\n",
              "    <tr>\n",
              "      <th>9960</th>\n",
              "      <td>CA-2020-141446</td>\n",
              "      <td>CL-12700</td>\n",
              "      <td>41042</td>\n",
              "      <td>TEC-AC-10002305</td>\n",
              "      <td>18.00</td>\n",
              "      <td>1</td>\n",
              "      <td>0.0</td>\n",
              "      <td>3.2400</td>\n",
              "      <td>Technology</td>\n",
              "      <td>Accessories</td>\n",
              "      <td>...</td>\n",
              "      <td>9/18/2020</td>\n",
              "      <td>Second Class</td>\n",
              "      <td>Craig Leslie</td>\n",
              "      <td>Home Office</td>\n",
              "      <td>United States</td>\n",
              "      <td>Florence</td>\n",
              "      <td>Kentucky</td>\n",
              "      <td>South</td>\n",
              "      <td>18.00</td>\n",
              "      <td>18.00</td>\n",
              "    </tr>\n",
              "  </tbody>\n",
              "</table>\n",
              "<p>139 rows × 22 columns</p>\n",
              "</div>\n",
              "    <div class=\"colab-df-buttons\">\n",
              "\n",
              "  <div class=\"colab-df-container\">\n",
              "    <button class=\"colab-df-convert\" onclick=\"convertToInteractive('df-cef3e3dc-a52c-4a3d-a5fc-4163eca566ae')\"\n",
              "            title=\"Convert this dataframe to an interactive table.\"\n",
              "            style=\"display:none;\">\n",
              "\n",
              "  <svg xmlns=\"http://www.w3.org/2000/svg\" height=\"24px\" viewBox=\"0 -960 960 960\">\n",
              "    <path d=\"M120-120v-720h720v720H120Zm60-500h600v-160H180v160Zm220 220h160v-160H400v160Zm0 220h160v-160H400v160ZM180-400h160v-160H180v160Zm440 0h160v-160H620v160ZM180-180h160v-160H180v160Zm440 0h160v-160H620v160Z\"/>\n",
              "  </svg>\n",
              "    </button>\n",
              "\n",
              "  <style>\n",
              "    .colab-df-container {\n",
              "      display:flex;\n",
              "      gap: 12px;\n",
              "    }\n",
              "\n",
              "    .colab-df-convert {\n",
              "      background-color: #E8F0FE;\n",
              "      border: none;\n",
              "      border-radius: 50%;\n",
              "      cursor: pointer;\n",
              "      display: none;\n",
              "      fill: #1967D2;\n",
              "      height: 32px;\n",
              "      padding: 0 0 0 0;\n",
              "      width: 32px;\n",
              "    }\n",
              "\n",
              "    .colab-df-convert:hover {\n",
              "      background-color: #E2EBFA;\n",
              "      box-shadow: 0px 1px 2px rgba(60, 64, 67, 0.3), 0px 1px 3px 1px rgba(60, 64, 67, 0.15);\n",
              "      fill: #174EA6;\n",
              "    }\n",
              "\n",
              "    .colab-df-buttons div {\n",
              "      margin-bottom: 4px;\n",
              "    }\n",
              "\n",
              "    [theme=dark] .colab-df-convert {\n",
              "      background-color: #3B4455;\n",
              "      fill: #D2E3FC;\n",
              "    }\n",
              "\n",
              "    [theme=dark] .colab-df-convert:hover {\n",
              "      background-color: #434B5C;\n",
              "      box-shadow: 0px 1px 3px 1px rgba(0, 0, 0, 0.15);\n",
              "      filter: drop-shadow(0px 1px 2px rgba(0, 0, 0, 0.3));\n",
              "      fill: #FFFFFF;\n",
              "    }\n",
              "  </style>\n",
              "\n",
              "    <script>\n",
              "      const buttonEl =\n",
              "        document.querySelector('#df-cef3e3dc-a52c-4a3d-a5fc-4163eca566ae button.colab-df-convert');\n",
              "      buttonEl.style.display =\n",
              "        google.colab.kernel.accessAllowed ? 'block' : 'none';\n",
              "\n",
              "      async function convertToInteractive(key) {\n",
              "        const element = document.querySelector('#df-cef3e3dc-a52c-4a3d-a5fc-4163eca566ae');\n",
              "        const dataTable =\n",
              "          await google.colab.kernel.invokeFunction('convertToInteractive',\n",
              "                                                    [key], {});\n",
              "        if (!dataTable) return;\n",
              "\n",
              "        const docLinkHtml = 'Like what you see? Visit the ' +\n",
              "          '<a target=\"_blank\" href=https://colab.research.google.com/notebooks/data_table.ipynb>data table notebook</a>'\n",
              "          + ' to learn more about interactive tables.';\n",
              "        element.innerHTML = '';\n",
              "        dataTable['output_type'] = 'display_data';\n",
              "        await google.colab.output.renderOutput(dataTable, element);\n",
              "        const docLink = document.createElement('div');\n",
              "        docLink.innerHTML = docLinkHtml;\n",
              "        element.appendChild(docLink);\n",
              "      }\n",
              "    </script>\n",
              "  </div>\n",
              "\n",
              "\n",
              "<div id=\"df-f091839d-8392-4687-a3b5-3458f73561e6\">\n",
              "  <button class=\"colab-df-quickchart\" onclick=\"quickchart('df-f091839d-8392-4687-a3b5-3458f73561e6')\"\n",
              "            title=\"Suggest charts\"\n",
              "            style=\"display:none;\">\n",
              "\n",
              "<svg xmlns=\"http://www.w3.org/2000/svg\" height=\"24px\"viewBox=\"0 0 24 24\"\n",
              "     width=\"24px\">\n",
              "    <g>\n",
              "        <path d=\"M19 3H5c-1.1 0-2 .9-2 2v14c0 1.1.9 2 2 2h14c1.1 0 2-.9 2-2V5c0-1.1-.9-2-2-2zM9 17H7v-7h2v7zm4 0h-2V7h2v10zm4 0h-2v-4h2v4z\"/>\n",
              "    </g>\n",
              "</svg>\n",
              "  </button>\n",
              "\n",
              "<style>\n",
              "  .colab-df-quickchart {\n",
              "      --bg-color: #E8F0FE;\n",
              "      --fill-color: #1967D2;\n",
              "      --hover-bg-color: #E2EBFA;\n",
              "      --hover-fill-color: #174EA6;\n",
              "      --disabled-fill-color: #AAA;\n",
              "      --disabled-bg-color: #DDD;\n",
              "  }\n",
              "\n",
              "  [theme=dark] .colab-df-quickchart {\n",
              "      --bg-color: #3B4455;\n",
              "      --fill-color: #D2E3FC;\n",
              "      --hover-bg-color: #434B5C;\n",
              "      --hover-fill-color: #FFFFFF;\n",
              "      --disabled-bg-color: #3B4455;\n",
              "      --disabled-fill-color: #666;\n",
              "  }\n",
              "\n",
              "  .colab-df-quickchart {\n",
              "    background-color: var(--bg-color);\n",
              "    border: none;\n",
              "    border-radius: 50%;\n",
              "    cursor: pointer;\n",
              "    display: none;\n",
              "    fill: var(--fill-color);\n",
              "    height: 32px;\n",
              "    padding: 0;\n",
              "    width: 32px;\n",
              "  }\n",
              "\n",
              "  .colab-df-quickchart:hover {\n",
              "    background-color: var(--hover-bg-color);\n",
              "    box-shadow: 0 1px 2px rgba(60, 64, 67, 0.3), 0 1px 3px 1px rgba(60, 64, 67, 0.15);\n",
              "    fill: var(--button-hover-fill-color);\n",
              "  }\n",
              "\n",
              "  .colab-df-quickchart-complete:disabled,\n",
              "  .colab-df-quickchart-complete:disabled:hover {\n",
              "    background-color: var(--disabled-bg-color);\n",
              "    fill: var(--disabled-fill-color);\n",
              "    box-shadow: none;\n",
              "  }\n",
              "\n",
              "  .colab-df-spinner {\n",
              "    border: 2px solid var(--fill-color);\n",
              "    border-color: transparent;\n",
              "    border-bottom-color: var(--fill-color);\n",
              "    animation:\n",
              "      spin 1s steps(1) infinite;\n",
              "  }\n",
              "\n",
              "  @keyframes spin {\n",
              "    0% {\n",
              "      border-color: transparent;\n",
              "      border-bottom-color: var(--fill-color);\n",
              "      border-left-color: var(--fill-color);\n",
              "    }\n",
              "    20% {\n",
              "      border-color: transparent;\n",
              "      border-left-color: var(--fill-color);\n",
              "      border-top-color: var(--fill-color);\n",
              "    }\n",
              "    30% {\n",
              "      border-color: transparent;\n",
              "      border-left-color: var(--fill-color);\n",
              "      border-top-color: var(--fill-color);\n",
              "      border-right-color: var(--fill-color);\n",
              "    }\n",
              "    40% {\n",
              "      border-color: transparent;\n",
              "      border-right-color: var(--fill-color);\n",
              "      border-top-color: var(--fill-color);\n",
              "    }\n",
              "    60% {\n",
              "      border-color: transparent;\n",
              "      border-right-color: var(--fill-color);\n",
              "    }\n",
              "    80% {\n",
              "      border-color: transparent;\n",
              "      border-right-color: var(--fill-color);\n",
              "      border-bottom-color: var(--fill-color);\n",
              "    }\n",
              "    90% {\n",
              "      border-color: transparent;\n",
              "      border-bottom-color: var(--fill-color);\n",
              "    }\n",
              "  }\n",
              "</style>\n",
              "\n",
              "  <script>\n",
              "    async function quickchart(key) {\n",
              "      const quickchartButtonEl =\n",
              "        document.querySelector('#' + key + ' button');\n",
              "      quickchartButtonEl.disabled = true;  // To prevent multiple clicks.\n",
              "      quickchartButtonEl.classList.add('colab-df-spinner');\n",
              "      try {\n",
              "        const charts = await google.colab.kernel.invokeFunction(\n",
              "            'suggestCharts', [key], {});\n",
              "      } catch (error) {\n",
              "        console.error('Error during call to suggestCharts:', error);\n",
              "      }\n",
              "      quickchartButtonEl.classList.remove('colab-df-spinner');\n",
              "      quickchartButtonEl.classList.add('colab-df-quickchart-complete');\n",
              "    }\n",
              "    (() => {\n",
              "      let quickchartButtonEl =\n",
              "        document.querySelector('#df-f091839d-8392-4687-a3b5-3458f73561e6 button');\n",
              "      quickchartButtonEl.style.display =\n",
              "        google.colab.kernel.accessAllowed ? 'block' : 'none';\n",
              "    })();\n",
              "  </script>\n",
              "</div>\n",
              "\n",
              "    </div>\n",
              "  </div>\n"
            ],
            "application/vnd.google.colaboratory.intrinsic+json": {
              "type": "dataframe"
            }
          },
          "metadata": {},
          "execution_count": 56
        }
      ]
    },
    {
      "cell_type": "code",
      "source": [
        "# Menerapkan lebih dari satu filter ke DataFrame\n",
        "df_sales[(df_sales['State']=='Kentucky')&(df_sales['Region']=='South')]"
      ],
      "metadata": {
        "id": "rqVaiEgbqObP",
        "colab": {
          "base_uri": "https://localhost:8080/",
          "height": 158
        },
        "outputId": "2c0d1063-8043-45e3-d553-af5617537fb4"
      },
      "execution_count": 1,
      "outputs": [
        {
          "output_type": "error",
          "ename": "NameError",
          "evalue": "name 'df_sales' is not defined",
          "traceback": [
            "\u001b[0;31m---------------------------------------------------------------------------\u001b[0m",
            "\u001b[0;31mNameError\u001b[0m                                 Traceback (most recent call last)",
            "\u001b[0;32m<ipython-input-1-7e598824011f>\u001b[0m in \u001b[0;36m<cell line: 2>\u001b[0;34m()\u001b[0m\n\u001b[1;32m      1\u001b[0m \u001b[0;31m# Menerapkan lebih dari satu filter ke DataFrame\u001b[0m\u001b[0;34m\u001b[0m\u001b[0;34m\u001b[0m\u001b[0m\n\u001b[0;32m----> 2\u001b[0;31m \u001b[0mdf_sales\u001b[0m\u001b[0;34m[\u001b[0m\u001b[0;34m(\u001b[0m\u001b[0mdf_sales\u001b[0m\u001b[0;34m[\u001b[0m\u001b[0;34m'State'\u001b[0m\u001b[0;34m]\u001b[0m\u001b[0;34m==\u001b[0m\u001b[0;34m'Kentucky'\u001b[0m\u001b[0;34m)\u001b[0m\u001b[0;34m&\u001b[0m\u001b[0;34m(\u001b[0m\u001b[0mdf_sales\u001b[0m\u001b[0;34m[\u001b[0m\u001b[0;34m'Region'\u001b[0m\u001b[0;34m]\u001b[0m\u001b[0;34m==\u001b[0m\u001b[0;34m'South'\u001b[0m\u001b[0;34m)\u001b[0m\u001b[0;34m]\u001b[0m\u001b[0;34m\u001b[0m\u001b[0;34m\u001b[0m\u001b[0m\n\u001b[0m",
            "\u001b[0;31mNameError\u001b[0m: name 'df_sales' is not defined"
          ]
        }
      ]
    },
    {
      "cell_type": "markdown",
      "source": [
        "---\n",
        "# STRING DATA\n",
        "## Pengertian\n",
        "String adalah tipe data di Python yang digunakan untuk merepresentasikan teks. String didefinisikan dengan menggunakan tanda kutip tunggal (`'...'`) atau tanda kutip ganda (`\"...\"`).\n",
        "\n",
        "## String Assignment\n",
        "Sebuah String bisa dideklarasikan dengan cara berikut:\n",
        "\n",
        "```python\n",
        "nama = \"Python\"\n",
        "pesan = 'Selamat datang di dunia pemrograman!'\n",
        "```\n",
        "\n",
        "## Operasi String\n",
        "1. **Akses Karakter**: Setiap karakter dalam string dapati diakses dengan menggunakan indeks.\n",
        "\n",
        "   ```python\n",
        "   teks = \"Python\"\n",
        "   print(teks[0])  # Output: P\n",
        "   print(teks[-1]) # Output: n\n",
        "   ```\n",
        "2. **Panjang String**: Gunakan fungsi `len()` untuk mendapatkan panjang string.\n",
        "\n",
        "   ```python\n",
        "   teks = \"Pemrograman\"\n",
        "   print(len(teks))  # Output: 11\n",
        "   ```\n",
        "3. **Irisan (Slicing)**: Sebagian dari String dapat diambil dengan menggunakan teknik slicing.\n",
        "\n",
        "   ```python\n",
        "   teks = \"Pemrograman\"\n",
        "   bagian = teks[0:3]\n",
        "   print(bagian)  # Output: Pem\n",
        "   ```\n",
        "\n",
        "## String Manipulation\n",
        "### Operasi Matematis\n",
        "\n",
        "Beberapa operator matematis dapat dipergunakan untuk melakukan operasi terhadap data String. Seperti berikut di bawah ini:\n",
        "1. **Concatenation**\n",
        "  ```python\n",
        "  nama_depan = 'Elon'\n",
        "  nama_belakang = 'Musk'\n",
        "\n",
        "  nama_depan + ' ' + nama_belakang # Output : \"Elon Musk\"\n",
        "  ```\n",
        "2. **Repetition**\n",
        "  ```python\n",
        "  'Python' * 5 # Output : PythonPythonPythonPythonPython\n",
        "  ```\n",
        "\n",
        "### String methods\n",
        "> Methods adalah fungsi yang terkait dengan suatu objek tertentu dan digunakan untuk memanipulasi atribut atau mengenakan suatu aksi terhadap objek terkait.\n",
        "\n",
        "Beberapa string methods yang cukup sering dipergunakan dalam pengolahan data String, antara lain:\n",
        "1. **Case Changing**\n",
        "  ```python\n",
        "  # Merubah format string menjadi capital\n",
        "  'Python'.upper()                  # Output : 'PYTHON'\n",
        "  # Merubah format String ke lowercase\n",
        "  'PyThon'.lower()                  # Output : 'python'\n",
        "  # Menukar format String\n",
        "  'PyThon'.swapcase()               # Output : pYtHON\n",
        "  # Merubah format String menjadi format judul\n",
        "  'aku suka belajar python'.title() # Output: 'Aku Suka Belajar Python'\n",
        "  ```\n",
        "2. **String Replacement**\n",
        "  ```python\n",
        "  # Mengganti karakter dengan karakter lain\n",
        "  'Aku suka belajar Python'.replace('u','i') # Output : 'Aki sika belajar Python'\n",
        "  ```\n",
        "3. **White Space Stripping**\n",
        "  ```python\n",
        "  # Menghapus whitespace berlebihan di awal dan akhir dari String\n",
        "  '      Aku suka belajar Python        '.strip() # Output : 'Aku suka belajar Python'\n",
        "  ```\n",
        "4. **String Splitting**\n",
        "  ```python\n",
        "  # Memisahkan text menjadi sebuah list berdasarkan separator tertentu\n",
        "  'Aku suka belajar python'.split(sep=\" \") # Output : ['Aku', 'suka', 'belajar', 'python']\n",
        "  ```\n",
        "5. **String Concatenation**\n",
        "  ```python\n",
        "  # Menggabungkan potongan string\n",
        "  \" \".join([nama_depan, nama_belakang]) # Output : \"Elon Musk\"\n",
        "  ```\n",
        "6. **Counting String**\n",
        "  ```python\n",
        "  # Menghitung kemunculan karakter tertentu\n",
        "  'Aku suka belajar Python'.count('u') # Output : 2\n",
        "  ```\n",
        "7. **Finding String**\n",
        "  ```python\n",
        "  # Mengidentifikasi posisi keberapa suatu string pada text berada\n",
        "  'Aku suka belajar python'.find('ajar') # Output : 12\n",
        "  # Jika string yang dicari tidak ditemukan\n",
        "  'Aku suka belajar python'.find('membaca') # Output : -1\n",
        "  # Untuk mengidentifikasi apakah suatu string terdapat pada text\n",
        "  'Aku suka belajar python'.find('dia')>-1 # Output : False\n",
        "  ```\n",
        "\n",
        "## String Formatting\n",
        "> *String Formatting* adalah sebuah proses menyematkan string atau variabel ke dalam sebuah text tanpa menggunakan operator seperti pada *concatenation*.\n",
        "\n",
        "Terdapat tiga cara *string formatting* yang sering digunakan dalam python adalah, sebagai berikut:\n",
        "\n",
        "1. **`% Operator`**\n",
        "  ```python\n",
        "  # String Assignment\n",
        "  query_by_provinsi = \"\"\"SELECT * FROM tbl_produksi WHERE nama_provinsi = '%s' AND nama_kabupaten = '%s';\"\"\"\n",
        "\n",
        "  # Tampilkan String ke layar tanpa disemat argument\n",
        "  print(query_by_provinsi)\n",
        "  # Output : \"SELECT * FROM tbl_produksi WHERE nama_provinsi = '%s' AND nama_kabupaten = '%s';\"\n",
        "  \n",
        "  # Tampilkan String ke layar dengan disematkan argument\n",
        "  print(query_by_provinsi % ('DKI JAKARTA', 'JAKARTA PUSAT'))\n",
        "  # Output : \"SELECT * FROM tbl_produksi WHERE nama_provinsi = 'DKI JAKARTA' AND nama_kabupaten = 'JAKARTA PUSAT';\"\n",
        "\n",
        "  # Jika jumlah argument yang disematkan tidak sesuai, akan mengakibatkan error\n",
        "  print(query_by_provinsi % ('DKI JAKARTA'))\n",
        "  # Output : 'TypeError: not enough arguments for format string'\n",
        "  ```\n",
        "\n",
        "2. **`str.format()` Method**\n",
        "  ```python\n",
        "  # String Assignment\n",
        "  template_sapaan = \"Hi,\\nnama saya {},\\numur saya {} tahun,\\nsalam kenal!\"\n",
        "\n",
        "  # Sematkan argument ke dalam String\n",
        "  sapa = template_sapaan.format(nama_lengkap, \"17\")\n",
        "\n",
        "  # Tampilkan hasil formatting ke layar\n",
        "  print(sapa)\n",
        "  # Output :\n",
        "    \"\"\"\n",
        "    Hi,\n",
        "    nama saya Rikrik Rahadian,\n",
        "    umur saya 17 tahun,\n",
        "    salam kenal!\n",
        "    \"\"\"\n",
        "  ```\n",
        "\n",
        "3. **`f-strings`**\n",
        "- **Formatting**\n",
        "  ```python\n",
        "  # String Assignment\n",
        "  first_name = \"Elon\"\n",
        "  last_name = \"Musk\"\n",
        "  nomor_kamar = \"512\"\n",
        "  waktu = \"siang\"\n",
        "  # String Formatting\n",
        "  template_greeting = f\"Hallo Tuan {last_name}, selamat {waktu}, anda menginap di kamar {nomor_kamar}\"\n",
        "  # Tampilkan hasil formatting ke layar\n",
        "  print(template_greeting)\n",
        "  # Output : \"Hallo Tuan Musk, selamat siang, anda menginap di kamar 512\"\n",
        "  ```\n",
        "\n",
        "- **Alignment & Padding**\n",
        "  ```python\n",
        "  # String Assignment\n",
        "  formatted_string = f\"{'Elon Musk':*^30}\"\n",
        "  # Tampilkan string ke layar\n",
        "  print(formatted_string)\n",
        "  # Output : '**********Elon Musk***********'\n",
        "  ```\n",
        "\n",
        "Penjelasan script di atas:\n",
        "  - **Value**: 'Elon Musk' adalah String yang akan diformat.\n",
        "  - **Padding Character**: * memberikan spesifikasi bahwa value tersebut akan diberi *padding* berupa simbol *asterisks*.\n",
        "  - **Alignment**: ^ mengindikasikan *alignment* dari value di tengah. Opsi lainnya adalah: < untuk *left alignment* dan > untuk *right alignment*.\n",
        "  - **Width**: 30 menunjukkan total karakter seluruhnya meliputi value dari string ditambah padding yang diulang sebanyak sisa total karakter dikurangi jumlah karakter dari value.\n",
        "\n",
        "## Kesimpulan\n",
        "String adalah bagian penting dalam pemrograman Python yang memungkinkan programmer untuk memanipulasi dan bekerja dengan teks secara efisien. Memahami operasi dasar dan metode string akan membantu mengelola data teks dengan lebih baik.\n"
      ],
      "metadata": {
        "id": "Oqk7wPjCLxY3"
      }
    },
    {
      "cell_type": "markdown",
      "source": [
        "## Praktek Data String"
      ],
      "metadata": {
        "id": "TklNRGmL4tR7"
      }
    },
    {
      "cell_type": "code",
      "source": [
        "# Serangkaian Karakter yang sama dengan tanda kutip berbeda, akan dianggap sama oleh python\n",
        "hello_satu = 'Hello world'\n",
        "hello_dua = \"Hello world\"\n",
        "hello_satu == hello_dua"
      ],
      "metadata": {
        "id": "l-fDf8_xLFCC",
        "colab": {
          "base_uri": "https://localhost:8080/"
        },
        "outputId": "f0718dd6-6d95-493a-cedf-ea765f6c062c"
      },
      "execution_count": 2,
      "outputs": [
        {
          "output_type": "execute_result",
          "data": {
            "text/plain": [
              "True"
            ]
          },
          "metadata": {},
          "execution_count": 2
        }
      ]
    },
    {
      "cell_type": "code",
      "source": [
        "# Tanda kutip singel di baris berbeda akan membangkitkan error\n",
        "\"Hello World\n",
        "\""
      ],
      "metadata": {
        "id": "v9bjmmi8cq7m",
        "colab": {
          "base_uri": "https://localhost:8080/",
          "height": 106
        },
        "outputId": "e6245828-c074-4a00-b147-7d378a77b7cc"
      },
      "execution_count": 3,
      "outputs": [
        {
          "output_type": "error",
          "ename": "SyntaxError",
          "evalue": "unterminated string literal (detected at line 2) (<ipython-input-3-d12a93fd6de8>, line 2)",
          "traceback": [
            "\u001b[0;36m  File \u001b[0;32m\"<ipython-input-3-d12a93fd6de8>\"\u001b[0;36m, line \u001b[0;32m2\u001b[0m\n\u001b[0;31m    \"Hello World\u001b[0m\n\u001b[0m    ^\u001b[0m\n\u001b[0;31mSyntaxError\u001b[0m\u001b[0;31m:\u001b[0m unterminated string literal (detected at line 2)\n"
          ]
        }
      ]
    },
    {
      "cell_type": "code",
      "source": [
        "# Data String dengan multi baris\n",
        "query_pertama = \"\"\"\n",
        "SELECT\n",
        "  col1,\n",
        "  col2,\n",
        "  col3\n",
        "FROM tbl_produksi\n",
        "LIMIT 5;\n",
        "\"\"\"\n",
        "print(query_pertama)"
      ],
      "metadata": {
        "id": "re5ttuHNdHAX",
        "colab": {
          "base_uri": "https://localhost:8080/"
        },
        "outputId": "dffc78da-ddfb-496b-8565-ca8b9839aced"
      },
      "execution_count": 4,
      "outputs": [
        {
          "output_type": "stream",
          "name": "stdout",
          "text": [
            "\n",
            "SELECT\n",
            "  col1,\n",
            "  col2,\n",
            "  col3\n",
            "FROM tbl_produksi\n",
            "LIMIT 5;\n",
            "\n"
          ]
        }
      ]
    },
    {
      "cell_type": "code",
      "source": [
        "# Data string multi baris pada memory\n",
        "query_pertama"
      ],
      "metadata": {
        "id": "ObdaHyYxDjIO",
        "colab": {
          "base_uri": "https://localhost:8080/",
          "height": 35
        },
        "outputId": "7f9e4806-2b8d-433d-da93-7668e22ff2ac"
      },
      "execution_count": 5,
      "outputs": [
        {
          "output_type": "execute_result",
          "data": {
            "text/plain": [
              "'\\nSELECT\\n  col1,\\n  col2,\\n  col3\\nFROM tbl_produksi\\nLIMIT 5;\\n'"
            ],
            "application/vnd.google.colaboratory.intrinsic+json": {
              "type": "string"
            }
          },
          "metadata": {},
          "execution_count": 5
        }
      ]
    },
    {
      "cell_type": "code",
      "source": [
        "# Data String dengan multi baris\n",
        "query_kedua = \"SELECT\\n  col1,\\n  col2,\\n  col3\\nFROM tbl_produksi \\nLIMIT 5;\"\n",
        "print(query_kedua)"
      ],
      "metadata": {
        "id": "_SGhgEYHeuxR"
      },
      "execution_count": null,
      "outputs": []
    },
    {
      "cell_type": "code",
      "source": [
        "# Slicing Data String\n",
        "nama_lengkap = \"Rikrik Rahadian\"\n",
        "nama_lengkap[10] # Slicing"
      ],
      "metadata": {
        "id": "RvOpKUi-oDEJ",
        "colab": {
          "base_uri": "https://localhost:8080/",
          "height": 35
        },
        "outputId": "0d392a36-37e5-47b3-e668-d5c33da3ae5c"
      },
      "execution_count": 6,
      "outputs": [
        {
          "output_type": "execute_result",
          "data": {
            "text/plain": [
              "'a'"
            ],
            "application/vnd.google.colaboratory.intrinsic+json": {
              "type": "string"
            }
          },
          "metadata": {},
          "execution_count": 6
        }
      ]
    },
    {
      "cell_type": "code",
      "source": [
        "nama_lengkap[2]"
      ],
      "metadata": {
        "id": "4wzCts_eFDl_",
        "colab": {
          "base_uri": "https://localhost:8080/",
          "height": 35
        },
        "outputId": "fd4cfef4-4167-4920-d3de-de3fec2882d0"
      },
      "execution_count": 7,
      "outputs": [
        {
          "output_type": "execute_result",
          "data": {
            "text/plain": [
              "'k'"
            ],
            "application/vnd.google.colaboratory.intrinsic+json": {
              "type": "string"
            }
          },
          "metadata": {},
          "execution_count": 7
        }
      ]
    },
    {
      "cell_type": "code",
      "source": [
        "nama_lengkap[3:6]"
      ],
      "metadata": {
        "id": "NjaGZqgsE8Qp",
        "colab": {
          "base_uri": "https://localhost:8080/",
          "height": 35
        },
        "outputId": "fe512026-bd56-446b-9f06-d6f17c45a08f"
      },
      "execution_count": 8,
      "outputs": [
        {
          "output_type": "execute_result",
          "data": {
            "text/plain": [
              "'rik'"
            ],
            "application/vnd.google.colaboratory.intrinsic+json": {
              "type": "string"
            }
          },
          "metadata": {},
          "execution_count": 8
        }
      ]
    },
    {
      "cell_type": "code",
      "source": [
        "nama_lengkap[3:6:2]"
      ],
      "metadata": {
        "id": "jZ2mZywN1g0b",
        "colab": {
          "base_uri": "https://localhost:8080/",
          "height": 35
        },
        "outputId": "9c3af501-d9e8-4449-8544-d026227cf5e1"
      },
      "execution_count": 9,
      "outputs": [
        {
          "output_type": "execute_result",
          "data": {
            "text/plain": [
              "'rk'"
            ],
            "application/vnd.google.colaboratory.intrinsic+json": {
              "type": "string"
            }
          },
          "metadata": {},
          "execution_count": 9
        }
      ]
    },
    {
      "cell_type": "markdown",
      "source": [
        "___\n",
        "## **EXERCISE**\n",
        "\n",
        "Pada bagian exercise ini kita akan mencoba membuat sebuah program untuk melakukan proses penginputan informasi calon responden ke dalam sebuah daftar responden, dengan data berupa nama, nomor telepon, dan tanggal lahir."
      ],
      "metadata": {
        "id": "UDbnJhsW4DCP"
      }
    },
    {
      "cell_type": "code",
      "source": [
        "# MEMBUAT DAFTAR CALON RESPONDEN\n",
        "# 1. Persiapan\n",
        "# Set sebuah list kosong sebagai `friends_listed`\n",
        "respondent_listed = []\n",
        "\n",
        "# 2. Proses Mengisi Daftar\n",
        "# Buat unlimited loop\n",
        "while True:\n",
        "  # Cek apakah user akan mengisi data ke daftar\n",
        "  pilihan = input(\"Apakah ada nama yang akan ditambahkan ke list? (1=ya/0=tidak) \")\n",
        "  # Validasi pilihan user\n",
        "  # Apakah pilihan user benar??\n",
        "  if pilihan not in ['0', '1']:\n",
        "    print(\"Pilihan tidak valid, silahkan pilih 1 atau 0!\")\n",
        "    pass\n",
        "\n",
        "  # Jika tidak tambah barang\n",
        "  if pilihan == '0':\n",
        "    break # Hentikan unlimited loop\n",
        "  # Jika tambah barang\n",
        "  elif pilihan == '1':\n",
        "    # Mintakan nama lengkap\n",
        "    nama_lengkap = input('Nama Lengkap: ')\n",
        "    # Mintakan jumlah yang diperlukan\n",
        "    nomor_telepon = input('Nomor Telepon: ')\n",
        "    # Mintakan Satuan\n",
        "    dob = input(\"Tanggal Lahir: (dd/mm/yyyy)\")\n",
        "    # Tambahkan kebutuhan ke dalam list `respondent_listed`\n",
        "    respondent_listed.append((nama_lengkap, nomor_telepon, dob))\n",
        "\n",
        "# 3. Tampilkan daftar ke layar\n",
        "# Buat Judul tabel\n",
        "print(f\"\\n{'DAFTAR CALON RESPONDEN':-^60}\")\n",
        "# Buat Garis Pembatas\n",
        "print(f\"{'':=^60}\")\n",
        "# Buat Header Tabel\n",
        "print(f\"{'NO': ^4}\", f\"{'NAMA': ^20}\", f\"{'TELEPON': ^20}\", f\"{'DOB': ^13}\", sep = \"|\")\n",
        "# Buat Garis Pembatas baris\n",
        "print(f\"{'':-^60}\")\n",
        "# Buat loop berdasarkan elemen pada `respondent_listed`\n",
        "for idx, item in enumerate(respondent_listed):\n",
        "  print(f\"{idx+1: >4}\", f\"{item[0]: <20}\", f\"{item[1]: >20}\", f\"{item[2]: ^13}\", sep = \"|\")\n",
        "# Buat Garis Pembatas\n",
        "print(f\"{'':=^60}\")"
      ],
      "metadata": {
        "id": "kH3tLH0tl3PG",
        "colab": {
          "base_uri": "https://localhost:8080/"
        },
        "outputId": "3512243d-e66f-4a7c-a9fe-5ca9851ee2fa"
      },
      "execution_count": 2,
      "outputs": [
        {
          "output_type": "stream",
          "name": "stdout",
          "text": [
            "Apakah ada nama yang akan ditambahkan ke list? (1=ya/0=tidak) 1\n",
            "Nama Lengkap: hawaina nurus\n",
            "Nomor Telepon: 091\n",
            "Tanggal Lahir: (dd/mm/yyyy)09/09/2009\n",
            "Apakah ada nama yang akan ditambahkan ke list? (1=ya/0=tidak) 1\n",
            "Nama Lengkap: hawaina soraya\n",
            "Nomor Telepon: 081\n",
            "Tanggal Lahir: (dd/mm/yyyy)08/08/2008\n",
            "Apakah ada nama yang akan ditambahkan ke list? (1=ya/0=tidak) 1\n",
            "Nama Lengkap: nurus soraya\n",
            "Nomor Telepon: 071\n",
            "Tanggal Lahir: (dd/mm/yyyy)06/06/2006\n",
            "Apakah ada nama yang akan ditambahkan ke list? (1=ya/0=tidak) 1\n",
            "Nama Lengkap: soraya hawaina\n",
            "Nomor Telepon: 061\n",
            "Tanggal Lahir: (dd/mm/yyyy)07/07/2007\n",
            "Apakah ada nama yang akan ditambahkan ke list? (1=ya/0=tidak) 0\n",
            "\n",
            "-------------------DAFTAR CALON RESPONDEN-------------------\n",
            "============================================================\n",
            " NO |        NAMA        |      TELEPON       |     DOB     \n",
            "------------------------------------------------------------\n",
            "   1|hawaina nurus       |                 091| 09/09/2009  \n",
            "   2|hawaina soraya      |                 081| 08/08/2008  \n",
            "   3|nurus soraya        |                 071| 06/06/2006  \n",
            "   4|soraya hawaina      |                 061| 07/07/2007  \n",
            "============================================================\n"
          ]
        }
      ]
    },
    {
      "cell_type": "code",
      "source": [
        "# Cek isi list `friends_listed`\n",
        "respondent_listed"
      ],
      "metadata": {
        "id": "qpgV4PGo09o9",
        "colab": {
          "base_uri": "https://localhost:8080/"
        },
        "outputId": "12d8616c-0349-47f6-d123-70ebba1f2959"
      },
      "execution_count": 3,
      "outputs": [
        {
          "output_type": "execute_result",
          "data": {
            "text/plain": [
              "[('hawaina nurus', '091', '09/09/2009'),\n",
              " ('hawaina soraya', '081', '08/08/2008'),\n",
              " ('nurus soraya', '071', '06/06/2006'),\n",
              " ('soraya hawaina', '061', '07/07/2007')]"
            ]
          },
          "metadata": {},
          "execution_count": 3
        }
      ]
    },
    {
      "cell_type": "code",
      "source": [
        "type(respondent_listed)"
      ],
      "metadata": {
        "id": "z8P0VPEl9ADY",
        "colab": {
          "base_uri": "https://localhost:8080/"
        },
        "outputId": "4e059c27-a917-4339-e353-9b87604619d2"
      },
      "execution_count": 4,
      "outputs": [
        {
          "output_type": "execute_result",
          "data": {
            "text/plain": [
              "list"
            ]
          },
          "metadata": {},
          "execution_count": 4
        }
      ]
    },
    {
      "cell_type": "markdown",
      "source": [
        "___\n",
        "#### 3. PENGENALAN PENGOLAHAN DATA `string`"
      ],
      "metadata": {
        "id": "p0FsLxcQEAe0"
      }
    },
    {
      "cell_type": "code",
      "source": [
        "# CONVERT `respondent_listed` MENJADI SEBUAH DATAFRAME\n",
        "# Gunakan method `DataFrame` dari modul `pandas`\n",
        "daftar_responden = pd.DataFrame(respondent_listed, columns=['NAMA', 'TELEPON', 'DOB'])\n",
        "# Check isi DataFrame `daftar_responden`\n",
        "daftar_responden"
      ],
      "metadata": {
        "id": "0DrzW5QW1d1i",
        "colab": {
          "base_uri": "https://localhost:8080/",
          "height": 175
        },
        "outputId": "340af8c3-564e-4ccf-b121-750456284bec"
      },
      "execution_count": 7,
      "outputs": [
        {
          "output_type": "execute_result",
          "data": {
            "text/plain": [
              "             NAMA TELEPON         DOB\n",
              "0   hawaina nurus     091  09/09/2009\n",
              "1  hawaina soraya     081  08/08/2008\n",
              "2    nurus soraya     071  06/06/2006\n",
              "3  soraya hawaina     061  07/07/2007"
            ],
            "text/html": [
              "\n",
              "  <div id=\"df-93081006-972d-4d0c-85c5-3e476c9c53a0\" class=\"colab-df-container\">\n",
              "    <div>\n",
              "<style scoped>\n",
              "    .dataframe tbody tr th:only-of-type {\n",
              "        vertical-align: middle;\n",
              "    }\n",
              "\n",
              "    .dataframe tbody tr th {\n",
              "        vertical-align: top;\n",
              "    }\n",
              "\n",
              "    .dataframe thead th {\n",
              "        text-align: right;\n",
              "    }\n",
              "</style>\n",
              "<table border=\"1\" class=\"dataframe\">\n",
              "  <thead>\n",
              "    <tr style=\"text-align: right;\">\n",
              "      <th></th>\n",
              "      <th>NAMA</th>\n",
              "      <th>TELEPON</th>\n",
              "      <th>DOB</th>\n",
              "    </tr>\n",
              "  </thead>\n",
              "  <tbody>\n",
              "    <tr>\n",
              "      <th>0</th>\n",
              "      <td>hawaina nurus</td>\n",
              "      <td>091</td>\n",
              "      <td>09/09/2009</td>\n",
              "    </tr>\n",
              "    <tr>\n",
              "      <th>1</th>\n",
              "      <td>hawaina soraya</td>\n",
              "      <td>081</td>\n",
              "      <td>08/08/2008</td>\n",
              "    </tr>\n",
              "    <tr>\n",
              "      <th>2</th>\n",
              "      <td>nurus soraya</td>\n",
              "      <td>071</td>\n",
              "      <td>06/06/2006</td>\n",
              "    </tr>\n",
              "    <tr>\n",
              "      <th>3</th>\n",
              "      <td>soraya hawaina</td>\n",
              "      <td>061</td>\n",
              "      <td>07/07/2007</td>\n",
              "    </tr>\n",
              "  </tbody>\n",
              "</table>\n",
              "</div>\n",
              "    <div class=\"colab-df-buttons\">\n",
              "\n",
              "  <div class=\"colab-df-container\">\n",
              "    <button class=\"colab-df-convert\" onclick=\"convertToInteractive('df-93081006-972d-4d0c-85c5-3e476c9c53a0')\"\n",
              "            title=\"Convert this dataframe to an interactive table.\"\n",
              "            style=\"display:none;\">\n",
              "\n",
              "  <svg xmlns=\"http://www.w3.org/2000/svg\" height=\"24px\" viewBox=\"0 -960 960 960\">\n",
              "    <path d=\"M120-120v-720h720v720H120Zm60-500h600v-160H180v160Zm220 220h160v-160H400v160Zm0 220h160v-160H400v160ZM180-400h160v-160H180v160Zm440 0h160v-160H620v160ZM180-180h160v-160H180v160Zm440 0h160v-160H620v160Z\"/>\n",
              "  </svg>\n",
              "    </button>\n",
              "\n",
              "  <style>\n",
              "    .colab-df-container {\n",
              "      display:flex;\n",
              "      gap: 12px;\n",
              "    }\n",
              "\n",
              "    .colab-df-convert {\n",
              "      background-color: #E8F0FE;\n",
              "      border: none;\n",
              "      border-radius: 50%;\n",
              "      cursor: pointer;\n",
              "      display: none;\n",
              "      fill: #1967D2;\n",
              "      height: 32px;\n",
              "      padding: 0 0 0 0;\n",
              "      width: 32px;\n",
              "    }\n",
              "\n",
              "    .colab-df-convert:hover {\n",
              "      background-color: #E2EBFA;\n",
              "      box-shadow: 0px 1px 2px rgba(60, 64, 67, 0.3), 0px 1px 3px 1px rgba(60, 64, 67, 0.15);\n",
              "      fill: #174EA6;\n",
              "    }\n",
              "\n",
              "    .colab-df-buttons div {\n",
              "      margin-bottom: 4px;\n",
              "    }\n",
              "\n",
              "    [theme=dark] .colab-df-convert {\n",
              "      background-color: #3B4455;\n",
              "      fill: #D2E3FC;\n",
              "    }\n",
              "\n",
              "    [theme=dark] .colab-df-convert:hover {\n",
              "      background-color: #434B5C;\n",
              "      box-shadow: 0px 1px 3px 1px rgba(0, 0, 0, 0.15);\n",
              "      filter: drop-shadow(0px 1px 2px rgba(0, 0, 0, 0.3));\n",
              "      fill: #FFFFFF;\n",
              "    }\n",
              "  </style>\n",
              "\n",
              "    <script>\n",
              "      const buttonEl =\n",
              "        document.querySelector('#df-93081006-972d-4d0c-85c5-3e476c9c53a0 button.colab-df-convert');\n",
              "      buttonEl.style.display =\n",
              "        google.colab.kernel.accessAllowed ? 'block' : 'none';\n",
              "\n",
              "      async function convertToInteractive(key) {\n",
              "        const element = document.querySelector('#df-93081006-972d-4d0c-85c5-3e476c9c53a0');\n",
              "        const dataTable =\n",
              "          await google.colab.kernel.invokeFunction('convertToInteractive',\n",
              "                                                    [key], {});\n",
              "        if (!dataTable) return;\n",
              "\n",
              "        const docLinkHtml = 'Like what you see? Visit the ' +\n",
              "          '<a target=\"_blank\" href=https://colab.research.google.com/notebooks/data_table.ipynb>data table notebook</a>'\n",
              "          + ' to learn more about interactive tables.';\n",
              "        element.innerHTML = '';\n",
              "        dataTable['output_type'] = 'display_data';\n",
              "        await google.colab.output.renderOutput(dataTable, element);\n",
              "        const docLink = document.createElement('div');\n",
              "        docLink.innerHTML = docLinkHtml;\n",
              "        element.appendChild(docLink);\n",
              "      }\n",
              "    </script>\n",
              "  </div>\n",
              "\n",
              "\n",
              "<div id=\"df-d8bde980-b5f3-4303-9a70-f9ec5e2e4e42\">\n",
              "  <button class=\"colab-df-quickchart\" onclick=\"quickchart('df-d8bde980-b5f3-4303-9a70-f9ec5e2e4e42')\"\n",
              "            title=\"Suggest charts\"\n",
              "            style=\"display:none;\">\n",
              "\n",
              "<svg xmlns=\"http://www.w3.org/2000/svg\" height=\"24px\"viewBox=\"0 0 24 24\"\n",
              "     width=\"24px\">\n",
              "    <g>\n",
              "        <path d=\"M19 3H5c-1.1 0-2 .9-2 2v14c0 1.1.9 2 2 2h14c1.1 0 2-.9 2-2V5c0-1.1-.9-2-2-2zM9 17H7v-7h2v7zm4 0h-2V7h2v10zm4 0h-2v-4h2v4z\"/>\n",
              "    </g>\n",
              "</svg>\n",
              "  </button>\n",
              "\n",
              "<style>\n",
              "  .colab-df-quickchart {\n",
              "      --bg-color: #E8F0FE;\n",
              "      --fill-color: #1967D2;\n",
              "      --hover-bg-color: #E2EBFA;\n",
              "      --hover-fill-color: #174EA6;\n",
              "      --disabled-fill-color: #AAA;\n",
              "      --disabled-bg-color: #DDD;\n",
              "  }\n",
              "\n",
              "  [theme=dark] .colab-df-quickchart {\n",
              "      --bg-color: #3B4455;\n",
              "      --fill-color: #D2E3FC;\n",
              "      --hover-bg-color: #434B5C;\n",
              "      --hover-fill-color: #FFFFFF;\n",
              "      --disabled-bg-color: #3B4455;\n",
              "      --disabled-fill-color: #666;\n",
              "  }\n",
              "\n",
              "  .colab-df-quickchart {\n",
              "    background-color: var(--bg-color);\n",
              "    border: none;\n",
              "    border-radius: 50%;\n",
              "    cursor: pointer;\n",
              "    display: none;\n",
              "    fill: var(--fill-color);\n",
              "    height: 32px;\n",
              "    padding: 0;\n",
              "    width: 32px;\n",
              "  }\n",
              "\n",
              "  .colab-df-quickchart:hover {\n",
              "    background-color: var(--hover-bg-color);\n",
              "    box-shadow: 0 1px 2px rgba(60, 64, 67, 0.3), 0 1px 3px 1px rgba(60, 64, 67, 0.15);\n",
              "    fill: var(--button-hover-fill-color);\n",
              "  }\n",
              "\n",
              "  .colab-df-quickchart-complete:disabled,\n",
              "  .colab-df-quickchart-complete:disabled:hover {\n",
              "    background-color: var(--disabled-bg-color);\n",
              "    fill: var(--disabled-fill-color);\n",
              "    box-shadow: none;\n",
              "  }\n",
              "\n",
              "  .colab-df-spinner {\n",
              "    border: 2px solid var(--fill-color);\n",
              "    border-color: transparent;\n",
              "    border-bottom-color: var(--fill-color);\n",
              "    animation:\n",
              "      spin 1s steps(1) infinite;\n",
              "  }\n",
              "\n",
              "  @keyframes spin {\n",
              "    0% {\n",
              "      border-color: transparent;\n",
              "      border-bottom-color: var(--fill-color);\n",
              "      border-left-color: var(--fill-color);\n",
              "    }\n",
              "    20% {\n",
              "      border-color: transparent;\n",
              "      border-left-color: var(--fill-color);\n",
              "      border-top-color: var(--fill-color);\n",
              "    }\n",
              "    30% {\n",
              "      border-color: transparent;\n",
              "      border-left-color: var(--fill-color);\n",
              "      border-top-color: var(--fill-color);\n",
              "      border-right-color: var(--fill-color);\n",
              "    }\n",
              "    40% {\n",
              "      border-color: transparent;\n",
              "      border-right-color: var(--fill-color);\n",
              "      border-top-color: var(--fill-color);\n",
              "    }\n",
              "    60% {\n",
              "      border-color: transparent;\n",
              "      border-right-color: var(--fill-color);\n",
              "    }\n",
              "    80% {\n",
              "      border-color: transparent;\n",
              "      border-right-color: var(--fill-color);\n",
              "      border-bottom-color: var(--fill-color);\n",
              "    }\n",
              "    90% {\n",
              "      border-color: transparent;\n",
              "      border-bottom-color: var(--fill-color);\n",
              "    }\n",
              "  }\n",
              "</style>\n",
              "\n",
              "  <script>\n",
              "    async function quickchart(key) {\n",
              "      const quickchartButtonEl =\n",
              "        document.querySelector('#' + key + ' button');\n",
              "      quickchartButtonEl.disabled = true;  // To prevent multiple clicks.\n",
              "      quickchartButtonEl.classList.add('colab-df-spinner');\n",
              "      try {\n",
              "        const charts = await google.colab.kernel.invokeFunction(\n",
              "            'suggestCharts', [key], {});\n",
              "      } catch (error) {\n",
              "        console.error('Error during call to suggestCharts:', error);\n",
              "      }\n",
              "      quickchartButtonEl.classList.remove('colab-df-spinner');\n",
              "      quickchartButtonEl.classList.add('colab-df-quickchart-complete');\n",
              "    }\n",
              "    (() => {\n",
              "      let quickchartButtonEl =\n",
              "        document.querySelector('#df-d8bde980-b5f3-4303-9a70-f9ec5e2e4e42 button');\n",
              "      quickchartButtonEl.style.display =\n",
              "        google.colab.kernel.accessAllowed ? 'block' : 'none';\n",
              "    })();\n",
              "  </script>\n",
              "</div>\n",
              "\n",
              "  <div id=\"id_a9fbe13e-4b81-4b82-9352-eb7264587c6d\">\n",
              "    <style>\n",
              "      .colab-df-generate {\n",
              "        background-color: #E8F0FE;\n",
              "        border: none;\n",
              "        border-radius: 50%;\n",
              "        cursor: pointer;\n",
              "        display: none;\n",
              "        fill: #1967D2;\n",
              "        height: 32px;\n",
              "        padding: 0 0 0 0;\n",
              "        width: 32px;\n",
              "      }\n",
              "\n",
              "      .colab-df-generate:hover {\n",
              "        background-color: #E2EBFA;\n",
              "        box-shadow: 0px 1px 2px rgba(60, 64, 67, 0.3), 0px 1px 3px 1px rgba(60, 64, 67, 0.15);\n",
              "        fill: #174EA6;\n",
              "      }\n",
              "\n",
              "      [theme=dark] .colab-df-generate {\n",
              "        background-color: #3B4455;\n",
              "        fill: #D2E3FC;\n",
              "      }\n",
              "\n",
              "      [theme=dark] .colab-df-generate:hover {\n",
              "        background-color: #434B5C;\n",
              "        box-shadow: 0px 1px 3px 1px rgba(0, 0, 0, 0.15);\n",
              "        filter: drop-shadow(0px 1px 2px rgba(0, 0, 0, 0.3));\n",
              "        fill: #FFFFFF;\n",
              "      }\n",
              "    </style>\n",
              "    <button class=\"colab-df-generate\" onclick=\"generateWithVariable('daftar_responden')\"\n",
              "            title=\"Generate code using this dataframe.\"\n",
              "            style=\"display:none;\">\n",
              "\n",
              "  <svg xmlns=\"http://www.w3.org/2000/svg\" height=\"24px\"viewBox=\"0 0 24 24\"\n",
              "       width=\"24px\">\n",
              "    <path d=\"M7,19H8.4L18.45,9,17,7.55,7,17.6ZM5,21V16.75L18.45,3.32a2,2,0,0,1,2.83,0l1.4,1.43a1.91,1.91,0,0,1,.58,1.4,1.91,1.91,0,0,1-.58,1.4L9.25,21ZM18.45,9,17,7.55Zm-12,3A5.31,5.31,0,0,0,4.9,8.1,5.31,5.31,0,0,0,1,6.5,5.31,5.31,0,0,0,4.9,4.9,5.31,5.31,0,0,0,6.5,1,5.31,5.31,0,0,0,8.1,4.9,5.31,5.31,0,0,0,12,6.5,5.46,5.46,0,0,0,6.5,12Z\"/>\n",
              "  </svg>\n",
              "    </button>\n",
              "    <script>\n",
              "      (() => {\n",
              "      const buttonEl =\n",
              "        document.querySelector('#id_a9fbe13e-4b81-4b82-9352-eb7264587c6d button.colab-df-generate');\n",
              "      buttonEl.style.display =\n",
              "        google.colab.kernel.accessAllowed ? 'block' : 'none';\n",
              "\n",
              "      buttonEl.onclick = () => {\n",
              "        google.colab.notebook.generateWithVariable('daftar_responden');\n",
              "      }\n",
              "      })();\n",
              "    </script>\n",
              "  </div>\n",
              "\n",
              "    </div>\n",
              "  </div>\n"
            ],
            "application/vnd.google.colaboratory.intrinsic+json": {
              "type": "dataframe",
              "variable_name": "daftar_responden",
              "summary": "{\n  \"name\": \"daftar_responden\",\n  \"rows\": 4,\n  \"fields\": [\n    {\n      \"column\": \"NAMA\",\n      \"properties\": {\n        \"dtype\": \"string\",\n        \"num_unique_values\": 4,\n        \"samples\": [\n          \"hawaina soraya\",\n          \"soraya hawaina\",\n          \"hawaina nurus\"\n        ],\n        \"semantic_type\": \"\",\n        \"description\": \"\"\n      }\n    },\n    {\n      \"column\": \"TELEPON\",\n      \"properties\": {\n        \"dtype\": \"object\",\n        \"num_unique_values\": 4,\n        \"samples\": [\n          \"081\",\n          \"061\",\n          \"091\"\n        ],\n        \"semantic_type\": \"\",\n        \"description\": \"\"\n      }\n    },\n    {\n      \"column\": \"DOB\",\n      \"properties\": {\n        \"dtype\": \"object\",\n        \"num_unique_values\": 4,\n        \"samples\": [\n          \"08/08/2008\",\n          \"07/07/2007\",\n          \"09/09/2009\"\n        ],\n        \"semantic_type\": \"\",\n        \"description\": \"\"\n      }\n    }\n  ]\n}"
            }
          },
          "metadata": {},
          "execution_count": 7
        }
      ]
    },
    {
      "cell_type": "code",
      "source": [
        "# 1. Buat copy dari `daftar_responden`\n",
        "df_responden = daftar_responden.copy()"
      ],
      "metadata": {
        "id": "JJ29jg0a7QG3"
      },
      "execution_count": 8,
      "outputs": []
    },
    {
      "cell_type": "code",
      "source": [
        "# Basic String Splitting\n",
        "df_responden ['NAMA'].str.split(\" \",expand=True)"
      ],
      "metadata": {
        "id": "B5ThGada7S0x",
        "colab": {
          "base_uri": "https://localhost:8080/",
          "height": 175
        },
        "outputId": "d37c7fdd-79bb-4201-d322-5553ec1aab8e"
      },
      "execution_count": 9,
      "outputs": [
        {
          "output_type": "execute_result",
          "data": {
            "text/plain": [
              "         0        1\n",
              "0  hawaina    nurus\n",
              "1  hawaina   soraya\n",
              "2    nurus   soraya\n",
              "3   soraya  hawaina"
            ],
            "text/html": [
              "\n",
              "  <div id=\"df-686f80d9-7f10-4b41-866e-6c10e4a9096d\" class=\"colab-df-container\">\n",
              "    <div>\n",
              "<style scoped>\n",
              "    .dataframe tbody tr th:only-of-type {\n",
              "        vertical-align: middle;\n",
              "    }\n",
              "\n",
              "    .dataframe tbody tr th {\n",
              "        vertical-align: top;\n",
              "    }\n",
              "\n",
              "    .dataframe thead th {\n",
              "        text-align: right;\n",
              "    }\n",
              "</style>\n",
              "<table border=\"1\" class=\"dataframe\">\n",
              "  <thead>\n",
              "    <tr style=\"text-align: right;\">\n",
              "      <th></th>\n",
              "      <th>0</th>\n",
              "      <th>1</th>\n",
              "    </tr>\n",
              "  </thead>\n",
              "  <tbody>\n",
              "    <tr>\n",
              "      <th>0</th>\n",
              "      <td>hawaina</td>\n",
              "      <td>nurus</td>\n",
              "    </tr>\n",
              "    <tr>\n",
              "      <th>1</th>\n",
              "      <td>hawaina</td>\n",
              "      <td>soraya</td>\n",
              "    </tr>\n",
              "    <tr>\n",
              "      <th>2</th>\n",
              "      <td>nurus</td>\n",
              "      <td>soraya</td>\n",
              "    </tr>\n",
              "    <tr>\n",
              "      <th>3</th>\n",
              "      <td>soraya</td>\n",
              "      <td>hawaina</td>\n",
              "    </tr>\n",
              "  </tbody>\n",
              "</table>\n",
              "</div>\n",
              "    <div class=\"colab-df-buttons\">\n",
              "\n",
              "  <div class=\"colab-df-container\">\n",
              "    <button class=\"colab-df-convert\" onclick=\"convertToInteractive('df-686f80d9-7f10-4b41-866e-6c10e4a9096d')\"\n",
              "            title=\"Convert this dataframe to an interactive table.\"\n",
              "            style=\"display:none;\">\n",
              "\n",
              "  <svg xmlns=\"http://www.w3.org/2000/svg\" height=\"24px\" viewBox=\"0 -960 960 960\">\n",
              "    <path d=\"M120-120v-720h720v720H120Zm60-500h600v-160H180v160Zm220 220h160v-160H400v160Zm0 220h160v-160H400v160ZM180-400h160v-160H180v160Zm440 0h160v-160H620v160ZM180-180h160v-160H180v160Zm440 0h160v-160H620v160Z\"/>\n",
              "  </svg>\n",
              "    </button>\n",
              "\n",
              "  <style>\n",
              "    .colab-df-container {\n",
              "      display:flex;\n",
              "      gap: 12px;\n",
              "    }\n",
              "\n",
              "    .colab-df-convert {\n",
              "      background-color: #E8F0FE;\n",
              "      border: none;\n",
              "      border-radius: 50%;\n",
              "      cursor: pointer;\n",
              "      display: none;\n",
              "      fill: #1967D2;\n",
              "      height: 32px;\n",
              "      padding: 0 0 0 0;\n",
              "      width: 32px;\n",
              "    }\n",
              "\n",
              "    .colab-df-convert:hover {\n",
              "      background-color: #E2EBFA;\n",
              "      box-shadow: 0px 1px 2px rgba(60, 64, 67, 0.3), 0px 1px 3px 1px rgba(60, 64, 67, 0.15);\n",
              "      fill: #174EA6;\n",
              "    }\n",
              "\n",
              "    .colab-df-buttons div {\n",
              "      margin-bottom: 4px;\n",
              "    }\n",
              "\n",
              "    [theme=dark] .colab-df-convert {\n",
              "      background-color: #3B4455;\n",
              "      fill: #D2E3FC;\n",
              "    }\n",
              "\n",
              "    [theme=dark] .colab-df-convert:hover {\n",
              "      background-color: #434B5C;\n",
              "      box-shadow: 0px 1px 3px 1px rgba(0, 0, 0, 0.15);\n",
              "      filter: drop-shadow(0px 1px 2px rgba(0, 0, 0, 0.3));\n",
              "      fill: #FFFFFF;\n",
              "    }\n",
              "  </style>\n",
              "\n",
              "    <script>\n",
              "      const buttonEl =\n",
              "        document.querySelector('#df-686f80d9-7f10-4b41-866e-6c10e4a9096d button.colab-df-convert');\n",
              "      buttonEl.style.display =\n",
              "        google.colab.kernel.accessAllowed ? 'block' : 'none';\n",
              "\n",
              "      async function convertToInteractive(key) {\n",
              "        const element = document.querySelector('#df-686f80d9-7f10-4b41-866e-6c10e4a9096d');\n",
              "        const dataTable =\n",
              "          await google.colab.kernel.invokeFunction('convertToInteractive',\n",
              "                                                    [key], {});\n",
              "        if (!dataTable) return;\n",
              "\n",
              "        const docLinkHtml = 'Like what you see? Visit the ' +\n",
              "          '<a target=\"_blank\" href=https://colab.research.google.com/notebooks/data_table.ipynb>data table notebook</a>'\n",
              "          + ' to learn more about interactive tables.';\n",
              "        element.innerHTML = '';\n",
              "        dataTable['output_type'] = 'display_data';\n",
              "        await google.colab.output.renderOutput(dataTable, element);\n",
              "        const docLink = document.createElement('div');\n",
              "        docLink.innerHTML = docLinkHtml;\n",
              "        element.appendChild(docLink);\n",
              "      }\n",
              "    </script>\n",
              "  </div>\n",
              "\n",
              "\n",
              "<div id=\"df-1112f4fc-8cfc-4be9-ac85-bd57e21ac885\">\n",
              "  <button class=\"colab-df-quickchart\" onclick=\"quickchart('df-1112f4fc-8cfc-4be9-ac85-bd57e21ac885')\"\n",
              "            title=\"Suggest charts\"\n",
              "            style=\"display:none;\">\n",
              "\n",
              "<svg xmlns=\"http://www.w3.org/2000/svg\" height=\"24px\"viewBox=\"0 0 24 24\"\n",
              "     width=\"24px\">\n",
              "    <g>\n",
              "        <path d=\"M19 3H5c-1.1 0-2 .9-2 2v14c0 1.1.9 2 2 2h14c1.1 0 2-.9 2-2V5c0-1.1-.9-2-2-2zM9 17H7v-7h2v7zm4 0h-2V7h2v10zm4 0h-2v-4h2v4z\"/>\n",
              "    </g>\n",
              "</svg>\n",
              "  </button>\n",
              "\n",
              "<style>\n",
              "  .colab-df-quickchart {\n",
              "      --bg-color: #E8F0FE;\n",
              "      --fill-color: #1967D2;\n",
              "      --hover-bg-color: #E2EBFA;\n",
              "      --hover-fill-color: #174EA6;\n",
              "      --disabled-fill-color: #AAA;\n",
              "      --disabled-bg-color: #DDD;\n",
              "  }\n",
              "\n",
              "  [theme=dark] .colab-df-quickchart {\n",
              "      --bg-color: #3B4455;\n",
              "      --fill-color: #D2E3FC;\n",
              "      --hover-bg-color: #434B5C;\n",
              "      --hover-fill-color: #FFFFFF;\n",
              "      --disabled-bg-color: #3B4455;\n",
              "      --disabled-fill-color: #666;\n",
              "  }\n",
              "\n",
              "  .colab-df-quickchart {\n",
              "    background-color: var(--bg-color);\n",
              "    border: none;\n",
              "    border-radius: 50%;\n",
              "    cursor: pointer;\n",
              "    display: none;\n",
              "    fill: var(--fill-color);\n",
              "    height: 32px;\n",
              "    padding: 0;\n",
              "    width: 32px;\n",
              "  }\n",
              "\n",
              "  .colab-df-quickchart:hover {\n",
              "    background-color: var(--hover-bg-color);\n",
              "    box-shadow: 0 1px 2px rgba(60, 64, 67, 0.3), 0 1px 3px 1px rgba(60, 64, 67, 0.15);\n",
              "    fill: var(--button-hover-fill-color);\n",
              "  }\n",
              "\n",
              "  .colab-df-quickchart-complete:disabled,\n",
              "  .colab-df-quickchart-complete:disabled:hover {\n",
              "    background-color: var(--disabled-bg-color);\n",
              "    fill: var(--disabled-fill-color);\n",
              "    box-shadow: none;\n",
              "  }\n",
              "\n",
              "  .colab-df-spinner {\n",
              "    border: 2px solid var(--fill-color);\n",
              "    border-color: transparent;\n",
              "    border-bottom-color: var(--fill-color);\n",
              "    animation:\n",
              "      spin 1s steps(1) infinite;\n",
              "  }\n",
              "\n",
              "  @keyframes spin {\n",
              "    0% {\n",
              "      border-color: transparent;\n",
              "      border-bottom-color: var(--fill-color);\n",
              "      border-left-color: var(--fill-color);\n",
              "    }\n",
              "    20% {\n",
              "      border-color: transparent;\n",
              "      border-left-color: var(--fill-color);\n",
              "      border-top-color: var(--fill-color);\n",
              "    }\n",
              "    30% {\n",
              "      border-color: transparent;\n",
              "      border-left-color: var(--fill-color);\n",
              "      border-top-color: var(--fill-color);\n",
              "      border-right-color: var(--fill-color);\n",
              "    }\n",
              "    40% {\n",
              "      border-color: transparent;\n",
              "      border-right-color: var(--fill-color);\n",
              "      border-top-color: var(--fill-color);\n",
              "    }\n",
              "    60% {\n",
              "      border-color: transparent;\n",
              "      border-right-color: var(--fill-color);\n",
              "    }\n",
              "    80% {\n",
              "      border-color: transparent;\n",
              "      border-right-color: var(--fill-color);\n",
              "      border-bottom-color: var(--fill-color);\n",
              "    }\n",
              "    90% {\n",
              "      border-color: transparent;\n",
              "      border-bottom-color: var(--fill-color);\n",
              "    }\n",
              "  }\n",
              "</style>\n",
              "\n",
              "  <script>\n",
              "    async function quickchart(key) {\n",
              "      const quickchartButtonEl =\n",
              "        document.querySelector('#' + key + ' button');\n",
              "      quickchartButtonEl.disabled = true;  // To prevent multiple clicks.\n",
              "      quickchartButtonEl.classList.add('colab-df-spinner');\n",
              "      try {\n",
              "        const charts = await google.colab.kernel.invokeFunction(\n",
              "            'suggestCharts', [key], {});\n",
              "      } catch (error) {\n",
              "        console.error('Error during call to suggestCharts:', error);\n",
              "      }\n",
              "      quickchartButtonEl.classList.remove('colab-df-spinner');\n",
              "      quickchartButtonEl.classList.add('colab-df-quickchart-complete');\n",
              "    }\n",
              "    (() => {\n",
              "      let quickchartButtonEl =\n",
              "        document.querySelector('#df-1112f4fc-8cfc-4be9-ac85-bd57e21ac885 button');\n",
              "      quickchartButtonEl.style.display =\n",
              "        google.colab.kernel.accessAllowed ? 'block' : 'none';\n",
              "    })();\n",
              "  </script>\n",
              "</div>\n",
              "\n",
              "    </div>\n",
              "  </div>\n"
            ],
            "application/vnd.google.colaboratory.intrinsic+json": {
              "type": "dataframe",
              "summary": "{\n  \"name\": \"df_responden ['NAMA']\",\n  \"rows\": 4,\n  \"fields\": [\n    {\n      \"column\": 0,\n      \"properties\": {\n        \"dtype\": \"string\",\n        \"num_unique_values\": 3,\n        \"samples\": [\n          \"hawaina\",\n          \"nurus\",\n          \"soraya\"\n        ],\n        \"semantic_type\": \"\",\n        \"description\": \"\"\n      }\n    },\n    {\n      \"column\": 1,\n      \"properties\": {\n        \"dtype\": \"string\",\n        \"num_unique_values\": 3,\n        \"samples\": [\n          \"nurus\",\n          \"soraya\",\n          \"hawaina\"\n        ],\n        \"semantic_type\": \"\",\n        \"description\": \"\"\n      }\n    }\n  ]\n}"
            }
          },
          "metadata": {},
          "execution_count": 9
        }
      ]
    },
    {
      "cell_type": "code",
      "source": [
        "# Basic Columns Filtering\n",
        "df_responden[['FIRSTNAME','LASTNAME','TELEPON','DOB']]"
      ],
      "metadata": {
        "id": "wEZQlNTjEm-z"
      },
      "execution_count": null,
      "outputs": []
    },
    {
      "cell_type": "code",
      "source": [
        "# 2. Buat Kolom baru `FIRSTNAME`\n",
        "df_responden['FIRSTNAME'] = df_responden ['NAMA'].str.split(\" \",expand=True)[0]\n",
        "\n",
        "# 3. Buat Kolom baru `LASTNAME`\n",
        "df_responden['LASTNAME'] = df_responden ['NAMA'].str.split(\" \",expand=True)[1]\n",
        "\n",
        "# 4. Filter Kolom yang ditampilkan\n",
        "df_responden_ = df_responden[['FIRSTNAME','LASTNAME','TELEPON','DOB']]\n",
        "\n",
        "# Cek hasil pengolahan\n",
        "df_responden_"
      ],
      "metadata": {
        "id": "NFtSC00R18MJ",
        "colab": {
          "base_uri": "https://localhost:8080/",
          "height": 175
        },
        "outputId": "7b28e7b2-9d0c-45e7-be8d-a24476aff378"
      },
      "execution_count": 10,
      "outputs": [
        {
          "output_type": "execute_result",
          "data": {
            "text/plain": [
              "  FIRSTNAME LASTNAME TELEPON         DOB\n",
              "0   hawaina    nurus     091  09/09/2009\n",
              "1   hawaina   soraya     081  08/08/2008\n",
              "2     nurus   soraya     071  06/06/2006\n",
              "3    soraya  hawaina     061  07/07/2007"
            ],
            "text/html": [
              "\n",
              "  <div id=\"df-e342c61f-e340-4a64-a1b6-90a8074b3e85\" class=\"colab-df-container\">\n",
              "    <div>\n",
              "<style scoped>\n",
              "    .dataframe tbody tr th:only-of-type {\n",
              "        vertical-align: middle;\n",
              "    }\n",
              "\n",
              "    .dataframe tbody tr th {\n",
              "        vertical-align: top;\n",
              "    }\n",
              "\n",
              "    .dataframe thead th {\n",
              "        text-align: right;\n",
              "    }\n",
              "</style>\n",
              "<table border=\"1\" class=\"dataframe\">\n",
              "  <thead>\n",
              "    <tr style=\"text-align: right;\">\n",
              "      <th></th>\n",
              "      <th>FIRSTNAME</th>\n",
              "      <th>LASTNAME</th>\n",
              "      <th>TELEPON</th>\n",
              "      <th>DOB</th>\n",
              "    </tr>\n",
              "  </thead>\n",
              "  <tbody>\n",
              "    <tr>\n",
              "      <th>0</th>\n",
              "      <td>hawaina</td>\n",
              "      <td>nurus</td>\n",
              "      <td>091</td>\n",
              "      <td>09/09/2009</td>\n",
              "    </tr>\n",
              "    <tr>\n",
              "      <th>1</th>\n",
              "      <td>hawaina</td>\n",
              "      <td>soraya</td>\n",
              "      <td>081</td>\n",
              "      <td>08/08/2008</td>\n",
              "    </tr>\n",
              "    <tr>\n",
              "      <th>2</th>\n",
              "      <td>nurus</td>\n",
              "      <td>soraya</td>\n",
              "      <td>071</td>\n",
              "      <td>06/06/2006</td>\n",
              "    </tr>\n",
              "    <tr>\n",
              "      <th>3</th>\n",
              "      <td>soraya</td>\n",
              "      <td>hawaina</td>\n",
              "      <td>061</td>\n",
              "      <td>07/07/2007</td>\n",
              "    </tr>\n",
              "  </tbody>\n",
              "</table>\n",
              "</div>\n",
              "    <div class=\"colab-df-buttons\">\n",
              "\n",
              "  <div class=\"colab-df-container\">\n",
              "    <button class=\"colab-df-convert\" onclick=\"convertToInteractive('df-e342c61f-e340-4a64-a1b6-90a8074b3e85')\"\n",
              "            title=\"Convert this dataframe to an interactive table.\"\n",
              "            style=\"display:none;\">\n",
              "\n",
              "  <svg xmlns=\"http://www.w3.org/2000/svg\" height=\"24px\" viewBox=\"0 -960 960 960\">\n",
              "    <path d=\"M120-120v-720h720v720H120Zm60-500h600v-160H180v160Zm220 220h160v-160H400v160Zm0 220h160v-160H400v160ZM180-400h160v-160H180v160Zm440 0h160v-160H620v160ZM180-180h160v-160H180v160Zm440 0h160v-160H620v160Z\"/>\n",
              "  </svg>\n",
              "    </button>\n",
              "\n",
              "  <style>\n",
              "    .colab-df-container {\n",
              "      display:flex;\n",
              "      gap: 12px;\n",
              "    }\n",
              "\n",
              "    .colab-df-convert {\n",
              "      background-color: #E8F0FE;\n",
              "      border: none;\n",
              "      border-radius: 50%;\n",
              "      cursor: pointer;\n",
              "      display: none;\n",
              "      fill: #1967D2;\n",
              "      height: 32px;\n",
              "      padding: 0 0 0 0;\n",
              "      width: 32px;\n",
              "    }\n",
              "\n",
              "    .colab-df-convert:hover {\n",
              "      background-color: #E2EBFA;\n",
              "      box-shadow: 0px 1px 2px rgba(60, 64, 67, 0.3), 0px 1px 3px 1px rgba(60, 64, 67, 0.15);\n",
              "      fill: #174EA6;\n",
              "    }\n",
              "\n",
              "    .colab-df-buttons div {\n",
              "      margin-bottom: 4px;\n",
              "    }\n",
              "\n",
              "    [theme=dark] .colab-df-convert {\n",
              "      background-color: #3B4455;\n",
              "      fill: #D2E3FC;\n",
              "    }\n",
              "\n",
              "    [theme=dark] .colab-df-convert:hover {\n",
              "      background-color: #434B5C;\n",
              "      box-shadow: 0px 1px 3px 1px rgba(0, 0, 0, 0.15);\n",
              "      filter: drop-shadow(0px 1px 2px rgba(0, 0, 0, 0.3));\n",
              "      fill: #FFFFFF;\n",
              "    }\n",
              "  </style>\n",
              "\n",
              "    <script>\n",
              "      const buttonEl =\n",
              "        document.querySelector('#df-e342c61f-e340-4a64-a1b6-90a8074b3e85 button.colab-df-convert');\n",
              "      buttonEl.style.display =\n",
              "        google.colab.kernel.accessAllowed ? 'block' : 'none';\n",
              "\n",
              "      async function convertToInteractive(key) {\n",
              "        const element = document.querySelector('#df-e342c61f-e340-4a64-a1b6-90a8074b3e85');\n",
              "        const dataTable =\n",
              "          await google.colab.kernel.invokeFunction('convertToInteractive',\n",
              "                                                    [key], {});\n",
              "        if (!dataTable) return;\n",
              "\n",
              "        const docLinkHtml = 'Like what you see? Visit the ' +\n",
              "          '<a target=\"_blank\" href=https://colab.research.google.com/notebooks/data_table.ipynb>data table notebook</a>'\n",
              "          + ' to learn more about interactive tables.';\n",
              "        element.innerHTML = '';\n",
              "        dataTable['output_type'] = 'display_data';\n",
              "        await google.colab.output.renderOutput(dataTable, element);\n",
              "        const docLink = document.createElement('div');\n",
              "        docLink.innerHTML = docLinkHtml;\n",
              "        element.appendChild(docLink);\n",
              "      }\n",
              "    </script>\n",
              "  </div>\n",
              "\n",
              "\n",
              "<div id=\"df-74e584b2-e258-4343-927d-4590b2b63ab4\">\n",
              "  <button class=\"colab-df-quickchart\" onclick=\"quickchart('df-74e584b2-e258-4343-927d-4590b2b63ab4')\"\n",
              "            title=\"Suggest charts\"\n",
              "            style=\"display:none;\">\n",
              "\n",
              "<svg xmlns=\"http://www.w3.org/2000/svg\" height=\"24px\"viewBox=\"0 0 24 24\"\n",
              "     width=\"24px\">\n",
              "    <g>\n",
              "        <path d=\"M19 3H5c-1.1 0-2 .9-2 2v14c0 1.1.9 2 2 2h14c1.1 0 2-.9 2-2V5c0-1.1-.9-2-2-2zM9 17H7v-7h2v7zm4 0h-2V7h2v10zm4 0h-2v-4h2v4z\"/>\n",
              "    </g>\n",
              "</svg>\n",
              "  </button>\n",
              "\n",
              "<style>\n",
              "  .colab-df-quickchart {\n",
              "      --bg-color: #E8F0FE;\n",
              "      --fill-color: #1967D2;\n",
              "      --hover-bg-color: #E2EBFA;\n",
              "      --hover-fill-color: #174EA6;\n",
              "      --disabled-fill-color: #AAA;\n",
              "      --disabled-bg-color: #DDD;\n",
              "  }\n",
              "\n",
              "  [theme=dark] .colab-df-quickchart {\n",
              "      --bg-color: #3B4455;\n",
              "      --fill-color: #D2E3FC;\n",
              "      --hover-bg-color: #434B5C;\n",
              "      --hover-fill-color: #FFFFFF;\n",
              "      --disabled-bg-color: #3B4455;\n",
              "      --disabled-fill-color: #666;\n",
              "  }\n",
              "\n",
              "  .colab-df-quickchart {\n",
              "    background-color: var(--bg-color);\n",
              "    border: none;\n",
              "    border-radius: 50%;\n",
              "    cursor: pointer;\n",
              "    display: none;\n",
              "    fill: var(--fill-color);\n",
              "    height: 32px;\n",
              "    padding: 0;\n",
              "    width: 32px;\n",
              "  }\n",
              "\n",
              "  .colab-df-quickchart:hover {\n",
              "    background-color: var(--hover-bg-color);\n",
              "    box-shadow: 0 1px 2px rgba(60, 64, 67, 0.3), 0 1px 3px 1px rgba(60, 64, 67, 0.15);\n",
              "    fill: var(--button-hover-fill-color);\n",
              "  }\n",
              "\n",
              "  .colab-df-quickchart-complete:disabled,\n",
              "  .colab-df-quickchart-complete:disabled:hover {\n",
              "    background-color: var(--disabled-bg-color);\n",
              "    fill: var(--disabled-fill-color);\n",
              "    box-shadow: none;\n",
              "  }\n",
              "\n",
              "  .colab-df-spinner {\n",
              "    border: 2px solid var(--fill-color);\n",
              "    border-color: transparent;\n",
              "    border-bottom-color: var(--fill-color);\n",
              "    animation:\n",
              "      spin 1s steps(1) infinite;\n",
              "  }\n",
              "\n",
              "  @keyframes spin {\n",
              "    0% {\n",
              "      border-color: transparent;\n",
              "      border-bottom-color: var(--fill-color);\n",
              "      border-left-color: var(--fill-color);\n",
              "    }\n",
              "    20% {\n",
              "      border-color: transparent;\n",
              "      border-left-color: var(--fill-color);\n",
              "      border-top-color: var(--fill-color);\n",
              "    }\n",
              "    30% {\n",
              "      border-color: transparent;\n",
              "      border-left-color: var(--fill-color);\n",
              "      border-top-color: var(--fill-color);\n",
              "      border-right-color: var(--fill-color);\n",
              "    }\n",
              "    40% {\n",
              "      border-color: transparent;\n",
              "      border-right-color: var(--fill-color);\n",
              "      border-top-color: var(--fill-color);\n",
              "    }\n",
              "    60% {\n",
              "      border-color: transparent;\n",
              "      border-right-color: var(--fill-color);\n",
              "    }\n",
              "    80% {\n",
              "      border-color: transparent;\n",
              "      border-right-color: var(--fill-color);\n",
              "      border-bottom-color: var(--fill-color);\n",
              "    }\n",
              "    90% {\n",
              "      border-color: transparent;\n",
              "      border-bottom-color: var(--fill-color);\n",
              "    }\n",
              "  }\n",
              "</style>\n",
              "\n",
              "  <script>\n",
              "    async function quickchart(key) {\n",
              "      const quickchartButtonEl =\n",
              "        document.querySelector('#' + key + ' button');\n",
              "      quickchartButtonEl.disabled = true;  // To prevent multiple clicks.\n",
              "      quickchartButtonEl.classList.add('colab-df-spinner');\n",
              "      try {\n",
              "        const charts = await google.colab.kernel.invokeFunction(\n",
              "            'suggestCharts', [key], {});\n",
              "      } catch (error) {\n",
              "        console.error('Error during call to suggestCharts:', error);\n",
              "      }\n",
              "      quickchartButtonEl.classList.remove('colab-df-spinner');\n",
              "      quickchartButtonEl.classList.add('colab-df-quickchart-complete');\n",
              "    }\n",
              "    (() => {\n",
              "      let quickchartButtonEl =\n",
              "        document.querySelector('#df-74e584b2-e258-4343-927d-4590b2b63ab4 button');\n",
              "      quickchartButtonEl.style.display =\n",
              "        google.colab.kernel.accessAllowed ? 'block' : 'none';\n",
              "    })();\n",
              "  </script>\n",
              "</div>\n",
              "\n",
              "  <div id=\"id_5f600f30-97a9-478c-a3f6-5d33e56a8f28\">\n",
              "    <style>\n",
              "      .colab-df-generate {\n",
              "        background-color: #E8F0FE;\n",
              "        border: none;\n",
              "        border-radius: 50%;\n",
              "        cursor: pointer;\n",
              "        display: none;\n",
              "        fill: #1967D2;\n",
              "        height: 32px;\n",
              "        padding: 0 0 0 0;\n",
              "        width: 32px;\n",
              "      }\n",
              "\n",
              "      .colab-df-generate:hover {\n",
              "        background-color: #E2EBFA;\n",
              "        box-shadow: 0px 1px 2px rgba(60, 64, 67, 0.3), 0px 1px 3px 1px rgba(60, 64, 67, 0.15);\n",
              "        fill: #174EA6;\n",
              "      }\n",
              "\n",
              "      [theme=dark] .colab-df-generate {\n",
              "        background-color: #3B4455;\n",
              "        fill: #D2E3FC;\n",
              "      }\n",
              "\n",
              "      [theme=dark] .colab-df-generate:hover {\n",
              "        background-color: #434B5C;\n",
              "        box-shadow: 0px 1px 3px 1px rgba(0, 0, 0, 0.15);\n",
              "        filter: drop-shadow(0px 1px 2px rgba(0, 0, 0, 0.3));\n",
              "        fill: #FFFFFF;\n",
              "      }\n",
              "    </style>\n",
              "    <button class=\"colab-df-generate\" onclick=\"generateWithVariable('df_responden_')\"\n",
              "            title=\"Generate code using this dataframe.\"\n",
              "            style=\"display:none;\">\n",
              "\n",
              "  <svg xmlns=\"http://www.w3.org/2000/svg\" height=\"24px\"viewBox=\"0 0 24 24\"\n",
              "       width=\"24px\">\n",
              "    <path d=\"M7,19H8.4L18.45,9,17,7.55,7,17.6ZM5,21V16.75L18.45,3.32a2,2,0,0,1,2.83,0l1.4,1.43a1.91,1.91,0,0,1,.58,1.4,1.91,1.91,0,0,1-.58,1.4L9.25,21ZM18.45,9,17,7.55Zm-12,3A5.31,5.31,0,0,0,4.9,8.1,5.31,5.31,0,0,0,1,6.5,5.31,5.31,0,0,0,4.9,4.9,5.31,5.31,0,0,0,6.5,1,5.31,5.31,0,0,0,8.1,4.9,5.31,5.31,0,0,0,12,6.5,5.46,5.46,0,0,0,6.5,12Z\"/>\n",
              "  </svg>\n",
              "    </button>\n",
              "    <script>\n",
              "      (() => {\n",
              "      const buttonEl =\n",
              "        document.querySelector('#id_5f600f30-97a9-478c-a3f6-5d33e56a8f28 button.colab-df-generate');\n",
              "      buttonEl.style.display =\n",
              "        google.colab.kernel.accessAllowed ? 'block' : 'none';\n",
              "\n",
              "      buttonEl.onclick = () => {\n",
              "        google.colab.notebook.generateWithVariable('df_responden_');\n",
              "      }\n",
              "      })();\n",
              "    </script>\n",
              "  </div>\n",
              "\n",
              "    </div>\n",
              "  </div>\n"
            ],
            "application/vnd.google.colaboratory.intrinsic+json": {
              "type": "dataframe",
              "variable_name": "df_responden_",
              "summary": "{\n  \"name\": \"df_responden_\",\n  \"rows\": 4,\n  \"fields\": [\n    {\n      \"column\": \"FIRSTNAME\",\n      \"properties\": {\n        \"dtype\": \"string\",\n        \"num_unique_values\": 3,\n        \"samples\": [\n          \"hawaina\",\n          \"nurus\",\n          \"soraya\"\n        ],\n        \"semantic_type\": \"\",\n        \"description\": \"\"\n      }\n    },\n    {\n      \"column\": \"LASTNAME\",\n      \"properties\": {\n        \"dtype\": \"string\",\n        \"num_unique_values\": 3,\n        \"samples\": [\n          \"nurus\",\n          \"soraya\",\n          \"hawaina\"\n        ],\n        \"semantic_type\": \"\",\n        \"description\": \"\"\n      }\n    },\n    {\n      \"column\": \"TELEPON\",\n      \"properties\": {\n        \"dtype\": \"object\",\n        \"num_unique_values\": 4,\n        \"samples\": [\n          \"081\",\n          \"061\",\n          \"091\"\n        ],\n        \"semantic_type\": \"\",\n        \"description\": \"\"\n      }\n    },\n    {\n      \"column\": \"DOB\",\n      \"properties\": {\n        \"dtype\": \"object\",\n        \"num_unique_values\": 4,\n        \"samples\": [\n          \"08/08/2008\",\n          \"07/07/2007\",\n          \"09/09/2009\"\n        ],\n        \"semantic_type\": \"\",\n        \"description\": \"\"\n      }\n    }\n  ]\n}"
            }
          },
          "metadata": {},
          "execution_count": 10
        }
      ]
    },
    {
      "cell_type": "code",
      "source": [
        "df_responden_"
      ],
      "metadata": {
        "id": "jYTUsGQW9J-0"
      },
      "execution_count": null,
      "outputs": []
    },
    {
      "cell_type": "code",
      "source": [
        "# Pengolahan Data String dengan Method Chaining\n",
        "(daftar_responden\n",
        " .join(df_responden ['NAMA'].str.split(\" \",expand=True))\n",
        " .rename(columns={0:'FIRSTNAME',1:'LASTNAME'})\n",
        " .loc[:, ['FIRSTNAME','LASTNAME','TELEPON','DOB']])"
      ],
      "metadata": {
        "id": "VTaSQ1rQ9V-R",
        "colab": {
          "base_uri": "https://localhost:8080/",
          "height": 175
        },
        "outputId": "1f04db4f-1598-44cc-bdd7-14a14a24913d"
      },
      "execution_count": 14,
      "outputs": [
        {
          "output_type": "execute_result",
          "data": {
            "text/plain": [
              "  FIRSTNAME LASTNAME TELEPON         DOB\n",
              "0   hawaina    nurus     091  09/09/2009\n",
              "1   hawaina   soraya     081  08/08/2008\n",
              "2     nurus   soraya     071  06/06/2006\n",
              "3    soraya  hawaina     061  07/07/2007"
            ],
            "text/html": [
              "\n",
              "  <div id=\"df-d2e91cc0-9a6b-4529-a5d1-0c504eb475c0\" class=\"colab-df-container\">\n",
              "    <div>\n",
              "<style scoped>\n",
              "    .dataframe tbody tr th:only-of-type {\n",
              "        vertical-align: middle;\n",
              "    }\n",
              "\n",
              "    .dataframe tbody tr th {\n",
              "        vertical-align: top;\n",
              "    }\n",
              "\n",
              "    .dataframe thead th {\n",
              "        text-align: right;\n",
              "    }\n",
              "</style>\n",
              "<table border=\"1\" class=\"dataframe\">\n",
              "  <thead>\n",
              "    <tr style=\"text-align: right;\">\n",
              "      <th></th>\n",
              "      <th>FIRSTNAME</th>\n",
              "      <th>LASTNAME</th>\n",
              "      <th>TELEPON</th>\n",
              "      <th>DOB</th>\n",
              "    </tr>\n",
              "  </thead>\n",
              "  <tbody>\n",
              "    <tr>\n",
              "      <th>0</th>\n",
              "      <td>hawaina</td>\n",
              "      <td>nurus</td>\n",
              "      <td>091</td>\n",
              "      <td>09/09/2009</td>\n",
              "    </tr>\n",
              "    <tr>\n",
              "      <th>1</th>\n",
              "      <td>hawaina</td>\n",
              "      <td>soraya</td>\n",
              "      <td>081</td>\n",
              "      <td>08/08/2008</td>\n",
              "    </tr>\n",
              "    <tr>\n",
              "      <th>2</th>\n",
              "      <td>nurus</td>\n",
              "      <td>soraya</td>\n",
              "      <td>071</td>\n",
              "      <td>06/06/2006</td>\n",
              "    </tr>\n",
              "    <tr>\n",
              "      <th>3</th>\n",
              "      <td>soraya</td>\n",
              "      <td>hawaina</td>\n",
              "      <td>061</td>\n",
              "      <td>07/07/2007</td>\n",
              "    </tr>\n",
              "  </tbody>\n",
              "</table>\n",
              "</div>\n",
              "    <div class=\"colab-df-buttons\">\n",
              "\n",
              "  <div class=\"colab-df-container\">\n",
              "    <button class=\"colab-df-convert\" onclick=\"convertToInteractive('df-d2e91cc0-9a6b-4529-a5d1-0c504eb475c0')\"\n",
              "            title=\"Convert this dataframe to an interactive table.\"\n",
              "            style=\"display:none;\">\n",
              "\n",
              "  <svg xmlns=\"http://www.w3.org/2000/svg\" height=\"24px\" viewBox=\"0 -960 960 960\">\n",
              "    <path d=\"M120-120v-720h720v720H120Zm60-500h600v-160H180v160Zm220 220h160v-160H400v160Zm0 220h160v-160H400v160ZM180-400h160v-160H180v160Zm440 0h160v-160H620v160ZM180-180h160v-160H180v160Zm440 0h160v-160H620v160Z\"/>\n",
              "  </svg>\n",
              "    </button>\n",
              "\n",
              "  <style>\n",
              "    .colab-df-container {\n",
              "      display:flex;\n",
              "      gap: 12px;\n",
              "    }\n",
              "\n",
              "    .colab-df-convert {\n",
              "      background-color: #E8F0FE;\n",
              "      border: none;\n",
              "      border-radius: 50%;\n",
              "      cursor: pointer;\n",
              "      display: none;\n",
              "      fill: #1967D2;\n",
              "      height: 32px;\n",
              "      padding: 0 0 0 0;\n",
              "      width: 32px;\n",
              "    }\n",
              "\n",
              "    .colab-df-convert:hover {\n",
              "      background-color: #E2EBFA;\n",
              "      box-shadow: 0px 1px 2px rgba(60, 64, 67, 0.3), 0px 1px 3px 1px rgba(60, 64, 67, 0.15);\n",
              "      fill: #174EA6;\n",
              "    }\n",
              "\n",
              "    .colab-df-buttons div {\n",
              "      margin-bottom: 4px;\n",
              "    }\n",
              "\n",
              "    [theme=dark] .colab-df-convert {\n",
              "      background-color: #3B4455;\n",
              "      fill: #D2E3FC;\n",
              "    }\n",
              "\n",
              "    [theme=dark] .colab-df-convert:hover {\n",
              "      background-color: #434B5C;\n",
              "      box-shadow: 0px 1px 3px 1px rgba(0, 0, 0, 0.15);\n",
              "      filter: drop-shadow(0px 1px 2px rgba(0, 0, 0, 0.3));\n",
              "      fill: #FFFFFF;\n",
              "    }\n",
              "  </style>\n",
              "\n",
              "    <script>\n",
              "      const buttonEl =\n",
              "        document.querySelector('#df-d2e91cc0-9a6b-4529-a5d1-0c504eb475c0 button.colab-df-convert');\n",
              "      buttonEl.style.display =\n",
              "        google.colab.kernel.accessAllowed ? 'block' : 'none';\n",
              "\n",
              "      async function convertToInteractive(key) {\n",
              "        const element = document.querySelector('#df-d2e91cc0-9a6b-4529-a5d1-0c504eb475c0');\n",
              "        const dataTable =\n",
              "          await google.colab.kernel.invokeFunction('convertToInteractive',\n",
              "                                                    [key], {});\n",
              "        if (!dataTable) return;\n",
              "\n",
              "        const docLinkHtml = 'Like what you see? Visit the ' +\n",
              "          '<a target=\"_blank\" href=https://colab.research.google.com/notebooks/data_table.ipynb>data table notebook</a>'\n",
              "          + ' to learn more about interactive tables.';\n",
              "        element.innerHTML = '';\n",
              "        dataTable['output_type'] = 'display_data';\n",
              "        await google.colab.output.renderOutput(dataTable, element);\n",
              "        const docLink = document.createElement('div');\n",
              "        docLink.innerHTML = docLinkHtml;\n",
              "        element.appendChild(docLink);\n",
              "      }\n",
              "    </script>\n",
              "  </div>\n",
              "\n",
              "\n",
              "<div id=\"df-30ec1c61-ace1-43dc-a684-6f1f0156c29b\">\n",
              "  <button class=\"colab-df-quickchart\" onclick=\"quickchart('df-30ec1c61-ace1-43dc-a684-6f1f0156c29b')\"\n",
              "            title=\"Suggest charts\"\n",
              "            style=\"display:none;\">\n",
              "\n",
              "<svg xmlns=\"http://www.w3.org/2000/svg\" height=\"24px\"viewBox=\"0 0 24 24\"\n",
              "     width=\"24px\">\n",
              "    <g>\n",
              "        <path d=\"M19 3H5c-1.1 0-2 .9-2 2v14c0 1.1.9 2 2 2h14c1.1 0 2-.9 2-2V5c0-1.1-.9-2-2-2zM9 17H7v-7h2v7zm4 0h-2V7h2v10zm4 0h-2v-4h2v4z\"/>\n",
              "    </g>\n",
              "</svg>\n",
              "  </button>\n",
              "\n",
              "<style>\n",
              "  .colab-df-quickchart {\n",
              "      --bg-color: #E8F0FE;\n",
              "      --fill-color: #1967D2;\n",
              "      --hover-bg-color: #E2EBFA;\n",
              "      --hover-fill-color: #174EA6;\n",
              "      --disabled-fill-color: #AAA;\n",
              "      --disabled-bg-color: #DDD;\n",
              "  }\n",
              "\n",
              "  [theme=dark] .colab-df-quickchart {\n",
              "      --bg-color: #3B4455;\n",
              "      --fill-color: #D2E3FC;\n",
              "      --hover-bg-color: #434B5C;\n",
              "      --hover-fill-color: #FFFFFF;\n",
              "      --disabled-bg-color: #3B4455;\n",
              "      --disabled-fill-color: #666;\n",
              "  }\n",
              "\n",
              "  .colab-df-quickchart {\n",
              "    background-color: var(--bg-color);\n",
              "    border: none;\n",
              "    border-radius: 50%;\n",
              "    cursor: pointer;\n",
              "    display: none;\n",
              "    fill: var(--fill-color);\n",
              "    height: 32px;\n",
              "    padding: 0;\n",
              "    width: 32px;\n",
              "  }\n",
              "\n",
              "  .colab-df-quickchart:hover {\n",
              "    background-color: var(--hover-bg-color);\n",
              "    box-shadow: 0 1px 2px rgba(60, 64, 67, 0.3), 0 1px 3px 1px rgba(60, 64, 67, 0.15);\n",
              "    fill: var(--button-hover-fill-color);\n",
              "  }\n",
              "\n",
              "  .colab-df-quickchart-complete:disabled,\n",
              "  .colab-df-quickchart-complete:disabled:hover {\n",
              "    background-color: var(--disabled-bg-color);\n",
              "    fill: var(--disabled-fill-color);\n",
              "    box-shadow: none;\n",
              "  }\n",
              "\n",
              "  .colab-df-spinner {\n",
              "    border: 2px solid var(--fill-color);\n",
              "    border-color: transparent;\n",
              "    border-bottom-color: var(--fill-color);\n",
              "    animation:\n",
              "      spin 1s steps(1) infinite;\n",
              "  }\n",
              "\n",
              "  @keyframes spin {\n",
              "    0% {\n",
              "      border-color: transparent;\n",
              "      border-bottom-color: var(--fill-color);\n",
              "      border-left-color: var(--fill-color);\n",
              "    }\n",
              "    20% {\n",
              "      border-color: transparent;\n",
              "      border-left-color: var(--fill-color);\n",
              "      border-top-color: var(--fill-color);\n",
              "    }\n",
              "    30% {\n",
              "      border-color: transparent;\n",
              "      border-left-color: var(--fill-color);\n",
              "      border-top-color: var(--fill-color);\n",
              "      border-right-color: var(--fill-color);\n",
              "    }\n",
              "    40% {\n",
              "      border-color: transparent;\n",
              "      border-right-color: var(--fill-color);\n",
              "      border-top-color: var(--fill-color);\n",
              "    }\n",
              "    60% {\n",
              "      border-color: transparent;\n",
              "      border-right-color: var(--fill-color);\n",
              "    }\n",
              "    80% {\n",
              "      border-color: transparent;\n",
              "      border-right-color: var(--fill-color);\n",
              "      border-bottom-color: var(--fill-color);\n",
              "    }\n",
              "    90% {\n",
              "      border-color: transparent;\n",
              "      border-bottom-color: var(--fill-color);\n",
              "    }\n",
              "  }\n",
              "</style>\n",
              "\n",
              "  <script>\n",
              "    async function quickchart(key) {\n",
              "      const quickchartButtonEl =\n",
              "        document.querySelector('#' + key + ' button');\n",
              "      quickchartButtonEl.disabled = true;  // To prevent multiple clicks.\n",
              "      quickchartButtonEl.classList.add('colab-df-spinner');\n",
              "      try {\n",
              "        const charts = await google.colab.kernel.invokeFunction(\n",
              "            'suggestCharts', [key], {});\n",
              "      } catch (error) {\n",
              "        console.error('Error during call to suggestCharts:', error);\n",
              "      }\n",
              "      quickchartButtonEl.classList.remove('colab-df-spinner');\n",
              "      quickchartButtonEl.classList.add('colab-df-quickchart-complete');\n",
              "    }\n",
              "    (() => {\n",
              "      let quickchartButtonEl =\n",
              "        document.querySelector('#df-30ec1c61-ace1-43dc-a684-6f1f0156c29b button');\n",
              "      quickchartButtonEl.style.display =\n",
              "        google.colab.kernel.accessAllowed ? 'block' : 'none';\n",
              "    })();\n",
              "  </script>\n",
              "</div>\n",
              "\n",
              "    </div>\n",
              "  </div>\n"
            ],
            "application/vnd.google.colaboratory.intrinsic+json": {
              "type": "dataframe",
              "summary": "{\n  \"name\": \" \",\n  \"rows\": 4,\n  \"fields\": [\n    {\n      \"column\": \"FIRSTNAME\",\n      \"properties\": {\n        \"dtype\": \"string\",\n        \"num_unique_values\": 3,\n        \"samples\": [\n          \"hawaina\",\n          \"nurus\",\n          \"soraya\"\n        ],\n        \"semantic_type\": \"\",\n        \"description\": \"\"\n      }\n    },\n    {\n      \"column\": \"LASTNAME\",\n      \"properties\": {\n        \"dtype\": \"string\",\n        \"num_unique_values\": 3,\n        \"samples\": [\n          \"nurus\",\n          \"soraya\",\n          \"hawaina\"\n        ],\n        \"semantic_type\": \"\",\n        \"description\": \"\"\n      }\n    },\n    {\n      \"column\": \"TELEPON\",\n      \"properties\": {\n        \"dtype\": \"object\",\n        \"num_unique_values\": 4,\n        \"samples\": [\n          \"081\",\n          \"061\",\n          \"091\"\n        ],\n        \"semantic_type\": \"\",\n        \"description\": \"\"\n      }\n    },\n    {\n      \"column\": \"DOB\",\n      \"properties\": {\n        \"dtype\": \"object\",\n        \"num_unique_values\": 4,\n        \"samples\": [\n          \"08/08/2008\",\n          \"07/07/2007\",\n          \"09/09/2009\"\n        ],\n        \"semantic_type\": \"\",\n        \"description\": \"\"\n      }\n    }\n  ]\n}"
            }
          },
          "metadata": {},
          "execution_count": 14
        }
      ]
    },
    {
      "cell_type": "markdown",
      "source": [
        "___\n",
        "#### 4. PENGENALAN PENGOLAHAN DATA `datetime`"
      ],
      "metadata": {
        "id": "ZDduVkAu_idd"
      }
    },
    {
      "cell_type": "code",
      "source": [
        "# Casting string to datetime\n",
        "df_responden_['DOB'] = pd.to_datetime(df_responden_['DOB'], dayfirst=True)"
      ],
      "metadata": {
        "id": "NG2SR0Z8MbWa",
        "colab": {
          "base_uri": "https://localhost:8080/"
        },
        "outputId": "5c754306-a4f5-4ca1-be1e-4d2525feee1a"
      },
      "execution_count": 16,
      "outputs": [
        {
          "output_type": "stream",
          "name": "stderr",
          "text": [
            "<ipython-input-16-80a6298100ae>:2: SettingWithCopyWarning: \n",
            "A value is trying to be set on a copy of a slice from a DataFrame.\n",
            "Try using .loc[row_indexer,col_indexer] = value instead\n",
            "\n",
            "See the caveats in the documentation: https://pandas.pydata.org/pandas-docs/stable/user_guide/indexing.html#returning-a-view-versus-a-copy\n",
            "  df_responden_['DOB'] = pd.to_datetime(df_responden_['DOB'], dayfirst=True)\n"
          ]
        }
      ]
    },
    {
      "cell_type": "code",
      "source": [
        "# Datetime operation: Menghitung Umur Responden\n",
        "from datetime import datetime\n",
        "df_responden_['UMUR']=datetime.now().year - df_responden_['DOB'].dt.year\n",
        "df_responden_"
      ],
      "metadata": {
        "id": "Ei3SpI57E_8G",
        "colab": {
          "base_uri": "https://localhost:8080/",
          "height": 175
        },
        "outputId": "4635ee42-84ff-4019-dbf5-a5e0c49bb61c"
      },
      "execution_count": 17,
      "outputs": [
        {
          "output_type": "execute_result",
          "data": {
            "text/plain": [
              "  FIRSTNAME LASTNAME TELEPON        DOB  UMUR\n",
              "0   hawaina    nurus     091 2009-09-09    15\n",
              "1   hawaina   soraya     081 2008-08-08    16\n",
              "2     nurus   soraya     071 2006-06-06    18\n",
              "3    soraya  hawaina     061 2007-07-07    17"
            ],
            "text/html": [
              "\n",
              "  <div id=\"df-a1d32256-75b0-41d8-9ab9-2bd19519e1ed\" class=\"colab-df-container\">\n",
              "    <div>\n",
              "<style scoped>\n",
              "    .dataframe tbody tr th:only-of-type {\n",
              "        vertical-align: middle;\n",
              "    }\n",
              "\n",
              "    .dataframe tbody tr th {\n",
              "        vertical-align: top;\n",
              "    }\n",
              "\n",
              "    .dataframe thead th {\n",
              "        text-align: right;\n",
              "    }\n",
              "</style>\n",
              "<table border=\"1\" class=\"dataframe\">\n",
              "  <thead>\n",
              "    <tr style=\"text-align: right;\">\n",
              "      <th></th>\n",
              "      <th>FIRSTNAME</th>\n",
              "      <th>LASTNAME</th>\n",
              "      <th>TELEPON</th>\n",
              "      <th>DOB</th>\n",
              "      <th>UMUR</th>\n",
              "    </tr>\n",
              "  </thead>\n",
              "  <tbody>\n",
              "    <tr>\n",
              "      <th>0</th>\n",
              "      <td>hawaina</td>\n",
              "      <td>nurus</td>\n",
              "      <td>091</td>\n",
              "      <td>2009-09-09</td>\n",
              "      <td>15</td>\n",
              "    </tr>\n",
              "    <tr>\n",
              "      <th>1</th>\n",
              "      <td>hawaina</td>\n",
              "      <td>soraya</td>\n",
              "      <td>081</td>\n",
              "      <td>2008-08-08</td>\n",
              "      <td>16</td>\n",
              "    </tr>\n",
              "    <tr>\n",
              "      <th>2</th>\n",
              "      <td>nurus</td>\n",
              "      <td>soraya</td>\n",
              "      <td>071</td>\n",
              "      <td>2006-06-06</td>\n",
              "      <td>18</td>\n",
              "    </tr>\n",
              "    <tr>\n",
              "      <th>3</th>\n",
              "      <td>soraya</td>\n",
              "      <td>hawaina</td>\n",
              "      <td>061</td>\n",
              "      <td>2007-07-07</td>\n",
              "      <td>17</td>\n",
              "    </tr>\n",
              "  </tbody>\n",
              "</table>\n",
              "</div>\n",
              "    <div class=\"colab-df-buttons\">\n",
              "\n",
              "  <div class=\"colab-df-container\">\n",
              "    <button class=\"colab-df-convert\" onclick=\"convertToInteractive('df-a1d32256-75b0-41d8-9ab9-2bd19519e1ed')\"\n",
              "            title=\"Convert this dataframe to an interactive table.\"\n",
              "            style=\"display:none;\">\n",
              "\n",
              "  <svg xmlns=\"http://www.w3.org/2000/svg\" height=\"24px\" viewBox=\"0 -960 960 960\">\n",
              "    <path d=\"M120-120v-720h720v720H120Zm60-500h600v-160H180v160Zm220 220h160v-160H400v160Zm0 220h160v-160H400v160ZM180-400h160v-160H180v160Zm440 0h160v-160H620v160ZM180-180h160v-160H180v160Zm440 0h160v-160H620v160Z\"/>\n",
              "  </svg>\n",
              "    </button>\n",
              "\n",
              "  <style>\n",
              "    .colab-df-container {\n",
              "      display:flex;\n",
              "      gap: 12px;\n",
              "    }\n",
              "\n",
              "    .colab-df-convert {\n",
              "      background-color: #E8F0FE;\n",
              "      border: none;\n",
              "      border-radius: 50%;\n",
              "      cursor: pointer;\n",
              "      display: none;\n",
              "      fill: #1967D2;\n",
              "      height: 32px;\n",
              "      padding: 0 0 0 0;\n",
              "      width: 32px;\n",
              "    }\n",
              "\n",
              "    .colab-df-convert:hover {\n",
              "      background-color: #E2EBFA;\n",
              "      box-shadow: 0px 1px 2px rgba(60, 64, 67, 0.3), 0px 1px 3px 1px rgba(60, 64, 67, 0.15);\n",
              "      fill: #174EA6;\n",
              "    }\n",
              "\n",
              "    .colab-df-buttons div {\n",
              "      margin-bottom: 4px;\n",
              "    }\n",
              "\n",
              "    [theme=dark] .colab-df-convert {\n",
              "      background-color: #3B4455;\n",
              "      fill: #D2E3FC;\n",
              "    }\n",
              "\n",
              "    [theme=dark] .colab-df-convert:hover {\n",
              "      background-color: #434B5C;\n",
              "      box-shadow: 0px 1px 3px 1px rgba(0, 0, 0, 0.15);\n",
              "      filter: drop-shadow(0px 1px 2px rgba(0, 0, 0, 0.3));\n",
              "      fill: #FFFFFF;\n",
              "    }\n",
              "  </style>\n",
              "\n",
              "    <script>\n",
              "      const buttonEl =\n",
              "        document.querySelector('#df-a1d32256-75b0-41d8-9ab9-2bd19519e1ed button.colab-df-convert');\n",
              "      buttonEl.style.display =\n",
              "        google.colab.kernel.accessAllowed ? 'block' : 'none';\n",
              "\n",
              "      async function convertToInteractive(key) {\n",
              "        const element = document.querySelector('#df-a1d32256-75b0-41d8-9ab9-2bd19519e1ed');\n",
              "        const dataTable =\n",
              "          await google.colab.kernel.invokeFunction('convertToInteractive',\n",
              "                                                    [key], {});\n",
              "        if (!dataTable) return;\n",
              "\n",
              "        const docLinkHtml = 'Like what you see? Visit the ' +\n",
              "          '<a target=\"_blank\" href=https://colab.research.google.com/notebooks/data_table.ipynb>data table notebook</a>'\n",
              "          + ' to learn more about interactive tables.';\n",
              "        element.innerHTML = '';\n",
              "        dataTable['output_type'] = 'display_data';\n",
              "        await google.colab.output.renderOutput(dataTable, element);\n",
              "        const docLink = document.createElement('div');\n",
              "        docLink.innerHTML = docLinkHtml;\n",
              "        element.appendChild(docLink);\n",
              "      }\n",
              "    </script>\n",
              "  </div>\n",
              "\n",
              "\n",
              "<div id=\"df-85eb898c-33ed-4cad-b7ca-09e4ce64cc38\">\n",
              "  <button class=\"colab-df-quickchart\" onclick=\"quickchart('df-85eb898c-33ed-4cad-b7ca-09e4ce64cc38')\"\n",
              "            title=\"Suggest charts\"\n",
              "            style=\"display:none;\">\n",
              "\n",
              "<svg xmlns=\"http://www.w3.org/2000/svg\" height=\"24px\"viewBox=\"0 0 24 24\"\n",
              "     width=\"24px\">\n",
              "    <g>\n",
              "        <path d=\"M19 3H5c-1.1 0-2 .9-2 2v14c0 1.1.9 2 2 2h14c1.1 0 2-.9 2-2V5c0-1.1-.9-2-2-2zM9 17H7v-7h2v7zm4 0h-2V7h2v10zm4 0h-2v-4h2v4z\"/>\n",
              "    </g>\n",
              "</svg>\n",
              "  </button>\n",
              "\n",
              "<style>\n",
              "  .colab-df-quickchart {\n",
              "      --bg-color: #E8F0FE;\n",
              "      --fill-color: #1967D2;\n",
              "      --hover-bg-color: #E2EBFA;\n",
              "      --hover-fill-color: #174EA6;\n",
              "      --disabled-fill-color: #AAA;\n",
              "      --disabled-bg-color: #DDD;\n",
              "  }\n",
              "\n",
              "  [theme=dark] .colab-df-quickchart {\n",
              "      --bg-color: #3B4455;\n",
              "      --fill-color: #D2E3FC;\n",
              "      --hover-bg-color: #434B5C;\n",
              "      --hover-fill-color: #FFFFFF;\n",
              "      --disabled-bg-color: #3B4455;\n",
              "      --disabled-fill-color: #666;\n",
              "  }\n",
              "\n",
              "  .colab-df-quickchart {\n",
              "    background-color: var(--bg-color);\n",
              "    border: none;\n",
              "    border-radius: 50%;\n",
              "    cursor: pointer;\n",
              "    display: none;\n",
              "    fill: var(--fill-color);\n",
              "    height: 32px;\n",
              "    padding: 0;\n",
              "    width: 32px;\n",
              "  }\n",
              "\n",
              "  .colab-df-quickchart:hover {\n",
              "    background-color: var(--hover-bg-color);\n",
              "    box-shadow: 0 1px 2px rgba(60, 64, 67, 0.3), 0 1px 3px 1px rgba(60, 64, 67, 0.15);\n",
              "    fill: var(--button-hover-fill-color);\n",
              "  }\n",
              "\n",
              "  .colab-df-quickchart-complete:disabled,\n",
              "  .colab-df-quickchart-complete:disabled:hover {\n",
              "    background-color: var(--disabled-bg-color);\n",
              "    fill: var(--disabled-fill-color);\n",
              "    box-shadow: none;\n",
              "  }\n",
              "\n",
              "  .colab-df-spinner {\n",
              "    border: 2px solid var(--fill-color);\n",
              "    border-color: transparent;\n",
              "    border-bottom-color: var(--fill-color);\n",
              "    animation:\n",
              "      spin 1s steps(1) infinite;\n",
              "  }\n",
              "\n",
              "  @keyframes spin {\n",
              "    0% {\n",
              "      border-color: transparent;\n",
              "      border-bottom-color: var(--fill-color);\n",
              "      border-left-color: var(--fill-color);\n",
              "    }\n",
              "    20% {\n",
              "      border-color: transparent;\n",
              "      border-left-color: var(--fill-color);\n",
              "      border-top-color: var(--fill-color);\n",
              "    }\n",
              "    30% {\n",
              "      border-color: transparent;\n",
              "      border-left-color: var(--fill-color);\n",
              "      border-top-color: var(--fill-color);\n",
              "      border-right-color: var(--fill-color);\n",
              "    }\n",
              "    40% {\n",
              "      border-color: transparent;\n",
              "      border-right-color: var(--fill-color);\n",
              "      border-top-color: var(--fill-color);\n",
              "    }\n",
              "    60% {\n",
              "      border-color: transparent;\n",
              "      border-right-color: var(--fill-color);\n",
              "    }\n",
              "    80% {\n",
              "      border-color: transparent;\n",
              "      border-right-color: var(--fill-color);\n",
              "      border-bottom-color: var(--fill-color);\n",
              "    }\n",
              "    90% {\n",
              "      border-color: transparent;\n",
              "      border-bottom-color: var(--fill-color);\n",
              "    }\n",
              "  }\n",
              "</style>\n",
              "\n",
              "  <script>\n",
              "    async function quickchart(key) {\n",
              "      const quickchartButtonEl =\n",
              "        document.querySelector('#' + key + ' button');\n",
              "      quickchartButtonEl.disabled = true;  // To prevent multiple clicks.\n",
              "      quickchartButtonEl.classList.add('colab-df-spinner');\n",
              "      try {\n",
              "        const charts = await google.colab.kernel.invokeFunction(\n",
              "            'suggestCharts', [key], {});\n",
              "      } catch (error) {\n",
              "        console.error('Error during call to suggestCharts:', error);\n",
              "      }\n",
              "      quickchartButtonEl.classList.remove('colab-df-spinner');\n",
              "      quickchartButtonEl.classList.add('colab-df-quickchart-complete');\n",
              "    }\n",
              "    (() => {\n",
              "      let quickchartButtonEl =\n",
              "        document.querySelector('#df-85eb898c-33ed-4cad-b7ca-09e4ce64cc38 button');\n",
              "      quickchartButtonEl.style.display =\n",
              "        google.colab.kernel.accessAllowed ? 'block' : 'none';\n",
              "    })();\n",
              "  </script>\n",
              "</div>\n",
              "\n",
              "  <div id=\"id_2646011d-b652-4f10-a6fe-f7d2c407ee45\">\n",
              "    <style>\n",
              "      .colab-df-generate {\n",
              "        background-color: #E8F0FE;\n",
              "        border: none;\n",
              "        border-radius: 50%;\n",
              "        cursor: pointer;\n",
              "        display: none;\n",
              "        fill: #1967D2;\n",
              "        height: 32px;\n",
              "        padding: 0 0 0 0;\n",
              "        width: 32px;\n",
              "      }\n",
              "\n",
              "      .colab-df-generate:hover {\n",
              "        background-color: #E2EBFA;\n",
              "        box-shadow: 0px 1px 2px rgba(60, 64, 67, 0.3), 0px 1px 3px 1px rgba(60, 64, 67, 0.15);\n",
              "        fill: #174EA6;\n",
              "      }\n",
              "\n",
              "      [theme=dark] .colab-df-generate {\n",
              "        background-color: #3B4455;\n",
              "        fill: #D2E3FC;\n",
              "      }\n",
              "\n",
              "      [theme=dark] .colab-df-generate:hover {\n",
              "        background-color: #434B5C;\n",
              "        box-shadow: 0px 1px 3px 1px rgba(0, 0, 0, 0.15);\n",
              "        filter: drop-shadow(0px 1px 2px rgba(0, 0, 0, 0.3));\n",
              "        fill: #FFFFFF;\n",
              "      }\n",
              "    </style>\n",
              "    <button class=\"colab-df-generate\" onclick=\"generateWithVariable('df_responden_')\"\n",
              "            title=\"Generate code using this dataframe.\"\n",
              "            style=\"display:none;\">\n",
              "\n",
              "  <svg xmlns=\"http://www.w3.org/2000/svg\" height=\"24px\"viewBox=\"0 0 24 24\"\n",
              "       width=\"24px\">\n",
              "    <path d=\"M7,19H8.4L18.45,9,17,7.55,7,17.6ZM5,21V16.75L18.45,3.32a2,2,0,0,1,2.83,0l1.4,1.43a1.91,1.91,0,0,1,.58,1.4,1.91,1.91,0,0,1-.58,1.4L9.25,21ZM18.45,9,17,7.55Zm-12,3A5.31,5.31,0,0,0,4.9,8.1,5.31,5.31,0,0,0,1,6.5,5.31,5.31,0,0,0,4.9,4.9,5.31,5.31,0,0,0,6.5,1,5.31,5.31,0,0,0,8.1,4.9,5.31,5.31,0,0,0,12,6.5,5.46,5.46,0,0,0,6.5,12Z\"/>\n",
              "  </svg>\n",
              "    </button>\n",
              "    <script>\n",
              "      (() => {\n",
              "      const buttonEl =\n",
              "        document.querySelector('#id_2646011d-b652-4f10-a6fe-f7d2c407ee45 button.colab-df-generate');\n",
              "      buttonEl.style.display =\n",
              "        google.colab.kernel.accessAllowed ? 'block' : 'none';\n",
              "\n",
              "      buttonEl.onclick = () => {\n",
              "        google.colab.notebook.generateWithVariable('df_responden_');\n",
              "      }\n",
              "      })();\n",
              "    </script>\n",
              "  </div>\n",
              "\n",
              "    </div>\n",
              "  </div>\n"
            ],
            "application/vnd.google.colaboratory.intrinsic+json": {
              "type": "dataframe",
              "variable_name": "df_responden_",
              "summary": "{\n  \"name\": \"df_responden_\",\n  \"rows\": 4,\n  \"fields\": [\n    {\n      \"column\": \"FIRSTNAME\",\n      \"properties\": {\n        \"dtype\": \"string\",\n        \"num_unique_values\": 3,\n        \"samples\": [\n          \"hawaina\",\n          \"nurus\",\n          \"soraya\"\n        ],\n        \"semantic_type\": \"\",\n        \"description\": \"\"\n      }\n    },\n    {\n      \"column\": \"LASTNAME\",\n      \"properties\": {\n        \"dtype\": \"string\",\n        \"num_unique_values\": 3,\n        \"samples\": [\n          \"nurus\",\n          \"soraya\",\n          \"hawaina\"\n        ],\n        \"semantic_type\": \"\",\n        \"description\": \"\"\n      }\n    },\n    {\n      \"column\": \"TELEPON\",\n      \"properties\": {\n        \"dtype\": \"object\",\n        \"num_unique_values\": 4,\n        \"samples\": [\n          \"081\",\n          \"061\",\n          \"091\"\n        ],\n        \"semantic_type\": \"\",\n        \"description\": \"\"\n      }\n    },\n    {\n      \"column\": \"DOB\",\n      \"properties\": {\n        \"dtype\": \"date\",\n        \"min\": \"2006-06-06 00:00:00\",\n        \"max\": \"2009-09-09 00:00:00\",\n        \"num_unique_values\": 4,\n        \"samples\": [\n          \"2008-08-08 00:00:00\",\n          \"2007-07-07 00:00:00\",\n          \"2009-09-09 00:00:00\"\n        ],\n        \"semantic_type\": \"\",\n        \"description\": \"\"\n      }\n    },\n    {\n      \"column\": \"UMUR\",\n      \"properties\": {\n        \"dtype\": \"int32\",\n        \"num_unique_values\": 4,\n        \"samples\": [\n          16,\n          17,\n          15\n        ],\n        \"semantic_type\": \"\",\n        \"description\": \"\"\n      }\n    }\n  ]\n}"
            }
          },
          "metadata": {},
          "execution_count": 17
        }
      ]
    },
    {
      "cell_type": "code",
      "source": [
        "# Method Chaining\n",
        "(daftar_responden\n",
        " .join(daftar_responden ['NAMA'].str.split(\" \",expand=True))\n",
        " .rename(columns={0:'FIRSTNAME',1:'LASTNAME'})\n",
        " .loc[:, ['FIRSTNAME','LASTNAME','TELEPON','DOB']]\n",
        "  .assign(DOB=lambda x: pd.to_datetime(x['DOB'], dayfirst=True),\n",
        "          UMUR=lambda x:datetime.now().year - x['DOB'].dt.year))"
      ],
      "metadata": {
        "id": "WUfzL8SzeeSj",
        "colab": {
          "base_uri": "https://localhost:8080/",
          "height": 175
        },
        "outputId": "bbb72752-28bb-4f19-f5d3-acbe11539a1b"
      },
      "execution_count": 22,
      "outputs": [
        {
          "output_type": "execute_result",
          "data": {
            "text/plain": [
              "  FIRSTNAME LASTNAME TELEPON        DOB  UMUR\n",
              "0   hawaina    nurus     091 2009-09-09    15\n",
              "1   hawaina   soraya     081 2008-08-08    16\n",
              "2     nurus   soraya     071 2006-06-06    18\n",
              "3    soraya  hawaina     061 2007-07-07    17"
            ],
            "text/html": [
              "\n",
              "  <div id=\"df-7924c137-59b1-4121-98f6-46f5beeb95c0\" class=\"colab-df-container\">\n",
              "    <div>\n",
              "<style scoped>\n",
              "    .dataframe tbody tr th:only-of-type {\n",
              "        vertical-align: middle;\n",
              "    }\n",
              "\n",
              "    .dataframe tbody tr th {\n",
              "        vertical-align: top;\n",
              "    }\n",
              "\n",
              "    .dataframe thead th {\n",
              "        text-align: right;\n",
              "    }\n",
              "</style>\n",
              "<table border=\"1\" class=\"dataframe\">\n",
              "  <thead>\n",
              "    <tr style=\"text-align: right;\">\n",
              "      <th></th>\n",
              "      <th>FIRSTNAME</th>\n",
              "      <th>LASTNAME</th>\n",
              "      <th>TELEPON</th>\n",
              "      <th>DOB</th>\n",
              "      <th>UMUR</th>\n",
              "    </tr>\n",
              "  </thead>\n",
              "  <tbody>\n",
              "    <tr>\n",
              "      <th>0</th>\n",
              "      <td>hawaina</td>\n",
              "      <td>nurus</td>\n",
              "      <td>091</td>\n",
              "      <td>2009-09-09</td>\n",
              "      <td>15</td>\n",
              "    </tr>\n",
              "    <tr>\n",
              "      <th>1</th>\n",
              "      <td>hawaina</td>\n",
              "      <td>soraya</td>\n",
              "      <td>081</td>\n",
              "      <td>2008-08-08</td>\n",
              "      <td>16</td>\n",
              "    </tr>\n",
              "    <tr>\n",
              "      <th>2</th>\n",
              "      <td>nurus</td>\n",
              "      <td>soraya</td>\n",
              "      <td>071</td>\n",
              "      <td>2006-06-06</td>\n",
              "      <td>18</td>\n",
              "    </tr>\n",
              "    <tr>\n",
              "      <th>3</th>\n",
              "      <td>soraya</td>\n",
              "      <td>hawaina</td>\n",
              "      <td>061</td>\n",
              "      <td>2007-07-07</td>\n",
              "      <td>17</td>\n",
              "    </tr>\n",
              "  </tbody>\n",
              "</table>\n",
              "</div>\n",
              "    <div class=\"colab-df-buttons\">\n",
              "\n",
              "  <div class=\"colab-df-container\">\n",
              "    <button class=\"colab-df-convert\" onclick=\"convertToInteractive('df-7924c137-59b1-4121-98f6-46f5beeb95c0')\"\n",
              "            title=\"Convert this dataframe to an interactive table.\"\n",
              "            style=\"display:none;\">\n",
              "\n",
              "  <svg xmlns=\"http://www.w3.org/2000/svg\" height=\"24px\" viewBox=\"0 -960 960 960\">\n",
              "    <path d=\"M120-120v-720h720v720H120Zm60-500h600v-160H180v160Zm220 220h160v-160H400v160Zm0 220h160v-160H400v160ZM180-400h160v-160H180v160Zm440 0h160v-160H620v160ZM180-180h160v-160H180v160Zm440 0h160v-160H620v160Z\"/>\n",
              "  </svg>\n",
              "    </button>\n",
              "\n",
              "  <style>\n",
              "    .colab-df-container {\n",
              "      display:flex;\n",
              "      gap: 12px;\n",
              "    }\n",
              "\n",
              "    .colab-df-convert {\n",
              "      background-color: #E8F0FE;\n",
              "      border: none;\n",
              "      border-radius: 50%;\n",
              "      cursor: pointer;\n",
              "      display: none;\n",
              "      fill: #1967D2;\n",
              "      height: 32px;\n",
              "      padding: 0 0 0 0;\n",
              "      width: 32px;\n",
              "    }\n",
              "\n",
              "    .colab-df-convert:hover {\n",
              "      background-color: #E2EBFA;\n",
              "      box-shadow: 0px 1px 2px rgba(60, 64, 67, 0.3), 0px 1px 3px 1px rgba(60, 64, 67, 0.15);\n",
              "      fill: #174EA6;\n",
              "    }\n",
              "\n",
              "    .colab-df-buttons div {\n",
              "      margin-bottom: 4px;\n",
              "    }\n",
              "\n",
              "    [theme=dark] .colab-df-convert {\n",
              "      background-color: #3B4455;\n",
              "      fill: #D2E3FC;\n",
              "    }\n",
              "\n",
              "    [theme=dark] .colab-df-convert:hover {\n",
              "      background-color: #434B5C;\n",
              "      box-shadow: 0px 1px 3px 1px rgba(0, 0, 0, 0.15);\n",
              "      filter: drop-shadow(0px 1px 2px rgba(0, 0, 0, 0.3));\n",
              "      fill: #FFFFFF;\n",
              "    }\n",
              "  </style>\n",
              "\n",
              "    <script>\n",
              "      const buttonEl =\n",
              "        document.querySelector('#df-7924c137-59b1-4121-98f6-46f5beeb95c0 button.colab-df-convert');\n",
              "      buttonEl.style.display =\n",
              "        google.colab.kernel.accessAllowed ? 'block' : 'none';\n",
              "\n",
              "      async function convertToInteractive(key) {\n",
              "        const element = document.querySelector('#df-7924c137-59b1-4121-98f6-46f5beeb95c0');\n",
              "        const dataTable =\n",
              "          await google.colab.kernel.invokeFunction('convertToInteractive',\n",
              "                                                    [key], {});\n",
              "        if (!dataTable) return;\n",
              "\n",
              "        const docLinkHtml = 'Like what you see? Visit the ' +\n",
              "          '<a target=\"_blank\" href=https://colab.research.google.com/notebooks/data_table.ipynb>data table notebook</a>'\n",
              "          + ' to learn more about interactive tables.';\n",
              "        element.innerHTML = '';\n",
              "        dataTable['output_type'] = 'display_data';\n",
              "        await google.colab.output.renderOutput(dataTable, element);\n",
              "        const docLink = document.createElement('div');\n",
              "        docLink.innerHTML = docLinkHtml;\n",
              "        element.appendChild(docLink);\n",
              "      }\n",
              "    </script>\n",
              "  </div>\n",
              "\n",
              "\n",
              "<div id=\"df-a8679b6e-ef39-4a47-bb13-d910fd698da3\">\n",
              "  <button class=\"colab-df-quickchart\" onclick=\"quickchart('df-a8679b6e-ef39-4a47-bb13-d910fd698da3')\"\n",
              "            title=\"Suggest charts\"\n",
              "            style=\"display:none;\">\n",
              "\n",
              "<svg xmlns=\"http://www.w3.org/2000/svg\" height=\"24px\"viewBox=\"0 0 24 24\"\n",
              "     width=\"24px\">\n",
              "    <g>\n",
              "        <path d=\"M19 3H5c-1.1 0-2 .9-2 2v14c0 1.1.9 2 2 2h14c1.1 0 2-.9 2-2V5c0-1.1-.9-2-2-2zM9 17H7v-7h2v7zm4 0h-2V7h2v10zm4 0h-2v-4h2v4z\"/>\n",
              "    </g>\n",
              "</svg>\n",
              "  </button>\n",
              "\n",
              "<style>\n",
              "  .colab-df-quickchart {\n",
              "      --bg-color: #E8F0FE;\n",
              "      --fill-color: #1967D2;\n",
              "      --hover-bg-color: #E2EBFA;\n",
              "      --hover-fill-color: #174EA6;\n",
              "      --disabled-fill-color: #AAA;\n",
              "      --disabled-bg-color: #DDD;\n",
              "  }\n",
              "\n",
              "  [theme=dark] .colab-df-quickchart {\n",
              "      --bg-color: #3B4455;\n",
              "      --fill-color: #D2E3FC;\n",
              "      --hover-bg-color: #434B5C;\n",
              "      --hover-fill-color: #FFFFFF;\n",
              "      --disabled-bg-color: #3B4455;\n",
              "      --disabled-fill-color: #666;\n",
              "  }\n",
              "\n",
              "  .colab-df-quickchart {\n",
              "    background-color: var(--bg-color);\n",
              "    border: none;\n",
              "    border-radius: 50%;\n",
              "    cursor: pointer;\n",
              "    display: none;\n",
              "    fill: var(--fill-color);\n",
              "    height: 32px;\n",
              "    padding: 0;\n",
              "    width: 32px;\n",
              "  }\n",
              "\n",
              "  .colab-df-quickchart:hover {\n",
              "    background-color: var(--hover-bg-color);\n",
              "    box-shadow: 0 1px 2px rgba(60, 64, 67, 0.3), 0 1px 3px 1px rgba(60, 64, 67, 0.15);\n",
              "    fill: var(--button-hover-fill-color);\n",
              "  }\n",
              "\n",
              "  .colab-df-quickchart-complete:disabled,\n",
              "  .colab-df-quickchart-complete:disabled:hover {\n",
              "    background-color: var(--disabled-bg-color);\n",
              "    fill: var(--disabled-fill-color);\n",
              "    box-shadow: none;\n",
              "  }\n",
              "\n",
              "  .colab-df-spinner {\n",
              "    border: 2px solid var(--fill-color);\n",
              "    border-color: transparent;\n",
              "    border-bottom-color: var(--fill-color);\n",
              "    animation:\n",
              "      spin 1s steps(1) infinite;\n",
              "  }\n",
              "\n",
              "  @keyframes spin {\n",
              "    0% {\n",
              "      border-color: transparent;\n",
              "      border-bottom-color: var(--fill-color);\n",
              "      border-left-color: var(--fill-color);\n",
              "    }\n",
              "    20% {\n",
              "      border-color: transparent;\n",
              "      border-left-color: var(--fill-color);\n",
              "      border-top-color: var(--fill-color);\n",
              "    }\n",
              "    30% {\n",
              "      border-color: transparent;\n",
              "      border-left-color: var(--fill-color);\n",
              "      border-top-color: var(--fill-color);\n",
              "      border-right-color: var(--fill-color);\n",
              "    }\n",
              "    40% {\n",
              "      border-color: transparent;\n",
              "      border-right-color: var(--fill-color);\n",
              "      border-top-color: var(--fill-color);\n",
              "    }\n",
              "    60% {\n",
              "      border-color: transparent;\n",
              "      border-right-color: var(--fill-color);\n",
              "    }\n",
              "    80% {\n",
              "      border-color: transparent;\n",
              "      border-right-color: var(--fill-color);\n",
              "      border-bottom-color: var(--fill-color);\n",
              "    }\n",
              "    90% {\n",
              "      border-color: transparent;\n",
              "      border-bottom-color: var(--fill-color);\n",
              "    }\n",
              "  }\n",
              "</style>\n",
              "\n",
              "  <script>\n",
              "    async function quickchart(key) {\n",
              "      const quickchartButtonEl =\n",
              "        document.querySelector('#' + key + ' button');\n",
              "      quickchartButtonEl.disabled = true;  // To prevent multiple clicks.\n",
              "      quickchartButtonEl.classList.add('colab-df-spinner');\n",
              "      try {\n",
              "        const charts = await google.colab.kernel.invokeFunction(\n",
              "            'suggestCharts', [key], {});\n",
              "      } catch (error) {\n",
              "        console.error('Error during call to suggestCharts:', error);\n",
              "      }\n",
              "      quickchartButtonEl.classList.remove('colab-df-spinner');\n",
              "      quickchartButtonEl.classList.add('colab-df-quickchart-complete');\n",
              "    }\n",
              "    (() => {\n",
              "      let quickchartButtonEl =\n",
              "        document.querySelector('#df-a8679b6e-ef39-4a47-bb13-d910fd698da3 button');\n",
              "      quickchartButtonEl.style.display =\n",
              "        google.colab.kernel.accessAllowed ? 'block' : 'none';\n",
              "    })();\n",
              "  </script>\n",
              "</div>\n",
              "\n",
              "    </div>\n",
              "  </div>\n"
            ],
            "application/vnd.google.colaboratory.intrinsic+json": {
              "type": "dataframe",
              "summary": "{\n  \"name\": \"          UMUR=lambda x:datetime\",\n  \"rows\": 4,\n  \"fields\": [\n    {\n      \"column\": \"FIRSTNAME\",\n      \"properties\": {\n        \"dtype\": \"string\",\n        \"num_unique_values\": 3,\n        \"samples\": [\n          \"hawaina\",\n          \"nurus\",\n          \"soraya\"\n        ],\n        \"semantic_type\": \"\",\n        \"description\": \"\"\n      }\n    },\n    {\n      \"column\": \"LASTNAME\",\n      \"properties\": {\n        \"dtype\": \"string\",\n        \"num_unique_values\": 3,\n        \"samples\": [\n          \"nurus\",\n          \"soraya\",\n          \"hawaina\"\n        ],\n        \"semantic_type\": \"\",\n        \"description\": \"\"\n      }\n    },\n    {\n      \"column\": \"TELEPON\",\n      \"properties\": {\n        \"dtype\": \"object\",\n        \"num_unique_values\": 4,\n        \"samples\": [\n          \"081\",\n          \"061\",\n          \"091\"\n        ],\n        \"semantic_type\": \"\",\n        \"description\": \"\"\n      }\n    },\n    {\n      \"column\": \"DOB\",\n      \"properties\": {\n        \"dtype\": \"date\",\n        \"min\": \"2006-06-06 00:00:00\",\n        \"max\": \"2009-09-09 00:00:00\",\n        \"num_unique_values\": 4,\n        \"samples\": [\n          \"2008-08-08 00:00:00\",\n          \"2007-07-07 00:00:00\",\n          \"2009-09-09 00:00:00\"\n        ],\n        \"semantic_type\": \"\",\n        \"description\": \"\"\n      }\n    },\n    {\n      \"column\": \"UMUR\",\n      \"properties\": {\n        \"dtype\": \"int32\",\n        \"num_unique_values\": 4,\n        \"samples\": [\n          16,\n          17,\n          15\n        ],\n        \"semantic_type\": \"\",\n        \"description\": \"\"\n      }\n    }\n  ]\n}"
            }
          },
          "metadata": {},
          "execution_count": 22
        }
      ]
    },
    {
      "cell_type": "markdown",
      "source": [
        "___"
      ],
      "metadata": {
        "id": "ccDI1jhkNayf"
      }
    }
  ]
}